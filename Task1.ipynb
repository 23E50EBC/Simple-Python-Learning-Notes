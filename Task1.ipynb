{
 "cells": [
  {
   "cell_type": "markdown",
   "id": "749a0798-4c1e-427d-afe8-ded8985d1d51",
   "metadata": {},
   "source": [
    "# 1、输出1~100之内的所有素数"
   ]
  },
  {
   "cell_type": "markdown",
   "id": "4247eae7-5a67-47af-bbf4-ca9b7d24e454",
   "metadata": {},
   "source": [
    "这道题的解法我打算直接copy自当年我学c语言时自己发明的一种算法来做,其主要内容是两个for循环\n",
    "\n",
    "第一个for循环循环i,令i从1循环到100\n",
    "\n",
    "第二个for循环循环j,j会从2开始,到i-1结束(都可以取到),j每++就试图对i取余,当取余结果是0,break,这时说明我们找到了一个合数\n",
    "\n",
    "此时的i-1必不等于j,那么不做任何事\n",
    "\n",
    "如果循环完了之后,i-1==j了,说明i确实没有因数,那我们就找到了一个质数"
   ]
  },
  {
   "cell_type": "code",
   "execution_count": 3,
   "id": "213f27a4-9f2c-4976-85ef-f18636ac222e",
   "metadata": {},
   "outputs": [
    {
     "name": "stdout",
     "output_type": "stream",
     "text": [
      "3\n",
      "5\n",
      "7\n",
      "11\n",
      "13\n",
      "17\n",
      "19\n",
      "23\n",
      "29\n",
      "31\n",
      "37\n",
      "41\n",
      "43\n",
      "47\n",
      "53\n",
      "59\n",
      "61\n",
      "67\n",
      "71\n",
      "73\n",
      "79\n",
      "83\n",
      "89\n",
      "97\n"
     ]
    }
   ],
   "source": [
    "for i in range(1,100):\n",
    "    for j in range(2,i):\n",
    "        if i % j == 0 :\n",
    "            break\n",
    "        if (i-1) == j :\n",
    "            print(i)\n",
    "    \n",
    "    \n"
   ]
  },
  {
   "cell_type": "markdown",
   "id": "846be97f-aa8e-4212-bf36-ee9f291c9486",
   "metadata": {},
   "source": [
    "# 2、写程序生成九九乘法表"
   ]
  },
  {
   "cell_type": "code",
   "execution_count": null,
   "id": "e0984e43-5cc7-436f-86f7-d617564318f5",
   "metadata": {},
   "outputs": [],
   "source": [
    "同样的,我们考虑循环,仍然是拿来俩for,第一个循环行,第二个循环列,然后就逐行打印出来结果,考虑使用f表达式来让乘法表变得更像乘法表,\n",
    "\n",
    "百度发现python的print是可以带参的,于是让他处于同一行"
   ]
  },
  {
   "cell_type": "code",
   "execution_count": 12,
   "id": "e53875bc-50bc-4349-a0c0-e7473b2c227a",
   "metadata": {},
   "outputs": [
    {
     "name": "stdout",
     "output_type": "stream",
     "text": [
      "1*1=1  1*2=2  1*3=3  1*4=4  1*5=5  1*6=6  1*7=7  1*8=8  1*9=9  \n",
      "\n",
      "2*2=4  2*3=6  2*4=8  2*5=10  2*6=12  2*7=14  2*8=16  2*9=18  \n",
      "\n",
      "3*3=9  3*4=12  3*5=15  3*6=18  3*7=21  3*8=24  3*9=27  \n",
      "\n",
      "4*4=16  4*5=20  4*6=24  4*7=28  4*8=32  4*9=36  \n",
      "\n",
      "5*5=25  5*6=30  5*7=35  5*8=40  5*9=45  \n",
      "\n",
      "6*6=36  6*7=42  6*8=48  6*9=54  \n",
      "\n",
      "7*7=49  7*8=56  7*9=63  \n",
      "\n",
      "8*8=64  8*9=72  \n",
      "\n",
      "9*9=81  \n",
      "\n"
     ]
    }
   ],
   "source": [
    "for i in range(1,10) :\n",
    "    for j in range(i,10) :\n",
    "        print(f\"{i}*{j}={i*j}  \",end='')\n",
    "    print('\\n')"
   ]
  },
  {
   "cell_type": "markdown",
   "id": "36b4fe02-bc58-4ffd-a60b-faa9e156999a",
   "metadata": {},
   "source": [
    "# 3、分别使用库函数和循环，找出一个给定字符串中的特定子串\n",
    "## 输入：字符串：`'abcdefgh'`，特定字串：`'cdefg'`\n",
    "## 输出：2\n",
    "## 如果没有找到特定子串，应返回-1，或“没找到”"
   ]
  },
  {
   "cell_type": "code",
   "execution_count": null,
   "id": "edf540ca-e502-4f08-bf1f-0456e0782f96",
   "metadata": {},
   "outputs": [],
   "source": [
    "使用我的看家本领,那个哈希省略匹配法"
   ]
  },
  {
   "cell_type": "code",
   "execution_count": 22,
   "id": "fe1b6ae0-392a-4c14-9a1d-d3cb8ff14887",
   "metadata": {},
   "outputs": [
    {
     "name": "stdout",
     "output_type": "stream",
     "text": [
      "-1\n"
     ]
    }
   ],
   "source": [
    "waiting_find = 'abjdefgh'\n",
    "want_to_find =  'cdefg'\n",
    "want_lenth = len(want_to_find)\n",
    "waiting_find_lenth = len(waiting_find)\n",
    "want_hash = hash(want_to_find)\n",
    "for i in range(0,waiting_find_lenth) :\n",
    "    if waiting_find[i] == want_to_find[0] :\n",
    "        hope_str = waiting_find[i:i+want_lenth]\n",
    "        hope_hash = hash(hope_str)\n",
    "        if hope_hash == want_hash :\n",
    "            print(i)\n",
    "            break\n",
    "    if waiting_find_lenth - i < want_lenth :\n",
    "        print(-1)\n",
    "        break\n",
    "    "
   ]
  },
  {
   "cell_type": "markdown",
   "id": "66e8dbaa-e330-4933-80ad-49d9abfa9859",
   "metadata": {},
   "source": [
    "# 4、分别按照冒泡法和选择法对一组数据（整数或浮点数）进行排序"
   ]
  },
  {
   "cell_type": "code",
   "execution_count": null,
   "id": "228cfc5a-9653-4e72-81ef-c46e837d2701",
   "metadata": {},
   "outputs": [],
   "source": [
    "冒牌排序的思路是,先遍历这串数据,只要遇到后边比前边大的,就交换顺序,这样从头换到尾,就表面你换完了\n",
    "当然,似乎有一些更巧妙的方法来确定交换次数,但是我打算用我刚学的那个布尔数据类型\n",
    "\n",
    "选择排序相对困难,首先我们需要两个位置指针指着这个列表,然后这两个同时从头开始遍历,一个找最大,一个找最小,找完了我们把这俩找到的数据分别放到首个和尾个\n",
    "然后问题就变成了,对刚才那个列表长度-2的列表再来一遍,\n",
    "again直到这俩指针撞到一起了,这说明没有别的数了\n",
    "哎,看着就麻烦,我直接一个指针,从尾到头遍历"
   ]
  },
  {
   "cell_type": "code",
   "execution_count": 18,
   "id": "46b3b726-ab14-45f9-a477-b59690aa52ae",
   "metadata": {},
   "outputs": [
    {
     "name": "stdout",
     "output_type": "stream",
     "text": [
      ">>>[91, 63, 79, 65, 75, 13, 34, 14, 89, 58]\n",
      "[63, 79, 65, 75, 13, 34, 14, 89, 58, 91]\n",
      "[63, 65, 75, 13, 34, 14, 79, 58, 89, 91]\n",
      "[63, 65, 13, 34, 14, 75, 58, 79, 89, 91]\n",
      "[63, 13, 34, 14, 65, 58, 75, 79, 89, 91]\n",
      "[13, 34, 14, 63, 58, 65, 75, 79, 89, 91]\n",
      "[13, 14, 34, 58, 63, 65, 75, 79, 89, 91]\n",
      "[13, 14, 34, 58, 63, 65, 75, 79, 89, 91]\n"
     ]
    }
   ],
   "source": [
    "import random\n",
    "aaa = [random.randint(0,100) for _ in range(10)]\n",
    "print(f\">>>{aaa}\")\n",
    "\n",
    "for j in range(9) :\n",
    "    switch = False\n",
    "    for i in range(9) :  #这里一开始报了个错因为地下的i+1会访问到aaa[10]\n",
    "        if aaa[i] > aaa[i+1] : #如果后一个比前一个大那么就变换\n",
    "            bbb = aaa[i]\n",
    "            aaa[i] = aaa[i+1]  #这里就是经典的仨地方换俩数\n",
    "            aaa[i+1] = bbb\n",
    "            switch = True\n",
    "\n",
    "    print(aaa)\n",
    "    if switch == False :  #这说明这一边循环没有元素位置被改变,那么此时我们跳出循环\n",
    "        break\n"
   ]
  },
  {
   "cell_type": "code",
   "execution_count": 34,
   "id": "2f60c1a3-5aa0-4fa6-bc66-f2522c1dfdc4",
   "metadata": {},
   "outputs": [
    {
     "name": "stdout",
     "output_type": "stream",
     "text": [
      ">>>[7, 50, 39, 29, 99, 23, 42, 34, 85, 19]\n",
      "the max is 99\n",
      "[7, 50, 39, 29, 19, 23, 42, 34, 85, 99]\n",
      "the max is 85\n",
      "[7, 50, 39, 29, 19, 23, 42, 34, 85, 99]\n",
      "the max is 50\n",
      "[7, 34, 39, 29, 19, 23, 42, 50, 85, 99]\n",
      "the max is 42\n",
      "[7, 34, 39, 29, 19, 23, 42, 50, 85, 99]\n",
      "the max is 39\n",
      "[7, 34, 23, 29, 19, 39, 42, 50, 85, 99]\n",
      "the max is 34\n",
      "[7, 19, 23, 29, 34, 39, 42, 50, 85, 99]\n",
      "the max is 29\n",
      "[7, 19, 23, 29, 34, 39, 42, 50, 85, 99]\n",
      "the max is 23\n",
      "[7, 19, 23, 29, 34, 39, 42, 50, 85, 99]\n",
      "the max is 19\n",
      "[7, 19, 23, 29, 34, 39, 42, 50, 85, 99]\n",
      "the max is 7\n",
      "[7, 19, 23, 29, 34, 39, 42, 50, 85, 99]\n"
     ]
    }
   ],
   "source": [
    "import random\n",
    "aaa = [random.randint(0,100) for _ in range(10)]\n",
    "print(f\">>>{aaa}\")\n",
    "\n",
    "last = 9\n",
    "for j in range(10) :\n",
    "    loc_max = 0\n",
    "    for i in range(10-j) :\n",
    "        if aaa[i] >= aaa[loc_max]:   #找到了最大值对应的那个位置\n",
    "           loc_max = i\n",
    "       # print(loc_max)\n",
    "    #三位置换两个值\n",
    "    print(f\"the max is {aaa[loc_max]}\")\n",
    "    bbb = aaa[last-j]\n",
    "    aaa[last-j] = aaa[loc_max]\n",
    "    aaa[loc_max] = bbb\n",
    "    print(aaa)\n",
    "    "
   ]
  },
  {
   "cell_type": "markdown",
   "id": "b08e8a0e-21cf-4151-a8ca-ac464a4a9d25",
   "metadata": {},
   "source": [
    "# 5、随机生成`[20, 50]`之间的10个整数，分别用循环和库函数对其进行逆序排序输出"
   ]
  },
  {
   "cell_type": "code",
   "execution_count": 60,
   "id": "defe2891-a71a-4981-bf09-e28da9fb4f0e",
   "metadata": {},
   "outputs": [
    {
     "name": "stdout",
     "output_type": "stream",
     "text": [
      "[29, 36, 46, 46, 46, 35, 34, 41, 32, 45]\n",
      "[29, 32, 34, 35, 36, 41, 45, 46, 46, 46]\n",
      "the max is 46\n",
      "[29, 36, 46, 46, 45, 35, 34, 41, 32, 46]\n",
      "the max is 46\n",
      "[29, 36, 46, 32, 45, 35, 34, 41, 46, 46]\n",
      "the max is 46\n",
      "[29, 36, 41, 32, 45, 35, 34, 46, 46, 46]\n",
      "the max is 45\n",
      "[29, 36, 41, 32, 34, 35, 45, 46, 46, 46]\n",
      "the max is 41\n",
      "[29, 36, 35, 32, 34, 41, 45, 46, 46, 46]\n",
      "the max is 36\n",
      "[29, 34, 35, 32, 36, 41, 45, 46, 46, 46]\n",
      "the max is 35\n",
      "[29, 34, 32, 35, 36, 41, 45, 46, 46, 46]\n",
      "the max is 34\n",
      "[29, 32, 34, 35, 36, 41, 45, 46, 46, 46]\n",
      "the max is 32\n",
      "[29, 32, 34, 35, 36, 41, 45, 46, 46, 46]\n",
      "the max is 29\n",
      "[29, 32, 34, 35, 36, 41, 45, 46, 46, 46]\n"
     ]
    },
    {
     "data": {
      "text/plain": [
       "[46, 46, 46, 45, 41, 36, 35, 34, 32, 29]"
      ]
     },
     "execution_count": 60,
     "metadata": {},
     "output_type": "execute_result"
    }
   ],
   "source": [
    "import random\n",
    "aaa = [random.randint(20,50) for _ in range(10)]\n",
    "print(aaa)\n",
    "bbb = sorted(aaa)\n",
    "print(bbb)\n",
    "bbb = bbb[::-1]\n",
    "bbb\n",
    "\n",
    "last = 9\n",
    "for j in range(10) :\n",
    "    loc_max = 0\n",
    "    for i in range(10-j) :\n",
    "        if aaa[i] >= aaa[loc_max]:   #找到了最大值对应的那个位置\n",
    "           loc_max = i\n",
    "       # print(loc_max)\n",
    "    #三位置换两个值\n",
    "    print(f\"the max is {aaa[loc_max]}\")\n",
    "    bbb = aaa[last-j]\n",
    "    aaa[last-j] = aaa[loc_max]\n",
    "    aaa[loc_max] = bbb\n",
    "    print(aaa)\n",
    "\n",
    "#copy前一个的结论,然后挨个pop\n",
    "new = [v for v in range(10)]\n",
    "for k in range(0,10) :\n",
    "    new[k] = aaa[9-k]\n",
    "\n",
    "\n",
    "new"
   ]
  },
  {
   "cell_type": "markdown",
   "id": "8497e1bf-286d-49ce-85a8-194fbc4beaa2",
   "metadata": {},
   "source": [
    "# 6、合并排序  \n",
    "## 合并两个升序的数组a和b，形成一个新的有序数组。注：不能使用库函数。  \n",
    "## 输入：`[1, 4]`, `[1, 2, 3]`  \n",
    "## 输出：`[1, 1, 2, 3, 4]`  "
   ]
  },
  {
   "cell_type": "code",
   "execution_count": null,
   "id": "3c3e83e8-b6b4-4ef0-9322-48f05ab014e4",
   "metadata": {},
   "outputs": [],
   "source": [
    "因为不能使用库函数,刚才我刚写了个选择排序,我把他俩放到一起,然后选择排序不就得了"
   ]
  },
  {
   "cell_type": "code",
   "execution_count": 64,
   "id": "8955962c-6fa5-4a66-bd1b-7c00a1267ef2",
   "metadata": {},
   "outputs": [
    {
     "name": "stdout",
     "output_type": "stream",
     "text": [
      "the max is 4\n",
      "[1, 3, 1, 2, 4]\n",
      "the max is 3\n",
      "[1, 2, 1, 3, 4]\n",
      "the max is 2\n",
      "[1, 1, 2, 3, 4]\n",
      "the max is 1\n",
      "[1, 1, 2, 3, 4]\n",
      "the max is 1\n",
      "[1, 1, 2, 3, 4]\n"
     ]
    }
   ],
   "source": [
    "ddd=[1, 4]\n",
    "eee=[1, 2, 3]\n",
    "\n",
    "aaa = ddd+eee#这不算库函数吧\n",
    "\n",
    "last = 4\n",
    "for j in range(5) :\n",
    "    loc_max = 0\n",
    "    for i in range(5-j) :\n",
    "        if aaa[i] >= aaa[loc_max]:   #找到了最大值对应的那个位置\n",
    "           loc_max = i\n",
    "       # print(loc_max)\n",
    "    #三位置换两个值\n",
    "    print(f\"the max is {aaa[loc_max]}\")\n",
    "    bbb = aaa[last-j]\n",
    "    aaa[last-j] = aaa[loc_max]\n",
    "    aaa[loc_max] = bbb\n",
    "    print(aaa)\n"
   ]
  },
  {
   "cell_type": "markdown",
   "id": "30c04975-61ae-45f9-ad6d-a9814e4300ed",
   "metadata": {},
   "source": [
    "# 7、寻找缺失的数\n",
    "## 从0\\~N中有N个不同的整数并按照顺序排列，找出其中没有出现在0\\~N序列中的那个数\n",
    "## 用例：输入：`[0, 1, 3]`，输出：2"
   ]
  },
  {
   "cell_type": "code",
   "execution_count": 70,
   "id": "af901248-1405-448b-8d9e-fa51d8735ecd",
   "metadata": {},
   "outputs": [
    {
     "data": {
      "text/plain": [
       "2"
      ]
     },
     "execution_count": 70,
     "metadata": {},
     "output_type": "execute_result"
    }
   ],
   "source": [
    "xxx = [0,1,3]\n",
    "find = 0\n",
    "\n",
    "for i in range(len(xxx)) :\n",
    "    if xxx[i] != i :\n",
    "        find = i\n",
    "        i = i+1\n",
    "\n",
    "find"
   ]
  },
  {
   "cell_type": "markdown",
   "id": "70a621f0-996a-4576-8bd4-17e8013b88c9",
   "metadata": {},
   "source": [
    "# 8、分别使用循环和库函数，找出数组中的所有重复次数大于2的元素\n",
    "## 输入：`[4, 3, 2, 7, 2, 8, 2, 1, 3, 5, 3]`\n",
    "## 输出：`[3, 2]`"
   ]
  },
  {
   "cell_type": "code",
   "execution_count": 85,
   "id": "6c25e0ec-0010-47fa-af08-d2b0ffe16540",
   "metadata": {},
   "outputs": [
    {
     "name": "stdout",
     "output_type": "stream",
     "text": [
      "{1, 2, 3, 4, 5, 7, 8}\n",
      "[2, 3]\n"
     ]
    }
   ],
   "source": [
    "aaa = [4, 3, 2, 7, 2, 8, 2, 1, 3, 5, 3]\n",
    "aaa_s = set(aaa)\n",
    "print(aaa_s)\n",
    "for i in aaa_s :\n",
    "    aaa.remove(i)\n",
    "\n",
    "aaa_s2 = set(aaa)\n",
    "print(list(aaa_s2))\n"
   ]
  },
  {
   "cell_type": "code",
   "execution_count": 93,
   "id": "3651e28c-bd43-4e65-a066-692afc953bb1",
   "metadata": {},
   "outputs": [
    {
     "name": "stdout",
     "output_type": "stream",
     "text": [
      "[3, 2]\n"
     ]
    }
   ],
   "source": [
    "\n",
    "aaa = [4, 3, 2, 7, 2, 8, 2, 1, 3, 5, 3]\n",
    "counters = {}\n",
    "duplicates = []\n",
    "\n",
    "# 统计每个元素的出现次数\n",
    "for num in aaa:\n",
    "    if num in counters:\n",
    "        counters[num] += 1\n",
    "    else:\n",
    "        counters[num] = 1\n",
    "\n",
    "# 找出出现次数大于2的元素\n",
    "for num, count in counters.items():\n",
    "    if count > 2:\n",
    "        duplicates.append(num)\n",
    "\n",
    "print(duplicates)"
   ]
  },
  {
   "cell_type": "markdown",
   "id": "b75994ac-af50-4452-9210-d841048bd84c",
   "metadata": {},
   "source": [
    "# 9、给定一个字符串，找出其中最长的连续子串\n",
    "## 输入：`'abdcdefhijxyz'`\n",
    "## 输出：子串为`'cdef'`，首次出现在第3个位置"
   ]
  },
  {
   "cell_type": "markdown",
   "id": "be528c52-6659-4470-9711-cc160bb420fe",
   "metadata": {},
   "source": [
    "经过数次挑战发现无法战胜,然后ai生成了\n",
    "我的思路一直是卡在刚才那个部分匹配法上,我试图生成一个连续部分字符串的穷举列表,后来想到这个列表将会是26个单词的笛卡尔积,这么一看时间空间上都是不可接受的,虽然会使得后面的查表法变得快一些,但似乎聊胜于无\n",
    "后来我又试图用bmk匹配法,逐个字符查询以匹配字符串,但是似乎仍然没有逃出\"生成连续不定长字符串\"的问题\n",
    "另外,ai生成的代码是错误的,我简单看了一下,是由于第一个if判断没写对,我改成了正确的输出"
   ]
  },
  {
   "cell_type": "code",
   "execution_count": 2,
   "id": "6ebc9e1b-6999-4400-a03f-25d421b6cbc6",
   "metadata": {},
   "outputs": [
    {
     "name": "stdout",
     "output_type": "stream",
     "text": [
      "子串为: 'cdef'，首次出现在第3个位置\n"
     ]
    }
   ],
   "source": [
    "def longest_consecutive_substring(s):\n",
    "    max_length = 0\n",
    "    current_length = 1\n",
    "    start_index = 0\n",
    "    max_start_index = 0\n",
    "\n",
    "    for i in range(1, len(s)):\n",
    "        if ord(s[i]) == ord(s[i - 1]) + 1:  # 当前字符是前一个字符的下一个字符\n",
    "            current_length += 1\n",
    "        else:\n",
    "            if current_length > max_length:\n",
    "                max_length = current_length\n",
    "                max_start_index = start_index\n",
    "            \n",
    "            current_length = 1  # 重置当前长度\n",
    "            start_index = i  # 更新起始位置\n",
    "\n",
    "    # 检查最后一段\n",
    "    if current_length > max_length:\n",
    "        max_length = current_length\n",
    "        max_start_index = start_index\n",
    "\n",
    "    return s[max_start_index:max_start_index + max_length], max_start_index\n",
    "\n",
    "# 测试\n",
    "input_str = 'abdcdefhijxyz'\n",
    "substring, position = longest_consecutive_substring(input_str)\n",
    "print(f\"子串为: '{substring}'，首次出现在第{position}个位置\")\n"
   ]
  },
  {
   "cell_type": "markdown",
   "id": "878da1b8-e73a-470a-88f4-ed3989d83976",
   "metadata": {},
   "source": [
    "# 10、使用循环打印如下菱形图案。\n",
    "![rhombus](rhombus.png)"
   ]
  },
  {
   "cell_type": "code",
   "execution_count": 102,
   "id": "93d2493e-f0eb-4d55-bfc1-0e4aed47a44a",
   "metadata": {},
   "outputs": [
    {
     "name": "stdout",
     "output_type": "stream",
     "text": [
      "                    \n",
      "         **         \n",
      "        ****        \n",
      "       ******       \n",
      "      ********      \n",
      "     **********     \n",
      "    ************    \n",
      "   **************   \n",
      "  ****************  \n",
      " ****************** \n",
      "********************\n",
      " ****************** \n",
      "  ****************  \n",
      "   **************   \n",
      "    ************    \n",
      "     **********     \n",
      "      ********      \n",
      "       ******       \n",
      "        ****        \n",
      "         **         \n"
     ]
    }
   ],
   "source": [
    "#图出不来\n",
    "for a2l in range(10) :\n",
    "    count = 10-a2l\n",
    "    block = count*\" \"\n",
    "    stars = a2l*\"*\"\n",
    "    print(f\"{block}{stars}{stars}{block}\")\n",
    "    \n",
    "for a2l in range(10) :\n",
    "    count = 10-a2l\n",
    "    stars = count*\"*\"\n",
    "    block = a2l*\" \"\n",
    "    print(f\"{block}{stars}{stars}{block}\")\n"
   ]
  },
  {
   "cell_type": "markdown",
   "id": "2c419fc4-65c8-453a-943c-6892097474c9",
   "metadata": {},
   "source": [
    "# 11、给定方程，用牛顿迭代法求根\n",
    "\n",
    "## 题目描述\n",
    "\n",
    "**题目：** 使用牛顿迭代法求解方程的根。\n",
    "\n",
    "**方程：** $ f(x) = x^3 - x - 1 = 0 $\n",
    "\n",
    "**要求：**\n",
    "1. 实现牛顿迭代法的Python函数。\n",
    "2. 使用该函数求解给定方程的根。\n",
    "3. 设置迭代精度为$10^{-6}$。\n",
    "4. 输出迭代次数和求得的根。\n",
    "\n",
    "## 解题步骤\n",
    "\n",
    "### 1. 牛顿迭代法原理\n",
    "\n",
    "牛顿迭代法是一种求解方程$ f(x) = 0 $ 的根的快速方法。其基本思想是通过不断逼近的方式，从一个初始猜测值开始，逐步接近方程的根。迭代公式为：\n",
    "$$ x_{n+1} = x_n - \\frac{f(x_n)}{f'(x_n)}$$\n",
    "\n",
    "其中，$ f'(x)$ 是$ f(x)$ 的导数。\n",
    "\n",
    "### 2. 定义函数和导数\n",
    "\n",
    "对于给定的方程$ f(x) = x^3 - x - 1$，我们需要定义函数$ f(x)$ 和其导数$ f'(x)$。\n",
    "\n",
    "### 3. 实现牛顿迭代法\n",
    "\n",
    "编写一个Python函数`newton_method`，该函数接受以下参数：\n",
    "- `f`: 函数$ f(x)$\n",
    "- `df`: 导数$ f'(x)$\n",
    "- `x0`: 初始猜测值\n",
    "- `tol`: 迭代精度\n",
    "- `max_iter`: 最大迭代次数"
   ]
  },
  {
   "cell_type": "markdown",
   "id": "833a391e-1b2e-4616-860f-8edc70a456f7",
   "metadata": {},
   "source": [
    "原理是,基于拉格朗日中值定理(我记得是),我们有\n",
    "$f(x)-f(x_0)=df(x)$\n",
    "\n",
    "\n",
    "进而$f(x)=f(x_0)+(df(x)/dx)*dx$\n",
    "\n",
    "\n",
    "然后又有$f(x)=f(x_0)+(df(x_0)/dx)*(x-x_0)$\n",
    "\n"
   ]
  },
  {
   "cell_type": "markdown",
   "id": "dcd36b7b-c5cf-48cb-b9d4-c978984369d5",
   "metadata": {},
   "source": [
    "我们首先计算出来原函数的导函数,然后使用这个式子,在x0的1.0e-6上迭代,题目里没要求我们写计算导数的函数,那我就一眼瞪出来他的导数"
   ]
  },
  {
   "cell_type": "code",
   "execution_count": null,
   "id": "1aab4457-7d95-4a5b-87bd-1c2bd11d437b",
   "metadata": {},
   "outputs": [],
   "source": [
    "def V_Fx(V_x, fx):\n",
    "    \"\"\"\"这个东西是用字典计算函数值的\"\"\"\n",
    "    V_y = fx[\"Third_coef\"] * V_x * V_x * V_x\n",
    "    V_y += fx[\"Second_coef\"] * V_x * V_x\n",
    "    V_y += fx[\"First_coef\"] * V_x\n",
    "    V_y += fx[\"Zero_coef\"]\n",
    "\n",
    "    return V_y\n",
    "\n",
    "def compu_dfx(fx):\n",
    "    # 提取系数\n",
    "    third_coef = fx[\"Third_coef\"]\n",
    "    second_coef = fx[\"Second_coef\"]\n",
    "    first_coef = fx[\"First_coef\"]\n",
    "\n",
    "    # 计算导数系数\n",
    "    new_third_coef = 0.0  # 三次项导数变为0\n",
    "    new_second_coef = 3 * third_coef  # 二次项导数\n",
    "    new_first_coef = 2 * second_coef  # 一次项导数\n",
    "    new_zero_coef = first_coef  # 常数项导数\n",
    "    # 返回导数系数字典\n",
    "    result = {\n",
    "        \"Third_coef\": new_third_coef,\n",
    "        \"Second_coef\": new_second_coef,\n",
    "        \"First_coef\": new_first_coef,\n",
    "        \"Zero_coef\": new_zero_coef\n",
    "    }\n",
    "    return result\n",
    "\n",
    "def newton_method(fx1,base_x01 = 50,max_iter1 = 10000,tol1 = 0.0001):\n",
    "\n",
    "    fx = fx1\n",
    "    dfx = compu_dfx(fx)\n",
    "\n",
    "    tol = tol1\n",
    "    solution = base_x01\n",
    "    max_iter = max_iter1\n",
    "    counter = 0\n",
    "\n",
    "    while abs(V_Fx(solution,fx)) > tol :\n",
    "        solution = solution - (V_Fx(solution,fx)/V_Fx(solution,dfx))\n",
    "        print(solution,abs(V_Fx(solution, fx)))\n",
    "        counter += 1\n",
    "        if counter == max_iter :\n",
    "            break\n",
    "\n",
    "    print(f\"找到的根{solution}，函数的值{V_Fx(solution,fx)}，迭代的次数{counter}\")\n",
    "\n",
    "\n",
    "fx555 = {\"Third_coef\":1.0,\"Second_coef\":0,\"First_coef\":-1.0,\"Zero_coef\":-1}\n",
    "newton_method(fx555)"
   ]
  }
 ],
 "metadata": {
  "kernelspec": {
   "display_name": "Python 3 (ipykernel)",
   "language": "python",
   "name": "python3"
  },
  "language_info": {
   "codemirror_mode": {
    "name": "ipython",
    "version": 3
   },
   "file_extension": ".py",
   "mimetype": "text/x-python",
   "name": "python",
   "nbconvert_exporter": "python",
   "pygments_lexer": "ipython3",
   "version": "3.11.10"
  }
 },
 "nbformat": 4,
 "nbformat_minor": 5
}
