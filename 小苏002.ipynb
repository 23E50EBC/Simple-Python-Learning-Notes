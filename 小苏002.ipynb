{
 "cells": [
  {
   "cell_type": "markdown",
   "id": "d2dce3bc-2791-48fd-b5b3-6bbfcbaca3ee",
   "metadata": {},
   "source": [
    "## 这节课介绍列表"
   ]
  },
  {
   "cell_type": "markdown",
   "id": "e0469171-668d-420a-af19-b05b2781fb8e",
   "metadata": {},
   "source": [
    "用方括号括起来，按照顺序排列，逗号分隔每个元素，你就得到了一个列表"
   ]
  },
  {
   "cell_type": "code",
   "execution_count": 64,
   "id": "8e3f970c-cd9b-4f7d-9b7f-d693644804ba",
   "metadata": {},
   "outputs": [
    {
     "name": "stdout",
     "output_type": "stream",
     "text": [
      "['wang', 'li', 'liu']\n"
     ]
    }
   ],
   "source": [
    "aaa=['wang','li','liu']\n",
    "print(aaa)"
   ]
  },
  {
   "cell_type": "markdown",
   "id": "39e1c820-6277-43f8-acda-d732e6d04c1c",
   "metadata": {},
   "source": [
    "使用数字表示列表从第0个到最后一个，这样就可以使用数字作为这个元素的索引,小技巧是python会认为-1是最后一个元素，这样你就可以用负值的数字逆向索引这个列表"
   ]
  },
  {
   "cell_type": "code",
   "execution_count": 65,
   "id": "d72b14c6-124e-4cb4-ae90-5690d227532f",
   "metadata": {},
   "outputs": [
    {
     "name": "stdout",
     "output_type": "stream",
     "text": [
      "wang\n",
      "li\n"
     ]
    }
   ],
   "source": [
    "aaa=['wang','li','liu']\n",
    "print(aaa[0])\n",
    "print(aaa[-2])"
   ]
  },
  {
   "cell_type": "markdown",
   "id": "93aafd5b-3c0b-4255-a2d4-7d611b29c82f",
   "metadata": {},
   "source": [
    "修改这个列表的元素你也可以按照这个索引的方式来进行，这是较为直观的\n",
    "但是如果是添加或是删除，你就需要用这个列表对象的方法了\n",
    "其中append是往最后一个再填一个，insert则是在一个指定的索引位置里插入"
   ]
  },
  {
   "cell_type": "code",
   "execution_count": 66,
   "id": "b7e7500a-053f-4954-bb4d-69481772eca8",
   "metadata": {},
   "outputs": [
    {
     "name": "stdout",
     "output_type": "stream",
     "text": [
      "['zhang', 'li', 'liu']\n",
      "['zhang', 'li', 'liu', 'sun']\n",
      "['zhang', 'li', 'qian', 'liu', 'sun']\n"
     ]
    }
   ],
   "source": [
    "aaa=['wang','li','liu']\n",
    "aaa[0]='zhang'\n",
    "print(aaa)\n",
    "aaa.append('sun')\n",
    "print(aaa)\n",
    "aaa.insert(2,'qian')\n",
    "print(aaa)"
   ]
  },
  {
   "cell_type": "markdown",
   "id": "c562d0b8-45db-44f5-b84d-f0000e92c426",
   "metadata": {},
   "source": [
    "然后删除是del，结合一个索引位置，但是他并不是列表的方法,他是一个很神奇的关键字,后面还会看到他"
   ]
  },
  {
   "cell_type": "code",
   "execution_count": 67,
   "id": "5296a152-3e6e-46a8-8d97-072e7fdcd049",
   "metadata": {},
   "outputs": [
    {
     "name": "stdout",
     "output_type": "stream",
     "text": [
      "['li', 'liu']\n"
     ]
    }
   ],
   "source": [
    "aaa=['wang','li','liu']\n",
    "del aaa[0]\n",
    "print(aaa)"
   ]
  },
  {
   "cell_type": "markdown",
   "id": "d135bde7-12e7-41f4-829b-105eee66dbc5",
   "metadata": {},
   "source": [
    "你可以认为列表是一个栈，随便你怎么想，总之pop方法可以弹出列表的最后一个元素,然后这个元素就不存在于栈中了\n",
    "如果pop的括号里带了索引位置，他也可以给你把那个位置的元素弹出来，此时这个元素也不会存在再原列表里了"
   ]
  },
  {
   "cell_type": "code",
   "execution_count": 68,
   "id": "2c43b090-4fae-42f7-943c-2f387ec8800f",
   "metadata": {},
   "outputs": [
    {
     "name": "stdout",
     "output_type": "stream",
     "text": [
      "liu\n",
      "['wang', 'li']\n"
     ]
    }
   ],
   "source": [
    "aaa=['wang','li','liu']\n",
    "bbb=aaa.pop()\n",
    "print(bbb)\n",
    "print(aaa)"
   ]
  },
  {
   "cell_type": "markdown",
   "id": "e03ef53b-70da-41af-873f-d14a7e53d3e0",
   "metadata": {},
   "source": [
    "他还给你提供了一个匹配功能，remove可以按照元素的值而非索引来删掉元素，但他只会删掉第一个匹配值"
   ]
  },
  {
   "cell_type": "code",
   "execution_count": 69,
   "id": "ef72bd87-48c9-4f08-b329-e070beaa0880",
   "metadata": {},
   "outputs": [
    {
     "name": "stdout",
     "output_type": "stream",
     "text": [
      "['wang', 'liu', 'li']\n"
     ]
    }
   ],
   "source": [
    "aaa=['wang','li','liu','li']\n",
    "aaa.remove('li')\n",
    "print(aaa)"
   ]
  },
  {
   "cell_type": "markdown",
   "id": "a0343000-58f4-428d-93c3-f1e564e09822",
   "metadata": {},
   "source": [
    "sort可以永久修改这个列表里元素的顺序，譬如直接调用空参的sort就可以按照字母表排序\n",
    "反之，sorted则会给你返回一个期望排序下，原列表的副本,但是这里要注意的是，sort是列表的方法，sorted却是一个函数"
   ]
  },
  {
   "cell_type": "code",
   "execution_count": 70,
   "id": "6207aa06-4c7c-48f4-9447-2fa0b9c8f5c0",
   "metadata": {},
   "outputs": [
    {
     "name": "stdout",
     "output_type": "stream",
     "text": [
      "['li', 'liu', 'wang']\n",
      "['li', 'liu', 'wang']\n",
      "['wang', 'li', 'liu']\n"
     ]
    }
   ],
   "source": [
    "aaa=['wang','li','liu']\n",
    "bbb=['wang','li','liu']\n",
    "aaa.sort()\n",
    "print(aaa)\n",
    "ccc=sorted(bbb)\n",
    "print(ccc)\n",
    "print(bbb)"
   ]
  },
  {
   "cell_type": "markdown",
   "id": "b8b345bb-8dba-44ee-8a70-97a79d0c91ad",
   "metadata": {},
   "source": [
    "如果你想要一次性把列表里的元素翻转顺序，你还可以用reverse方法，就是非常简单粗暴的，最后一个变到第一个，倒数第二个变到第二个"
   ]
  },
  {
   "cell_type": "code",
   "execution_count": 71,
   "id": "ffa3136f-ca76-436c-8af0-e88cd0512900",
   "metadata": {},
   "outputs": [
    {
     "name": "stdout",
     "output_type": "stream",
     "text": [
      "['liu', 'li', 'wang']\n"
     ]
    }
   ],
   "source": [
    "aaa=['wang','li','liu']\n",
    "aaa.reverse()\n",
    "print(aaa)"
   ]
  },
  {
   "cell_type": "markdown",
   "id": "143bc6b8-0cd0-4664-b195-227ccce4aaf7",
   "metadata": {},
   "source": [
    "跟你在Java里一样的，len函数（注意他也不是方法）他可以获取列表的长度"
   ]
  },
  {
   "cell_type": "code",
   "execution_count": 72,
   "id": "f927ced1-700b-41b9-bd00-948ab9a5a795",
   "metadata": {},
   "outputs": [
    {
     "name": "stdout",
     "output_type": "stream",
     "text": [
      "3\n"
     ]
    }
   ],
   "source": [
    "aaa=['wang','li','liu']\n",
    "lenth=len(aaa)\n",
    "print(lenth)"
   ]
  },
  {
   "cell_type": "markdown",
   "id": "0a5525b6-7c8f-4144-8d9f-447ebb198052",
   "metadata": {},
   "source": [
    "### 这里介绍迭代器和循环操作列表"
   ]
  },
  {
   "cell_type": "markdown",
   "id": "6cd4f663-255a-4d74-8526-47a603acdb15",
   "metadata": {},
   "source": [
    "我们未来会再讲一遍for的\n",
    "在python中的for并不需要你按照数组下标挨个索引列表，你需要一个“关键字”或者叫”临时变量“，然后让这个临时变量”in“在列表里，\n",
    "他就会在每一次循环中，暂时充当列表里的某个元素，进行你的循环\n",
    "注意循环体是for内部的代码块，你需要：和缩进"
   ]
  },
  {
   "cell_type": "code",
   "execution_count": 73,
   "id": "b9059ea0-5c2f-4d1d-91eb-d218750fa02d",
   "metadata": {},
   "outputs": [
    {
     "name": "stdout",
     "output_type": "stream",
     "text": [
      "wang\n",
      " \n",
      "li\n",
      " \n",
      "liu\n",
      " \n"
     ]
    }
   ],
   "source": [
    "aaa=['wang','li','liu']\n",
    "for AAA in aaa :\n",
    "    print(AAA)\n",
    "    print(' ')"
   ]
  },
  {
   "cell_type": "markdown",
   "id": "bcebb7c6-ea17-459e-817f-a3c0a983bcaa",
   "metadata": {},
   "source": [
    "当我们的临时变量扮演完列表里的全部变量时，for循环就会结束，你也不用操心死循环的问题"
   ]
  },
  {
   "cell_type": "markdown",
   "id": "0c0eac52-6e1c-4534-97b7-c1eb6843a3e6",
   "metadata": {},
   "source": [
    "此外，在你循环体很复杂时要注意你的缩进问题，如果你缩进少了或是多了，亦或者忘记了：，python会告诉你你没写对，\n",
    "只要是缩进平齐的，python会认为这还没出循环体，在for结束后的语句就需要和for对齐\n",
    "这就是python游标卡尺的一集"
   ]
  },
  {
   "cell_type": "code",
   "execution_count": 74,
   "id": "dc3d1dab-169b-4d96-b4f7-ca725fc8d9b1",
   "metadata": {},
   "outputs": [
    {
     "name": "stdout",
     "output_type": "stream",
     "text": [
      "wang\n",
      ">>>这里还是循环体\n",
      "\n",
      "li\n",
      ">>>这里还是循环体\n",
      "\n",
      "liu\n",
      ">>>这里还是循环体\n",
      "\n",
      "!!!这里离开循环体\n"
     ]
    }
   ],
   "source": [
    "aaa=['wang','li','liu']\n",
    "for AAA in aaa :\n",
    "    print(AAA)\n",
    "    print('>>>这里还是循环体\\n')\n",
    "\n",
    "print('!!!这里离开循环体')"
   ]
  },
  {
   "cell_type": "markdown",
   "id": "b0561695-08e8-4927-9084-d17b191d584e",
   "metadata": {},
   "source": [
    "这里展示报错"
   ]
  },
  {
   "cell_type": "code",
   "execution_count": 75,
   "id": "187c3025-9db2-43d8-a87b-cb2cf3dceb3b",
   "metadata": {},
   "outputs": [
    {
     "ename": "IndentationError",
     "evalue": "unexpected indent (2017841102.py, line 4)",
     "output_type": "error",
     "traceback": [
      "\u001b[1;36m  Cell \u001b[1;32mIn[75], line 4\u001b[1;36m\u001b[0m\n\u001b[1;33m    print('这句话缩进多了，他会报错\\n')\u001b[0m\n\u001b[1;37m    ^\u001b[0m\n\u001b[1;31mIndentationError\u001b[0m\u001b[1;31m:\u001b[0m unexpected indent\n"
     ]
    }
   ],
   "source": [
    "aaa=['wang','li','liu']\n",
    "for AAA in aaa :\n",
    "    print(AAA)\n",
    "        print('这句话缩进多了，他会报错\\n')\n",
    "\n",
    "print('这里离开循环体')"
   ]
  },
  {
   "cell_type": "code",
   "execution_count": 76,
   "id": "64d76a9e-2f1d-4914-aec4-0881491828f8",
   "metadata": {},
   "outputs": [
    {
     "ename": "SyntaxError",
     "evalue": "expected ':' (2430373888.py, line 2)",
     "output_type": "error",
     "traceback": [
      "\u001b[1;36m  Cell \u001b[1;32mIn[76], line 2\u001b[1;36m\u001b[0m\n\u001b[1;33m    for AAA in aaa\u001b[0m\n\u001b[1;37m                   ^\u001b[0m\n\u001b[1;31mSyntaxError\u001b[0m\u001b[1;31m:\u001b[0m expected ':'\n"
     ]
    }
   ],
   "source": [
    "aaa=['wang','li','liu']\n",
    "for AAA in aaa \n",
    "    print(AAA)\n",
    "    print('for后面没有冒号也会报错\\n')\n",
    "\n",
    "print('这里离开循环体')"
   ]
  },
  {
   "cell_type": "markdown",
   "id": "38d048ae-9e3e-4ee6-9ebc-65bdc7e6b4b6",
   "metadata": {},
   "source": [
    "for更常见的一个用法是结合range函数，这个函数会提供一个数值的列表，然后for 临时变量 in range，就可以让临时变量扮演range函数所提供的一个特殊列表里的元素\n",
    "\n",
    "range给的列表是不可改变的，可迭代的，但他本身并没有显式的给你一个列表，也没有在内存中声明这个列表，他只是配合你for的临时变量，逐个给你吐数用的，简单来讲，他专门是拿来给for用的\n",
    "\n",
    "range的参数是（【start】，end，【step】），其中开始和结束都很好理解，step是步长，空参就是1\n",
    "他还有一个特性是他之吐到end之前的一个数，譬如range（1，5）将只会吐到4"
   ]
  },
  {
   "cell_type": "code",
   "execution_count": 77,
   "id": "df80acb2-4da5-47c4-b1dd-dbb9aa0cfc28",
   "metadata": {},
   "outputs": [
    {
     "name": "stdout",
     "output_type": "stream",
     "text": [
      "1\n",
      "qian\n",
      "2\n",
      "sun\n",
      "3\n",
      "li\n",
      "4\n",
      "zhou\n",
      "\n",
      "\n",
      "qian\n",
      "li\n",
      "wu\n",
      "wang\n"
     ]
    }
   ],
   "source": [
    "AAA=['zhao','qian','sun','li','zhou','wu','zheng','wang']\n",
    "for VVVA in range(1,5):\n",
    "    print(VVVA)\n",
    "    print(AAA[VVVA])\n",
    "\n",
    "print('\\n')\n",
    "for VVVB in range(1,8,2):#跳着吐，步长为2\n",
    "    print(AAA[VVVB])"
   ]
  },
  {
   "cell_type": "code",
   "execution_count": 78,
   "id": "c0490dda-f638-4fd7-aa52-52e7c90d016b",
   "metadata": {},
   "outputs": [
    {
     "ename": "NameError",
     "evalue": "name '用list方法就能把range给你的玩意变成一个数的列表' is not defined",
     "output_type": "error",
     "traceback": [
      "\u001b[1;31m---------------------------------------------------------------------------\u001b[0m",
      "\u001b[1;31mNameError\u001b[0m                                 Traceback (most recent call last)",
      "Cell \u001b[1;32mIn[78], line 1\u001b[0m\n\u001b[1;32m----> 1\u001b[0m 用list方法就能把range给你的玩意变成一个数的列表\n",
      "\u001b[1;31mNameError\u001b[0m: name '用list方法就能把range给你的玩意变成一个数的列表' is not defined"
     ]
    }
   ],
   "source": [
    "用list方法就能把range给你的玩意变成一个数的列表"
   ]
  },
  {
   "cell_type": "code",
   "execution_count": 79,
   "id": "dd91648e-1f43-4072-86c3-dbfa62cbe7f7",
   "metadata": {
    "collapsed": true,
    "jupyter": {
     "outputs_hidden": true
    },
    "scrolled": true
   },
   "outputs": [
    {
     "data": {
      "text/plain": [
       "[5, 6, 7, 8, 9, 10, 11]"
      ]
     },
     "execution_count": 79,
     "metadata": {},
     "output_type": "execute_result"
    }
   ],
   "source": [
    "vvv=list(range(5,12))\n",
    "vvv"
   ]
  },
  {
   "cell_type": "markdown",
   "id": "0a15b742-3d6f-454a-a6b6-4fd9fc4c0a12",
   "metadata": {},
   "source": [
    "一个很常见的用法是for i in range(10),这里的range只有一个参数,python会认为是end,他就会从0开始吐到10前一个数,共计十个"
   ]
  },
  {
   "cell_type": "code",
   "execution_count": 94,
   "id": "a56cebdc-438f-4701-83b0-73c762110f6e",
   "metadata": {},
   "outputs": [
    {
     "data": {
      "text/plain": [
       "[0, 1, 2, 3, 4, 5, 6, 7, 8, 9]"
      ]
     },
     "execution_count": 94,
     "metadata": {},
     "output_type": "execute_result"
    }
   ],
   "source": [
    "aaa = []\n",
    "for vvv in range(10):\n",
    "    aaa.append(vvv)\n",
    "\n",
    "aaa"
   ]
  },
  {
   "cell_type": "markdown",
   "id": "4724995a-286b-4b7c-80bb-427e43356961",
   "metadata": {},
   "source": [
    "有一个很逆天的语法python支持，就有点类似你c语言的三目运算符，他在赋值列表时可以在列表里写一个循环语句，这个叫列表推导式"
   ]
  },
  {
   "cell_type": "code",
   "execution_count": 80,
   "id": "4974dc74-4f00-494f-8507-2805c9d7a7ef",
   "metadata": {},
   "outputs": [
    {
     "name": "stdout",
     "output_type": "stream",
     "text": [
      "[1, 4, 9, 16, 25, 36, 49, 64, 81, 100]\n"
     ]
    }
   ],
   "source": [
    "squares = [v**2 for v in range(1,11)]\n",
    "print(squares)"
   ]
  },
  {
   "cell_type": "markdown",
   "id": "7c7a463b-9100-4dca-9695-230fcdd13c5a",
   "metadata": {},
   "source": [
    "### 另一个重要的东西是切片"
   ]
  },
  {
   "cell_type": "markdown",
   "id": "3f5a3c4f-290b-4ca5-8d1c-9c6abc3507ec",
   "metadata": {},
   "source": [
    "他用来给你提供一个“内切”的功能，语法是列表名【开始位置的索引：结束位置的索引：步长】，起始如果没写就是0开始,如果没结尾那结尾认为到无穷大结束\n",
    "这里的开始索引位置的那个元素可以被取到，结尾取不到\n",
    "然后你负值的索引，依然是逆序位置上取值"
   ]
  },
  {
   "cell_type": "code",
   "execution_count": 81,
   "id": "3471f520-ebbc-4ade-9bd4-c9bac3fb4ff4",
   "metadata": {},
   "outputs": [
    {
     "name": "stdout",
     "output_type": "stream",
     "text": [
      "['sun', 'li', 'zhou']\n",
      "['li', 'zhou', 'wu', 'zheng']\n",
      "['zhao', 'qian', 'sun', 'li', 'zhou', 'wu', 'zheng', 'wang']\n"
     ]
    }
   ],
   "source": [
    "AAA=['zhao','qian','sun','li','zhou','wu','zheng','wang']\n",
    "bbb=AAA[2:5]#从第二个取到第四个\n",
    "print(bbb)\n",
    "ccc=AAA[-5:-1]#倒数第五个到倒数第一个\n",
    "print(ccc)\n",
    "ddd=AAA[:]#全取出来\n",
    "print(ddd)"
   ]
  },
  {
   "cell_type": "markdown",
   "id": "c895ea0f-2f54-4ac9-a5a3-e0f6e2eeb270",
   "metadata": {},
   "source": [
    "然后你也可以用它跳着取数，就是步长的用法，然后步长为负值，那就是从右到左，但此时起点位置和重点位置的索引不跟你步长方向来，这俩是独立的"
   ]
  },
  {
   "cell_type": "code",
   "execution_count": 82,
   "id": "a814a7d6-faaf-488d-b5f2-e31ba755940f",
   "metadata": {},
   "outputs": [
    {
     "name": "stdout",
     "output_type": "stream",
     "text": [
      "['zhao', 'sun', 'zhou', 'zheng']\n",
      "['wang', 'zheng', 'wu', 'zhou', 'li', 'sun', 'qian', 'zhao']\n",
      "['sun', 'qian', 'zhao']\n",
      "['wang', 'zheng', 'wu', 'zhou', 'li']\n"
     ]
    }
   ],
   "source": [
    "AAA=['zhao','qian','sun','li','zhou','wu','zheng','wang']\n",
    "ddd=AAA[::2]#全取出来,但是隔一个取一个\n",
    "print(ddd)\n",
    "eee=AAA[::-1]#全取出来但反着\n",
    "print(eee)\n",
    "fff=AAA[2::-1]#反着取，但是从正数第二个开始倒着取\n",
    "print(fff)\n",
    "ggg=AAA[:2:-1]#反着取,终点是正数第二个\n",
    "print(ggg)\n",
    "hhh=AAA[:-5:-1]#反着取但终点是倒数第五个\n"
   ]
  },
  {
   "cell_type": "markdown",
   "id": "94478417-573c-4f0a-a19e-70416c1ed922",
   "metadata": {},
   "source": [
    "for循环也可以用这个切片，来获得部分的列表"
   ]
  },
  {
   "cell_type": "code",
   "execution_count": 83,
   "id": "687cb5cc-34b8-4ea1-bc3f-5949c29c66c4",
   "metadata": {},
   "outputs": [
    {
     "name": "stdout",
     "output_type": "stream",
     "text": [
      "sun\n",
      "li\n",
      "zhou\n",
      "wu\n"
     ]
    }
   ],
   "source": [
    "AAA=['zhao','qian','sun','li','zhou','wu','zheng','wang']\n",
    "for VVVA in AAA[2:6]:\n",
    "    print(VVVA)\n"
   ]
  },
  {
   "cell_type": "markdown",
   "id": "67d33977-fb34-4eaa-9b16-90641ffe2ddd",
   "metadata": {},
   "source": [
    "### 复制列表"
   ]
  },
  {
   "cell_type": "markdown",
   "id": "987c4377-f93c-4224-95c7-da3f7e30398e",
   "metadata": {},
   "source": [
    "切片就是复制了一个列表出来"
   ]
  },
  {
   "cell_type": "code",
   "execution_count": 84,
   "id": "ecc1f747-dd15-4ef4-9657-bb07c5fe7f5d",
   "metadata": {},
   "outputs": [
    {
     "name": "stdout",
     "output_type": "stream",
     "text": [
      "['zhao', 'qian', 'sun', 'li', 'zhou', 'wu', 'zheng', 'wang']\n",
      "['zhao', 'qian', 'sun', 'li', 'zhou', 'wu', 'zheng', 'wang']\n",
      "['li', 'qian', 'sun', 'wang', 'wu', 'zhao', 'zheng', 'zhou']\n",
      "['zhao', 'qian', 'sun', 'li', 'zhou', 'wu', 'zheng', 'wang']\n"
     ]
    }
   ],
   "source": [
    "AAA=['zhao','qian','sun','li','zhou','wu','zheng','wang']\n",
    "BBB=AAA[:]\n",
    "print(AAA)\n",
    "print(BBB)\n",
    "AAA.sort()#这里对a进行排序，排序完了a发生了变化,但b已经克隆了一个a出来,所以b不受影响\n",
    "print(AAA)\n",
    "print(BBB)"
   ]
  },
  {
   "cell_type": "markdown",
   "id": "50d3c6ae-ccdf-407e-b3a6-f9ba98b107ad",
   "metadata": {},
   "source": [
    "但反之,如果对一个新的列表赋值为一个已有的列表,这则不会发生复制,只会是使变量名重定向回原来的那个存储单元"
   ]
  },
  {
   "cell_type": "code",
   "execution_count": 85,
   "id": "8349ba81-52f7-4c2b-b3cd-42be93fd81b7",
   "metadata": {},
   "outputs": [
    {
     "name": "stdout",
     "output_type": "stream",
     "text": [
      "['zhao', 'qian', 'sun', 'li', 'zhou', 'wu', 'zheng', 'wang']\n",
      "['zhao', 'qian', 'sun', 'li', 'zhou', 'wu', 'zheng', 'wang']\n",
      "['li', 'qian', 'sun', 'wang', 'wu', 'zhao', 'zheng', 'zhou']\n",
      "['li', 'qian', 'sun', 'wang', 'wu', 'zhao', 'zheng', 'zhou']\n"
     ]
    }
   ],
   "source": [
    "AAA=['zhao','qian','sun','li','zhou','wu','zheng','wang']\n",
    "BBB=AAA\n",
    "print(AAA)\n",
    "print(BBB)\n",
    "AAA.sort()\n",
    "print(AAA)\n",
    "print(BBB)#这里没有直接改b,但是b的值发生了变化"
   ]
  },
  {
   "cell_type": "code",
   "execution_count": 86,
   "id": "52d6c1a0-1fc1-44af-a5cc-496f978210d1",
   "metadata": {},
   "outputs": [
    {
     "ename": "NameError",
     "evalue": "name '但是' is not defined",
     "output_type": "error",
     "traceback": [
      "\u001b[1;31m---------------------------------------------------------------------------\u001b[0m",
      "\u001b[1;31mNameError\u001b[0m                                 Traceback (most recent call last)",
      "Cell \u001b[1;32mIn[86], line 1\u001b[0m\n\u001b[1;32m----> 1\u001b[0m 但是,在列表里面套列表时候,那个被套的列表就不会被复制,而是指过去\n",
      "\u001b[1;31mNameError\u001b[0m: name '但是' is not defined"
     ]
    }
   ],
   "source": [
    "但是,在列表里面套列表时候,那个被套的列表就不会被复制,而是指过去"
   ]
  },
  {
   "cell_type": "code",
   "execution_count": 87,
   "id": "8a693c9b-dbb8-497c-8ccf-792ebb7f9f81",
   "metadata": {},
   "outputs": [
    {
     "name": "stdout",
     "output_type": "stream",
     "text": [
      "['zhao', 'qian', 'sun', 'li', ['zhou', 'wu']]\n",
      "['zhao', 'qian', 'sun', 'li', ['zhou', 'wu']]\n",
      "['zhao', 'qian', 'sun', 'li', ['hello', 'wu']]\n",
      "['zhao', 'qian', 'sun', 'li', ['hello', 'wu']]\n"
     ]
    }
   ],
   "source": [
    "AAA=['zhao','qian','sun','li',['zhou','wu']]\n",
    "BBB=AAA\n",
    "print(AAA)\n",
    "print(BBB)\n",
    "AAA[4][0]='hello'#这个索引方式就是跟数组一样的\n",
    "print(AAA)\n",
    "print(BBB)#这里的bbb就跟着aaa改了"
   ]
  },
  {
   "cell_type": "markdown",
   "id": "0d7bab75-a7bf-4d2f-b396-f3089ebc9222",
   "metadata": {},
   "source": [
    "哎,对,python的列表你虽然可以当作数组玩,但是他毕竟不是,这个就支持很多奇怪的语法,譬如任意长的列表\n",
    "列表里不同的数据类型(废话,都是对象)\n",
    "列表里面套列表(列表对象)\n",
    "python都能吃\n",
    "正如上面那个例子,和下面这个"
   ]
  },
  {
   "cell_type": "code",
   "execution_count": 88,
   "id": "824ca60a-72ca-4e9f-a22f-c12c94951dd9",
   "metadata": {},
   "outputs": [
    {
     "name": "stdout",
     "output_type": "stream",
     "text": [
      "[1, 2, 3, 'hello', 1.57, [2, 3, 4]]\n",
      "[1, 2, 3, 20, 1.57, [2, 3, 4]]\n"
     ]
    }
   ],
   "source": [
    "item=[1,2,3,'hello',1.57,[2,3,4]]\n",
    "print(item)\n",
    "item[3]=20\n",
    "print(item)#改直接就能改,不用管数据类型"
   ]
  },
  {
   "cell_type": "markdown",
   "id": "0ec330c7-d21f-44a9-b8fb-add14c7b8e62",
   "metadata": {},
   "source": [
    "# 第二个问题是元组"
   ]
  },
  {
   "cell_type": "markdown",
   "id": "fab5c50b-ad40-4d47-ad7a-a232128b88c3",
   "metadata": {},
   "source": [
    "元组旨在搞一个不能被更改的元素的列表,他一经定义就不能改变了,如果你尝试修改他,python会报错\n",
    "这里的索引访问还是用[]"
   ]
  },
  {
   "cell_type": "code",
   "execution_count": 89,
   "id": "a70438dc-cd0f-441e-96f6-4b5d6aab5334",
   "metadata": {},
   "outputs": [
    {
     "name": "stdout",
     "output_type": "stream",
     "text": [
      "(10, 20)\n",
      "20\n"
     ]
    }
   ],
   "source": [
    "aaa=(10,20)\n",
    "print(aaa)\n",
    "print(aaa[1])"
   ]
  },
  {
   "cell_type": "code",
   "execution_count": 90,
   "id": "54396114-6c7c-48a8-b937-51b5e1c476f9",
   "metadata": {},
   "outputs": [
    {
     "ename": "TypeError",
     "evalue": "'tuple' object does not support item assignment",
     "output_type": "error",
     "traceback": [
      "\u001b[1;31m---------------------------------------------------------------------------\u001b[0m",
      "\u001b[1;31mTypeError\u001b[0m                                 Traceback (most recent call last)",
      "Cell \u001b[1;32mIn[90], line 2\u001b[0m\n\u001b[0;32m      1\u001b[0m aaa\u001b[38;5;241m=\u001b[39m(\u001b[38;5;241m10\u001b[39m,\u001b[38;5;241m20\u001b[39m)\n\u001b[1;32m----> 2\u001b[0m aaa[\u001b[38;5;241m0\u001b[39m]\u001b[38;5;241m=\u001b[39m\u001b[38;5;241m20\u001b[39m\n\u001b[0;32m      3\u001b[0m \u001b[38;5;28mprint\u001b[39m(aaa)\n",
      "\u001b[1;31mTypeError\u001b[0m: 'tuple' object does not support item assignment"
     ]
    }
   ],
   "source": [
    "aaa=(10,20)\n",
    "aaa[0]=20\n",
    "print(aaa)"
   ]
  },
  {
   "cell_type": "code",
   "execution_count": 91,
   "id": "3c80ed96-30b4-4b01-b67c-8eb693709324",
   "metadata": {},
   "outputs": [
    {
     "ename": "SyntaxError",
     "evalue": "invalid syntax (668272853.py, line 1)",
     "output_type": "error",
     "traceback": [
      "\u001b[1;36m  Cell \u001b[1;32mIn[91], line 1\u001b[1;36m\u001b[0m\n\u001b[1;33m    如果我们真的很想改变元组的数据那该怎么办呢?答案是重新整一个\u001b[0m\n\u001b[1;37m                         ^\u001b[0m\n\u001b[1;31mSyntaxError\u001b[0m\u001b[1;31m:\u001b[0m invalid syntax\n"
     ]
    }
   ],
   "source": [
    "如果我们真的很想改变元组的数据那该怎么办呢?答案是重新整一个"
   ]
  },
  {
   "cell_type": "code",
   "execution_count": 92,
   "id": "37c58802-0b2b-465c-bd9f-9a04de7e1e49",
   "metadata": {},
   "outputs": [
    {
     "name": "stdout",
     "output_type": "stream",
     "text": [
      "(10, 20)\n",
      "(20, 20)\n"
     ]
    }
   ],
   "source": [
    "aaa=(10,20)\n",
    "print(aaa)\n",
    "aaa=(20,20)\n",
    "print(aaa)"
   ]
  },
  {
   "cell_type": "markdown",
   "id": "950edc9c-5bd8-4415-8c68-0813d51fc50c",
   "metadata": {},
   "source": [
    "用tuple可以将任意序列或迭代器转换为元组"
   ]
  },
  {
   "cell_type": "code",
   "execution_count": 1,
   "id": "c12a8de2-3f69-4380-812c-f5f8e8bea473",
   "metadata": {},
   "outputs": [
    {
     "name": "stdout",
     "output_type": "stream",
     "text": [
      "[1, 2, 3, 'hello', 1.57, [2, 3, 4]]\n",
      "(1, 2, 3, 'hello', 1.57, [2, 3, 4])\n"
     ]
    }
   ],
   "source": [
    "item=[1,2,3,'hello',1.57,[2,3,4]]\n",
    "print(item)\n",
    "item_R=tuple(item)\n",
    "print(item_R)"
   ]
  },
  {
   "cell_type": "code",
   "execution_count": null,
   "id": "61ca5172-e625-498b-a8e5-d8be134929f5",
   "metadata": {},
   "outputs": [],
   "source": []
  },
  {
   "cell_type": "code",
   "execution_count": null,
   "id": "86f70a2d-6e17-4d73-8f9f-2cf467a916af",
   "metadata": {},
   "outputs": [],
   "source": []
  },
  {
   "cell_type": "code",
   "execution_count": null,
   "id": "b0100666-cde9-4f49-9108-efd5ced617b4",
   "metadata": {},
   "outputs": [],
   "source": []
  },
  {
   "cell_type": "code",
   "execution_count": null,
   "id": "f593fa50-1404-44ab-b1a1-49fb182693b4",
   "metadata": {},
   "outputs": [],
   "source": []
  },
  {
   "cell_type": "code",
   "execution_count": null,
   "id": "0a433a32-08ae-417f-99fa-e425d64502fc",
   "metadata": {},
   "outputs": [],
   "source": []
  },
  {
   "cell_type": "code",
   "execution_count": null,
   "id": "8abeb81d-f7b3-41bb-b59d-ebd0f63ee745",
   "metadata": {},
   "outputs": [],
   "source": []
  },
  {
   "cell_type": "code",
   "execution_count": null,
   "id": "954dbc01-ff1e-44bf-97e1-6ff4a6213ac0",
   "metadata": {},
   "outputs": [],
   "source": []
  },
  {
   "cell_type": "code",
   "execution_count": null,
   "id": "8dd0f763-b909-4012-9abf-4ad6a2978847",
   "metadata": {},
   "outputs": [],
   "source": []
  },
  {
   "cell_type": "code",
   "execution_count": null,
   "id": "0d997a2b-9794-4f8e-b261-6209d462384e",
   "metadata": {},
   "outputs": [],
   "source": []
  },
  {
   "cell_type": "code",
   "execution_count": null,
   "id": "681cdd5b-fc69-4175-981b-89f9ebb7bcda",
   "metadata": {},
   "outputs": [],
   "source": []
  },
  {
   "cell_type": "code",
   "execution_count": null,
   "id": "ebd43297-0cff-4d07-9c8d-2ab2630fcf15",
   "metadata": {},
   "outputs": [],
   "source": []
  },
  {
   "cell_type": "code",
   "execution_count": null,
   "id": "5952363a-1301-478a-a50e-c82f6b1204fc",
   "metadata": {},
   "outputs": [],
   "source": []
  },
  {
   "cell_type": "code",
   "execution_count": null,
   "id": "8831a854-c923-4566-8446-b89e8d0736fe",
   "metadata": {},
   "outputs": [],
   "source": []
  },
  {
   "cell_type": "code",
   "execution_count": null,
   "id": "c860fc4c-da58-4a54-acbf-d09e5973bd98",
   "metadata": {},
   "outputs": [],
   "source": []
  },
  {
   "cell_type": "code",
   "execution_count": null,
   "id": "86518b0b-544c-4c52-ad5b-8c94c5ddc9b4",
   "metadata": {},
   "outputs": [],
   "source": []
  }
 ],
 "metadata": {
  "kernelspec": {
   "display_name": "Python 3 (ipykernel)",
   "language": "python",
   "name": "python3"
  },
  "language_info": {
   "codemirror_mode": {
    "name": "ipython",
    "version": 3
   },
   "file_extension": ".py",
   "mimetype": "text/x-python",
   "name": "python",
   "nbconvert_exporter": "python",
   "pygments_lexer": "ipython3",
   "version": "3.11.10"
  }
 },
 "nbformat": 4,
 "nbformat_minor": 5
}
