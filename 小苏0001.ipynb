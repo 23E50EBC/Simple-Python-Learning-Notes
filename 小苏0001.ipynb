{
 "cells": [
  {
   "cell_type": "markdown",
   "id": "83630288-0a74-4997-acad-757c1525f6e1",
   "metadata": {},
   "source": [
    "我的学习笔记"
   ]
  },
  {
   "cell_type": "markdown",
   "id": "6d03e22b-6db0-4173-b3dc-9ef18818d37b",
   "metadata": {},
   "source": [
    "变量\n",
    "他的变量完全不需要变量名,因为py把所有变量都视作对象,确实太铺张了\n",
    "然后他没有常数类型,你没有static了,这里建议你使用一个全大写的字符串表示这个变量是常量,请不要改动队友代码里全大写的变量"
   ]
  },
  {
   "cell_type": "code",
   "execution_count": 2,
   "id": "bee778ed-958b-4109-9a9d-e0ea372d0a55",
   "metadata": {},
   "outputs": [
    {
     "name": "stdout",
     "output_type": "stream",
     "text": [
      "3\n"
     ]
    }
   ],
   "source": [
    "CHANGLIANG=3\n",
    "print(CHANGLIANG)"
   ]
  },
  {
   "cell_type": "markdown",
   "id": "50f0948b-9925-4283-8fbc-51808d517cb4",
   "metadata": {},
   "source": [
    "此外你还有java的那个驼峰表示法,如newPeople 不然就下划线new_people\n",
    "这里也不能用空格\n",
    "少用拼音,不行就百度翻译,缩写也不咋地\n",
    "然后他也大小写敏感\n",
    "小写l和1分不出来,别使就完了,小写o问题其实不大,因为0是这样的\n",
    "然后字符串你也不需要定义字符串对象,直接写就行\n",
    "譬如a=\"hello\",a打印出来就是个字符串,如果你希望你的字符串里含有换行符,那就用仨引号\n",
    "然后值得注意的是,他并不细分'和\"有什么区别,但是你不能混搭\n",
    "在你试图写一个帮助文档时,请使用\"\"\",这样中间包着的东西会出现在你试图调用这个函数的使用文档时\n",
    "建议你在任意符号后加个空格"
   ]
  },
  {
   "cell_type": "code",
   "execution_count": 23,
   "id": "74939930-9235-4040-bc41-00d1c1748bdc",
   "metadata": {},
   "outputs": [
    {
     "name": "stdout",
     "output_type": "stream",
     "text": [
      "hello, hello would, hello\n"
     ]
    }
   ],
   "source": [
    "a=\"hello\"\n",
    "b='''hello would'''\n",
    "c='hello'\n",
    "print(a+', '+b+', '+c)"
   ]
  },
  {
   "cell_type": "code",
   "execution_count": 24,
   "id": "3010a32c-edb2-455f-bf88-a12ff2d8bcb8",
   "metadata": {},
   "outputs": [
    {
     "ename": "SyntaxError",
     "evalue": "unterminated string literal (detected at line 4) (2529796313.py, line 4)",
     "output_type": "error",
     "traceback": [
      "\u001b[1;36m  Cell \u001b[1;32mIn[24], line 4\u001b[1;36m\u001b[0m\n\u001b[1;33m    d = 'hello\"\u001b[0m\n\u001b[1;37m        ^\u001b[0m\n\u001b[1;31mSyntaxError\u001b[0m\u001b[1;31m:\u001b[0m unterminated string literal (detected at line 4)\n"
     ]
    }
   ],
   "source": [
    "a=\"hello\"\n",
    "b='''hello would'''\n",
    "c='hello'\n",
    "d = 'hello\"\n",
    "print(a+', '+b+', '+c+','+d)"
   ]
  },
  {
   "cell_type": "markdown",
   "id": "2a72a8b0-c719-4033-937b-9b7e983d7965",
   "metadata": {
    "jupyter": {
     "source_hidden": true
    }
   },
   "source": [
    "对了,你print也可以像是java那样用+来处理字符串,然后字符串*2就是打印两边"
   ]
  },
  {
   "cell_type": "code",
   "execution_count": 28,
   "id": "d08d0665-b8e0-4de4-9b5b-7daf2c72ce75",
   "metadata": {},
   "outputs": [
    {
     "name": "stdout",
     "output_type": "stream",
     "text": [
      "hellohello\n"
     ]
    }
   ],
   "source": [
    "a=\"hello\"\n",
    "\n",
    "print(a*2)"
   ]
  },
  {
   "cell_type": "markdown",
   "id": "6449669e-1c0b-48e8-8c21-71d9eb13c2ca",
   "metadata": {},
   "source": [
    "一个常用的函数是upper 和lower,这俩是字符串类里的方法,用来把字符串变成全大写或是全小写,title方法可以大写首字母"
   ]
  },
  {
   "cell_type": "code",
   "execution_count": 12,
   "id": "bd2aa279-0f15-4856-a6e0-669e48a5e792",
   "metadata": {},
   "outputs": [
    {
     "name": "stdout",
     "output_type": "stream",
     "text": [
      "HELLO, hello, Hello\n"
     ]
    }
   ],
   "source": [
    "a=\"hello\"\n",
    "c='hello'\n",
    "print(a.upper()+', '+ a.lower() +', '+ c.title())"
   ]
  },
  {
   "cell_type": "markdown",
   "id": "722e8b96-0c91-40b0-b550-91d59a1093f1",
   "metadata": {},
   "source": [
    "一个很重要的东西叫f字符串,这个玩意后面加一个大括号,然后就允许你把已有的字符串拼成一个新的字符串\n",
    "此外他还有一些小技巧,譬如保留几位小数之类的"
   ]
  },
  {
   "cell_type": "code",
   "execution_count": 15,
   "id": "4a99415f-08f6-4636-982d-a672694e5d55",
   "metadata": {},
   "outputs": [
    {
     "name": "stdout",
     "output_type": "stream",
     "text": [
      "new,HELLO\n"
     ]
    }
   ],
   "source": [
    "a=\"hello\"\n",
    "c=f\"new,{a.upper()}\"\n",
    "print(c)"
   ]
  },
  {
   "cell_type": "markdown",
   "id": "c93aef7b-b56b-404f-8196-9cf81acbef0c",
   "metadata": {},
   "source": [
    "然后\\t是制表符(就是你tab的那个),\\n是换行"
   ]
  },
  {
   "cell_type": "code",
   "execution_count": 18,
   "id": "28ee21ee-e37b-4c47-a583-23edc92b4bc9",
   "metadata": {},
   "outputs": [
    {
     "name": "stdout",
     "output_type": "stream",
     "text": [
      "hello \t would, hello \n",
      " would\n"
     ]
    }
   ],
   "source": [
    "a=\"hello \\t would\"\n",
    "b='''hello \\n would'''\n",
    "print(a+', '+b)"
   ]
  },
  {
   "cell_type": "markdown",
   "id": "4e330486-8161-4cd8-a522-d0c09b202221",
   "metadata": {},
   "source": [
    "lstrip和rstrip两个方法是用来移除字符串中左,右端的空格,然后strip() ：移除两端的空白"
   ]
  },
  {
   "cell_type": "code",
   "execution_count": null,
   "id": "d5162d79-1efb-46d0-8794-3222ce8c9838",
   "metadata": {},
   "outputs": [],
   "source": [
    "a=\" hello \"\n",
    "print(a.lstrip()+', '+ a.rstrip() +', '+ a.strip())"
   ]
  },
  {
   "cell_type": "markdown",
   "id": "cc998b00-22e0-4ee2-87d5-39eb3b12ff00",
   "metadata": {},
   "source": [
    "removeprefix()：移除字符串中指定的前缀,但是前缀得是一个字符串或是字符串类型的变量"
   ]
  },
  {
   "cell_type": "code",
   "execution_count": 21,
   "id": "b0baddbd-5cfa-4ac7-af04-5793acb5201f",
   "metadata": {},
   "outputs": [
    {
     "name": "stdout",
     "output_type": "stream",
     "text": [
      "hello would,  would\n"
     ]
    }
   ],
   "source": [
    "\n",
    "b='''hello would'''\n",
    "print(b+', '+b.removeprefix(\"hello\"))"
   ]
  },
  {
   "cell_type": "markdown",
   "id": "6281f135-2805-4a0d-bd92-7df50b1c4f03",
   "metadata": {},
   "source": [
    "然后是数值类型,这里也非常方便,你只需要用不带小数的玩意他就会默认给你一个整数类型\n",
    "如果带了小数,那就是一个64位浮点数,你也不需要操心double flout了\n",
    "然后你往数字里加下划线,他会认为这还是原来的数"
   ]
  },
  {
   "cell_type": "code",
   "execution_count": 29,
   "id": "a153e805-b123-4af4-8a69-0519572e8afc",
   "metadata": {},
   "outputs": [
    {
     "name": "stdout",
     "output_type": "stream",
     "text": [
      "1\n",
      "1.5\n",
      "100000\n",
      "100000\n"
     ]
    }
   ],
   "source": [
    "a= 1\n",
    "b = 1.5\n",
    "c = 100000\n",
    "d = 100_000\n",
    "print(a)\n",
    "print(b)\n",
    "print(c)\n",
    "print(d)"
   ]
  },
  {
   "cell_type": "markdown",
   "id": "35a591b4-4292-4c08-be13-28348b637a42",
   "metadata": {},
   "source": [
    "基本运算也非常方便,譬如**是^,双斜杠//是整数除法,%是取模"
   ]
  },
  {
   "cell_type": "code",
   "execution_count": 30,
   "id": "65c4eece-3dfe-43bf-8fd0-5269d014a345",
   "metadata": {},
   "outputs": [
    {
     "name": "stdout",
     "output_type": "stream",
     "text": [
      "2.25\n"
     ]
    }
   ],
   "source": [
    "\n",
    "b = 1.5\n",
    "\n",
    "print(b**2)\n"
   ]
  },
  {
   "cell_type": "markdown",
   "id": "1f4a55a1-a988-4763-a383-db3db17a1636",
   "metadata": {},
   "source": [
    "也有布尔类型"
   ]
  },
  {
   "cell_type": "code",
   "execution_count": null,
   "id": "5e4f8af4-44fe-44dc-a663-4672070bc8f2",
   "metadata": {},
   "outputs": [],
   "source": [
    "然后你可以按照键值对的理解来一次性给多个变量赋值,间隔只需要,就完了"
   ]
  },
  {
   "cell_type": "code",
   "execution_count": 31,
   "id": "9bbfe06a-97a3-4628-a721-e98040b3fdcd",
   "metadata": {},
   "outputs": [
    {
     "name": "stdout",
     "output_type": "stream",
     "text": [
      "1\n",
      "2\n",
      "3\n",
      "4\n"
     ]
    }
   ],
   "source": [
    "a,b,c,d= 1,2,3,4\n",
    "\n",
    "print(a)\n",
    "print(b)\n",
    "print(c)\n",
    "print(d)"
   ]
  },
  {
   "cell_type": "markdown",
   "id": "4cfe9ea6-dd23-4f21-a9dd-42825f8faf16",
   "metadata": {},
   "source": [
    "注释是#,但多段注释又回到/*和*/,为了保证你第二天醒了还看得懂你昨晚写的啥"
   ]
  },
  {
   "cell_type": "markdown",
   "id": "d7bc6a21-18d0-4811-a532-79019bd5c52a",
   "metadata": {},
   "source": [
    "代码请遵循奥卡姆剃刀原理"
   ]
  }
 ],
 "metadata": {
  "kernelspec": {
   "display_name": "Python 3 (ipykernel)",
   "language": "python",
   "name": "python3"
  },
  "language_info": {
   "codemirror_mode": {
    "name": "ipython",
    "version": 3
   },
   "file_extension": ".py",
   "mimetype": "text/x-python",
   "name": "python",
   "nbconvert_exporter": "python",
   "pygments_lexer": "ipython3",
   "version": "3.11.10"
  }
 },
 "nbformat": 4,
 "nbformat_minor": 5
}
