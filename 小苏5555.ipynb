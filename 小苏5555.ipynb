{
 "cells": [
  {
   "cell_type": "markdown",
   "id": "f2e18d61-db9d-434d-966a-2ad9f626588b",
   "metadata": {},
   "source": [
    "# 这节课介绍面向对象\n",
    "\n",
    "正中我的下怀！\n",
    "\n",
    "你知道的，学习面向对象的第一步是学会创建类，然后等你学会了全部的创建类的方式之后，我们才会开始真正理解面向对象\n"
   ]
  },
  {
   "cell_type": "markdown",
   "id": "3827dc67-2786-4a85-927f-507db865b0a5",
   "metadata": {},
   "source": [
    "这里介绍如何创建一个类，首先你需要用class关键字，这里的命名方式是要首字母大写，再驼峰表示法，和java里是一样的，创建完了类之后用冒号介导一个缩进，然后就是类里面的内容了\n",
    "\n",
    "类的构造器是——init——（）（前后俩下划线）这会在你创建对象时默认执行这个方法，他的参数列表也可以传，也可以空，但是无论如何都必须第一个参数以self名，其他的方法你等下也会知道，也必须第一个参数以self为起始\n",
    "\n",
    "这代表你在调用这个方法的时候可以空参的调用这个方法python会把对象自己传给自己的方法\n",
    "\n",
    "如果你希望类具有属性，那么可以把属性写在这里，注意到这个属性的名字不能像是你Java那样直接接在class内，你需要写在init里，并且这个类的变量名需要self.xxx，更下面也有反例\n"
   ]
  },
  {
   "cell_type": "code",
   "execution_count": 1,
   "id": "46780b52-f8c4-4fdb-88a7-198e9a01a875",
   "metadata": {},
   "outputs": [
    {
     "name": "stdout",
     "output_type": "stream",
     "text": [
      "创建了一个对象\n"
     ]
    }
   ],
   "source": [
    "class dog:\n",
    "    \"\"\"狗类\"\"\"\n",
    "    def __init__(self):\n",
    "        print(\"创建了一个对象\")\n",
    "\n",
    "my_dog = dog()"
   ]
  },
  {
   "cell_type": "markdown",
   "id": "5b27ec0b-a497-4f53-8030-e2e2a7c4c6ec",
   "metadata": {},
   "source": [
    "创建对象连new都不需要，直接就是用这个类名就可以了，下面这个代码展示构造器的参数是在创建对象时给出的"
   ]
  },
  {
   "cell_type": "code",
   "execution_count": 2,
   "id": "bbba9c15-4385-4309-9fb2-4d0118ab0efe",
   "metadata": {},
   "outputs": [
    {
     "name": "stdout",
     "output_type": "stream",
     "text": [
      "创建了一个hello\n"
     ]
    }
   ],
   "source": [
    "class dog:\n",
    "    \"\"\"狗类\"\"\"\n",
    "    def __init__(self,strs):\n",
    "        print(f\"创建了一个{strs}\")\n",
    "\n",
    "my_dog = dog(\"hello\")"
   ]
  },
  {
   "cell_type": "markdown",
   "id": "c6a753e5-c24f-4313-b5cb-8cf2f692d65a",
   "metadata": {},
   "source": [
    "当然你也可以调用这个类里的方法，这和你java里是一样的，注意到方法也需要self，下面也会给出一个反例"
   ]
  },
  {
   "cell_type": "code",
   "execution_count": 3,
   "id": "c2826edd-1b2d-4f6c-b9a6-18657a72a19e",
   "metadata": {},
   "outputs": [
    {
     "name": "stdout",
     "output_type": "stream",
     "text": [
      "创建了一个hello\n",
      "大黄\n"
     ]
    }
   ],
   "source": [
    "class dog:\n",
    "    \"\"\"狗类\"\"\"\n",
    "    def __init__(self,strs):\n",
    "        print(f\"创建了一个{strs}\")\n",
    "\n",
    "    def name(self,strsss):\n",
    "        print(strsss)\n",
    "\n",
    "\n",
    "my_dog = dog(\"hello\")\n",
    "my_dog.name(\"大黄\")\n"
   ]
  },
  {
   "cell_type": "code",
   "execution_count": 4,
   "id": "dceecb8d-8193-4b59-a347-019af4987d7b",
   "metadata": {},
   "outputs": [
    {
     "name": "stdout",
     "output_type": "stream",
     "text": [
      "创建了一个hello\n"
     ]
    },
    {
     "ename": "TypeError",
     "evalue": "dog.name() takes 1 positional argument but 2 were given",
     "output_type": "error",
     "traceback": [
      "\u001b[31m---------------------------------------------------------------------------\u001b[39m",
      "\u001b[31mTypeError\u001b[39m                                 Traceback (most recent call last)",
      "\u001b[36mCell\u001b[39m\u001b[36m \u001b[39m\u001b[32mIn[4]\u001b[39m\u001b[32m, line 11\u001b[39m\n\u001b[32m      7\u001b[39m         \u001b[38;5;28mprint\u001b[39m(strsss)\n\u001b[32m     10\u001b[39m my_dog = dog(\u001b[33m\"\u001b[39m\u001b[33mhello\u001b[39m\u001b[33m\"\u001b[39m)\n\u001b[32m---> \u001b[39m\u001b[32m11\u001b[39m \u001b[43mmy_dog\u001b[49m\u001b[43m.\u001b[49m\u001b[43mname\u001b[49m\u001b[43m(\u001b[49m\u001b[33;43m\"\u001b[39;49m\u001b[33;43m大黄\u001b[39;49m\u001b[33;43m\"\u001b[39;49m\u001b[43m)\u001b[49m\n",
      "\u001b[31mTypeError\u001b[39m: dog.name() takes 1 positional argument but 2 were given"
     ]
    }
   ],
   "source": [
    "class dog:\n",
    "    \"\"\"狗类\"\"\"\n",
    "    def __init__(self,strs):\n",
    "        print(f\"创建了一个{strs}\")\n",
    "\n",
    "    def name(strsss):\n",
    "        print(strsss)\n",
    "\n",
    "\n",
    "my_dog = dog(\"hello\")\n",
    "my_dog.name(\"大黄\")\n"
   ]
  },
  {
   "cell_type": "markdown",
   "id": "15fef996-fa9e-4c21-8f9c-9dd87a6b26ff",
   "metadata": {},
   "source": [
    "和你java里一样的，你可以用一个类创建多个对象，各自有各自的属性和取值，但是方法共享同一个方法，这里还要给出一个例子是局部"
   ]
  },
  {
   "cell_type": "code",
   "execution_count": 13,
   "id": "b070d7fc-4aef-4a83-8085-b16b9e65a6d5",
   "metadata": {},
   "outputs": [
    {
     "name": "stdout",
     "output_type": "stream",
     "text": [
      "狗的名字叫hello\n",
      "狗叫hello\n"
     ]
    }
   ],
   "source": [
    "class dog:\n",
    "    \"\"\"狗类\"\"\"\n",
    "    def __init__(self,name):\n",
    "        self.name = name\n",
    "        print(f\"狗的名字叫{self.name}\")\n",
    "\n",
    "    def name(self):\n",
    "        return self.name\n",
    "\n",
    "\n",
    "my_dog = dog(\"hello\")\n",
    "print(f\"狗叫{my_dog.name}\")\n"
   ]
  },
  {
   "cell_type": "code",
   "execution_count": 18,
   "id": "2782d684-5140-4359-9374-e10bfa6009b1",
   "metadata": {},
   "outputs": [
    {
     "ename": "NameError",
     "evalue": "name 'self' is not defined",
     "output_type": "error",
     "traceback": [
      "\u001b[31m---------------------------------------------------------------------------\u001b[39m",
      "\u001b[31mNameError\u001b[39m                                 Traceback (most recent call last)",
      "\u001b[36mCell\u001b[39m\u001b[36m \u001b[39m\u001b[32mIn[18]\u001b[39m\u001b[32m, line 1\u001b[39m\n\u001b[32m----> \u001b[39m\u001b[32m1\u001b[39m \u001b[38;5;28;43;01mclass\u001b[39;49;00m\u001b[38;5;250;43m \u001b[39;49m\u001b[34;43;01mdog\u001b[39;49;00m\u001b[43m:\u001b[49m\n\u001b[32m      2\u001b[39m \u001b[38;5;250;43m    \u001b[39;49m\u001b[33;43;03m\"\"\"狗类\"\"\"\u001b[39;49;00m\n\u001b[32m      3\u001b[39m \u001b[43m    \u001b[49m\u001b[38;5;28;43mself\u001b[39;49m\u001b[43m.\u001b[49m\u001b[43mname\u001b[49m\u001b[43m \u001b[49m\u001b[43m=\u001b[49m\u001b[43m \u001b[49m\u001b[32;43m0\u001b[39;49m\n",
      "\u001b[36mCell\u001b[39m\u001b[36m \u001b[39m\u001b[32mIn[18]\u001b[39m\u001b[32m, line 3\u001b[39m, in \u001b[36mdog\u001b[39m\u001b[34m()\u001b[39m\n\u001b[32m      1\u001b[39m \u001b[38;5;28;01mclass\u001b[39;00m\u001b[38;5;250m \u001b[39m\u001b[34;01mdog\u001b[39;00m:\n\u001b[32m      2\u001b[39m \u001b[38;5;250m    \u001b[39m\u001b[33;03m\"\"\"狗类\"\"\"\u001b[39;00m\n\u001b[32m----> \u001b[39m\u001b[32m3\u001b[39m     \u001b[38;5;28;43mself\u001b[39;49m.name = \u001b[32m0\u001b[39m\n\u001b[32m      4\u001b[39m     \u001b[38;5;28;01mdef\u001b[39;00m\u001b[38;5;250m \u001b[39m\u001b[34m__init__\u001b[39m(\u001b[38;5;28mself\u001b[39m,name):\n\u001b[32m      5\u001b[39m        \u001b[38;5;66;03m# self.name = name\u001b[39;00m\n\u001b[32m      6\u001b[39m         \u001b[38;5;28mprint\u001b[39m(\u001b[33mf\u001b[39m\u001b[33m\"\u001b[39m\u001b[33m狗的名字叫\u001b[39m\u001b[38;5;132;01m{\u001b[39;00m\u001b[38;5;28mself\u001b[39m.name\u001b[38;5;132;01m}\u001b[39;00m\u001b[33m\"\u001b[39m)\n",
      "\u001b[31mNameError\u001b[39m: name 'self' is not defined"
     ]
    }
   ],
   "source": [
    "class dog:\n",
    "    \"\"\"狗类\"\"\"\n",
    "    self.name = 0\n",
    "    def __init__(self,name):\n",
    "       # self.name = name\n",
    "        print(f\"狗的名字叫{self.name}\")\n",
    "\n",
    "    def name(self):\n",
    "        return self.name\n",
    "\n",
    "\n",
    "my_dog = dog(\"hello\")\n",
    "print(f\"狗叫{my_dog.name}\")\n"
   ]
  },
  {
   "cell_type": "markdown",
   "id": "60fe9fcf-81f7-4603-abe5-6c5fc9aa4e15",
   "metadata": {},
   "source": [
    "另外，需要默认的属性也可以在init里给一个赋值语句，这时如果你传入的参数缺了，他就会去取默认值"
   ]
  },
  {
   "cell_type": "code",
   "execution_count": 15,
   "id": "c1101a49-2770-4b31-a317-fa87e61ae878",
   "metadata": {
    "scrolled": true
   },
   "outputs": [
    {
     "name": "stdout",
     "output_type": "stream",
     "text": [
      "狗的名字叫null\n",
      "狗叫null\n"
     ]
    }
   ],
   "source": [
    "class dog:\n",
    "    \"\"\"狗类\"\"\"\n",
    "    def __init__(self,name = \"null\"):\n",
    "        self.name = name\n",
    "        print(f\"狗的名字叫{self.name}\")\n",
    "\n",
    "    def name(self):\n",
    "        return self.name\n",
    "\n",
    "\n",
    "my_dog = dog()\n",
    "print(f\"狗叫{my_dog.name}\")\n"
   ]
  },
  {
   "cell_type": "markdown",
   "id": "cd6bbad4-4c63-4f45-95b9-f7960261813e",
   "metadata": {},
   "source": [
    "注意到，你现在仍可以通过直接访问对象名然后改他的属性的值，然后我告诉你你永远可以这么做，因为python没给你写“私有”“静态”“final”之类的东西，这代表你类的对象谁都可以改，这就不如java了，下面一个代码展示修改属性的方法有什么用，但是其实没什么用"
   ]
  },
  {
   "cell_type": "code",
   "execution_count": 49,
   "id": "ccac12a6-b287-4ca1-ba02-aca223de899c",
   "metadata": {},
   "outputs": [
    {
     "name": "stdout",
     "output_type": "stream",
     "text": [
      "狗的名字叫hello\n",
      "狗叫hello\n",
      "改完了\n",
      "狗叫bye\n"
     ]
    }
   ],
   "source": [
    "class dog:\n",
    "    \"\"\"狗类\"\"\"\n",
    "    def __init__(self,name = \"null\"):\n",
    "        self.name = name\n",
    "        print(f\"狗的名字叫{self.name}\")\n",
    "\n",
    "    def pr_name(self):\n",
    "        return self.name\n",
    "\n",
    "    def rename(self,name2):\n",
    "        self.name = name2\n",
    "        print(\"改完了\")\n",
    "\n",
    "\n",
    "my_dog = dog(\"hello\")\n",
    "print(f\"狗叫{my_dog.pr_name()}\")\n",
    "my_dog.rename(\"bye\")\n",
    "print(f\"狗叫{my_dog.name}\")\n"
   ]
  },
  {
   "cell_type": "markdown",
   "id": "9be7a663-063a-4179-8add-6cd07c89147a",
   "metadata": {},
   "source": [
    "# 这里讲继承\n",
    "\n",
    "继承的子类继承自夫类，子类继承了夫类所有的属性和方法，下面这个地方就演示了cat类继承自dog类,注意到了吗？cat类里我可没写name这个方法，但他仍然可以执行，因为cat继承了dog中的方法,并且它还可以有一个独有的play方法"
   ]
  },
  {
   "cell_type": "code",
   "execution_count": 28,
   "id": "b9926bf2-0de6-4ba8-be6e-eb58d11a150d",
   "metadata": {},
   "outputs": [
    {
     "name": "stdout",
     "output_type": "stream",
     "text": [
      "猫的名字叫hahah\n",
      "猫叫hahah\n",
      "猫在玩\n"
     ]
    }
   ],
   "source": [
    "class dog:\n",
    "    \"\"\"狗类\"\"\"\n",
    "    def __init__(self,name = \"null\"):\n",
    "        self.name = name\n",
    "        print(f\"狗的名字叫{self.name}\")\n",
    "\n",
    "    def pr_name(self):\n",
    "        return self.name\n",
    "\n",
    "\n",
    "class cat(dog):\n",
    "    def __init__(self,name):\n",
    "        self.name = name\n",
    "        print(f\"猫的名字叫{self.name}\")\n",
    "\n",
    "    def play(self):\n",
    "        print(\"猫在玩\")\n",
    "\n",
    "\n",
    "my_cat = cat(\"hahah\")\n",
    "print(f\"猫叫{my_cat.pr_name()}\")\n",
    "my_cat.play()"
   ]
  },
  {
   "cell_type": "markdown",
   "id": "4b9fc205-6ffc-4bb9-aeb7-f7c8b3706786",
   "metadata": {},
   "source": [
    "用super来重新唤起父类的方法，下面是一个例子"
   ]
  },
  {
   "cell_type": "code",
   "execution_count": 46,
   "id": "8caa1ea2-9ad4-4d5b-bc15-57e75da449f2",
   "metadata": {},
   "outputs": [
    {
     "name": "stdout",
     "output_type": "stream",
     "text": [
      "狗的名字叫hahah\n",
      "猫的名字叫hahah,年龄是5\n"
     ]
    }
   ],
   "source": [
    "class dog:\n",
    "    \"\"\"狗类\"\"\"\n",
    "    def __init__(self,name = \"null\"):\n",
    "        \n",
    "        self.name = name\n",
    "        print(f\"狗的名字叫{self.name}\")\n",
    "\n",
    "    def pr_name(self):\n",
    "        return self.name\n",
    "\n",
    "\n",
    "class cat(dog):\n",
    "    def __init__(self,name,age):\n",
    "        self.age = age\n",
    "        super().__init__(name)\n",
    "        print(f\"猫的名字叫{self.name},年龄是{self.age}\")\n",
    "\n",
    "    def play(self):\n",
    "        print(\"猫在玩\")\n",
    "\n",
    "\n",
    "my_cat = cat(\"hahah\",5)\n"
   ]
  },
  {
   "cell_type": "markdown",
   "id": "656d3d28-85d8-4f92-8a25-9c7da4ced8d0",
   "metadata": {},
   "source": [
    "重写是指在子类中起一个和父类里某个方法同名的方法，然后你会执行你重写的方法，譬如这个例子就重写了init，还重写了pr_name"
   ]
  },
  {
   "cell_type": "code",
   "execution_count": 53,
   "id": "f34ea2a9-c698-41d7-9c91-cc7027fcb569",
   "metadata": {},
   "outputs": [
    {
     "name": "stdout",
     "output_type": "stream",
     "text": [
      "猫的名字叫hahah\n",
      "1\n"
     ]
    }
   ],
   "source": [
    "class dog:\n",
    "    \"\"\"狗类\"\"\"\n",
    "    def __init__(self,name = \"null\"):\n",
    "        self.name = name\n",
    "        print(f\"狗的名字叫{self.name}\")\n",
    "\n",
    "    def pr_name(self):\n",
    "        return self.name\n",
    "\n",
    "\n",
    "class cat(dog):\n",
    "    def __init__(self,name):\n",
    "        self.name = name\n",
    "        print(f\"猫的名字叫{self.name}\")\n",
    "\n",
    "    def pr_name(self):\n",
    "        return 1\n",
    "\n",
    "\n",
    "\n",
    "my_cat = cat(\"hahah\")\n",
    "print(my_cat.pr_name())\n"
   ]
  },
  {
   "cell_type": "code",
   "execution_count": null,
   "id": "33b18b99-a6f8-44c7-9eee-9d7efb255624",
   "metadata": {},
   "outputs": [],
   "source": [
    "这里提供了一个叫组合的东西，他主要负责让一个类的属性为另一个类的对象，很神奇吧"
   ]
  },
  {
   "cell_type": "code",
   "execution_count": 64,
   "id": "4b0c2bd6-648e-4360-807b-b05c4aa98a86",
   "metadata": {},
   "outputs": [
    {
     "name": "stdout",
     "output_type": "stream",
     "text": [
      "yello色的\n",
      "狗的名字叫hahah\n",
      "yello\n"
     ]
    }
   ],
   "source": [
    "\n",
    "class color():\n",
    "    def __init__(self,color = \"null\"):\n",
    "        self.color = color\n",
    "        print(f\"{self.color}色的\")\n",
    "\n",
    "    def what_color(self):\n",
    "        return self.color\n",
    "\n",
    "class dog:\n",
    "    \"\"\"狗类\"\"\"\n",
    "    def __init__(self,name,color1):\n",
    "        self.name = name\n",
    "        self.the_color = color(color1)\n",
    "        print(f\"狗的名字叫{self.name}\")\n",
    "\n",
    "    def pr_name(self):\n",
    "        return self.name\n",
    "\n",
    "\n",
    "\n",
    "my_dog = dog(\"hahah\",\"yello\")\n",
    "#print(my_dog.pr_name())\n",
    "print(my_dog.the_color.what_color())\n"
   ]
  },
  {
   "cell_type": "markdown",
   "id": "4687e6a1-7a15-4afd-b7f0-afcfcdc8d0b3",
   "metadata": {},
   "source": [
    "导入类仍然使用form和import，还有as，注意，如果在别的包里有类之间的依赖，然后你只导入了其中一个，python会自动把你涉及到的全拿进来"
   ]
  },
  {
   "cell_type": "code",
   "execution_count": null,
   "id": "92fed53f-b36e-45a5-b71a-6b0e4b592cf7",
   "metadata": {},
   "outputs": [],
   "source": []
  },
  {
   "cell_type": "code",
   "execution_count": null,
   "id": "7b6e5f48-d8e9-4589-84e0-e2f3ffe5f2ae",
   "metadata": {},
   "outputs": [],
   "source": []
  },
  {
   "cell_type": "code",
   "execution_count": null,
   "id": "b3a938be-320c-4635-9235-2a067f2b4825",
   "metadata": {},
   "outputs": [],
   "source": []
  },
  {
   "cell_type": "markdown",
   "id": "80e61fc7-3b9c-4698-a8ee-18aa7aceaf3c",
   "metadata": {},
   "source": [
    "多继承只需要在类的括号里加逗号就行了，我拿ai生成了一个代码演示这一环节"
   ]
  },
  {
   "cell_type": "code",
   "execution_count": 65,
   "id": "cf09f3a2-6067-4ba5-b7a7-d28b2d418f33",
   "metadata": {},
   "outputs": [
    {
     "name": "stdout",
     "output_type": "stream",
     "text": [
      "Woof!\n",
      "Buddy is playing!\n",
      "Buddy is a Golden Retriever and belongs to the species Dog.\n"
     ]
    }
   ],
   "source": [
    "class Animal:\n",
    "    def __init__(self, species):\n",
    "        self.species = species\n",
    "\n",
    "    def make_sound(self):\n",
    "        return \"Some generic sound\"\n",
    "\n",
    "class Pet:\n",
    "    def __init__(self, name):\n",
    "        self.name = name\n",
    "\n",
    "    def play(self):\n",
    "        return f\"{self.name} is playing!\"\n",
    "\n",
    "class Dog(Animal, Pet):  # 多继承\n",
    "    def __init__(self, name, breed):\n",
    "        Animal.__init__(self, species=\"Dog\")  # 初始化父类 Animal\n",
    "        Pet.__init__(self, name)                # 初始化父类 Pet\n",
    "        self.breed = breed\n",
    "\n",
    "    def make_sound(self):\n",
    "        return \"Woof!\"\n",
    "\n",
    "# 创建 Dog 类的实例\n",
    "my_dog = Dog(name=\"Buddy\", breed=\"Golden Retriever\")\n",
    "\n",
    "# 调用方法\n",
    "print(my_dog.make_sound())  # 输出狗的叫声\n",
    "print(my_dog.play())        # 输出玩耍信息\n",
    "print(f\"{my_dog.name} is a {my_dog.breed} and belongs to the species {my_dog.species}.\")\n"
   ]
  },
  {
   "cell_type": "markdown",
   "id": "11f69a06-104b-45d7-ac84-970a5cee038c",
   "metadata": {},
   "source": [
    "id和isinstance方法可以给出对象的归属信息，id方法会返回一个对象的唯一id，这代表这个对象所占用的内存空间，如果你让不同的对象名关联到了同一个对象然后你还分不出来谁跟谁指的是同一个单元，你就可以用id\n",
    "\n",
    "isinstance则会返回一个布尔值，用来判断类和对象的关系，如果这个对象是这个类的对象，那么就会返回一个真，反之亦然"
   ]
  },
  {
   "cell_type": "code",
   "execution_count": 72,
   "id": "364a6f43-4b9f-4e84-9862-37fbd9d03b67",
   "metadata": {},
   "outputs": [
    {
     "name": "stdout",
     "output_type": "stream",
     "text": [
      "1664735142864\n",
      "1664735142864\n",
      "1664735142864\n"
     ]
    }
   ],
   "source": [
    "class A:\n",
    "    pass\n",
    "\n",
    "\n",
    "a = A()\n",
    "\n",
    "a2 = a\n",
    "a3 = a2\n",
    "\n",
    "print(id(a2))\n",
    "print(id(a3))\n",
    "print(id(a))\n"
   ]
  },
  {
   "cell_type": "code",
   "execution_count": 76,
   "id": "81c33653-94d6-4d8f-8531-f55cbc20fd9f",
   "metadata": {},
   "outputs": [
    {
     "name": "stdout",
     "output_type": "stream",
     "text": [
      "False\n",
      "True\n",
      "True\n"
     ]
    }
   ],
   "source": [
    "class A:\n",
    "    pass\n",
    "\n",
    "class B:\n",
    "    pass\n",
    "\n",
    "a = A()\n",
    "b = B()\n",
    "\n",
    "print(isinstance(b,A))\n",
    "print(isinstance(a,A))\n",
    "print(isinstance(b,B))\n"
   ]
  },
  {
   "cell_type": "code",
   "execution_count": null,
   "id": "5b08f44f-80ac-456c-8466-740408b58a96",
   "metadata": {},
   "outputs": [],
   "source": []
  },
  {
   "cell_type": "markdown",
   "id": "afd253c3-4e19-40be-9db8-81e2313ed262",
   "metadata": {},
   "source": [
    "# 介绍一个库叫random\n",
    "\n",
    "这个库是标准库，即在你安装python时就安装好的库，在使用时只需要导入他，直接import，不会有问题,这里的randinit代表随机生成一个区间内的整数,如果你需要步长，则你就要用range，从1开始步长2就是取奇数，0开始步长2就是取偶数"
   ]
  },
  {
   "cell_type": "code",
   "execution_count": 85,
   "id": "0d2c2f0a-77ce-4f9d-83d7-378be2f9e82e",
   "metadata": {},
   "outputs": [
    {
     "name": "stdout",
     "output_type": "stream",
     "text": [
      "7\n",
      "10\n",
      "3\n",
      "1\n"
     ]
    }
   ],
   "source": [
    "from random import randint\n",
    "print(randint(1,10))\n",
    "print(randint(1,10))    \n",
    "print(randint(1,10))\n",
    "print(randint(1,10))"
   ]
  },
  {
   "cell_type": "code",
   "execution_count": 89,
   "id": "94d898ce-d4b6-485c-920c-4b4e6cde7561",
   "metadata": {},
   "outputs": [
    {
     "name": "stdout",
     "output_type": "stream",
     "text": [
      "1\n",
      "1\n",
      "7\n",
      "7\n",
      "\n",
      "4\n",
      "8\n",
      "8\n",
      "8\n"
     ]
    }
   ],
   "source": [
    "from random import *\n",
    "print(randrange(1,10,2))\n",
    "print(randrange(1,10,2))\n",
    "print(randrange(1,10,2))\n",
    "print(randrange(1,10,2))\n",
    "print()\n",
    "print(randrange(0,10,2))\n",
    "print(randrange(0,10,2))\n",
    "print(randrange(0,10,2))\n",
    "print(randrange(0,10,2))"
   ]
  },
  {
   "cell_type": "markdown",
   "id": "f2b86eb2-89f7-40b6-ad14-9057f570ad3e",
   "metadata": {},
   "source": [
    "随机获取一个小数就直接random了,注意这个不能接受参数，若需要区间内的小数则可以nuiform"
   ]
  },
  {
   "cell_type": "code",
   "execution_count": 91,
   "id": "167703e0-f0c1-4bbc-b913-128ab07b1e4b",
   "metadata": {},
   "outputs": [
    {
     "name": "stdout",
     "output_type": "stream",
     "text": [
      "0.4701745517337913\n",
      "0.5753343394567015\n",
      "0.4259997284820668\n",
      "0.4827838045695372\n"
     ]
    }
   ],
   "source": [
    "from random import *\n",
    "print(random())\n",
    "print(random())\n",
    "print(random())\n",
    "print(random())"
   ]
  },
  {
   "cell_type": "code",
   "execution_count": 94,
   "id": "aa95ce74-b21f-4e55-92ea-3e3532ed8a13",
   "metadata": {},
   "outputs": [
    {
     "name": "stdout",
     "output_type": "stream",
     "text": [
      "6.6022553368071355\n",
      "5.404708860852232\n",
      "8.458424236240507\n",
      "7.739984252448863\n"
     ]
    }
   ],
   "source": [
    "from random import *\n",
    "print(uniform(5, 10))\n",
    "print(uniform(5, 10))\n",
    "print(uniform(5, 10))\n",
    "print(uniform(5, 10))"
   ]
  },
  {
   "cell_type": "markdown",
   "id": "6d340b71-cb4c-4fcd-953c-cfc529ba9be4",
   "metadata": {},
   "source": [
    "choice（选择）可以从可迭代对象里随机得到一个元素，shuffle（洗牌）可以对可迭代对象重新排列（原位排列），sample（抽样）是从里面随机取出n个不重复的·元素"
   ]
  },
  {
   "cell_type": "code",
   "execution_count": 96,
   "id": "e2291487-a03a-49e0-aa5a-70750a573884",
   "metadata": {},
   "outputs": [
    {
     "name": "stdout",
     "output_type": "stream",
     "text": [
      "999\n",
      "555\n",
      "999\n",
      "111\n"
     ]
    }
   ],
   "source": [
    "from random import *\n",
    "L = [111,222,333,444,555,666,777,888,999]\n",
    "print(choice(L))\n",
    "print(choice(L))\n",
    "print(choice(L))\n",
    "print(choice(L))"
   ]
  },
  {
   "cell_type": "code",
   "execution_count": 98,
   "id": "118a3d3d-9e89-42e5-a93e-1c873295949b",
   "metadata": {},
   "outputs": [
    {
     "name": "stdout",
     "output_type": "stream",
     "text": [
      "[888, 222, 555, 333, 444, 666, 999, 777, 111]\n"
     ]
    }
   ],
   "source": [
    "from random import *\n",
    "L = [111,222,333,444,555,666,777,888,999]\n",
    "shuffle(L)\n",
    "print(L)"
   ]
  },
  {
   "cell_type": "code",
   "execution_count": 100,
   "id": "10bc2825-4896-4042-afb0-de2653edc5c7",
   "metadata": {},
   "outputs": [
    {
     "name": "stdout",
     "output_type": "stream",
     "text": [
      "[333, 999]\n",
      "[666, 777]\n",
      "[999, 777]\n",
      "[555, 666]\n"
     ]
    }
   ],
   "source": [
    "from random import *\n",
    "L = [111,222,333,444,555,666,777,888,999]\n",
    "print(sample(L,2))\n",
    "print(sample(L,2))\n",
    "print(sample(L,2))\n",
    "print(sample(L,2))"
   ]
  },
  {
   "cell_type": "code",
   "execution_count": null,
   "id": "458579ca-5b74-4e4d-ab96-eaf02ea004a0",
   "metadata": {},
   "outputs": [],
   "source": []
  }
 ],
 "metadata": {
  "kernelspec": {
   "display_name": "Genv",
   "language": "python",
   "name": "my_env"
  },
  "language_info": {
   "codemirror_mode": {
    "name": "ipython",
    "version": 3
   },
   "file_extension": ".py",
   "mimetype": "text/x-python",
   "name": "python",
   "nbconvert_exporter": "python",
   "pygments_lexer": "ipython3",
   "version": "3.11.11"
  }
 },
 "nbformat": 4,
 "nbformat_minor": 5
}
