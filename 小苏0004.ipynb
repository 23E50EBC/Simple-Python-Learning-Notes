{
 "cells": [
  {
   "cell_type": "markdown",
   "id": "1e41183e-1b55-4549-ad5c-07ddb7bdda39",
   "metadata": {},
   "source": [
    "# 这节课是第七章和第八章\n",
    "\n",
    "我们介绍用户输入和whlie循环\n",
    "\n",
    "输入是相当简单的一个函数叫input，这个函数返回值回是一个字符串，你不管输入什么，他都会给你拿进来一个字符串，所以我们称之为“将输入关联到变量”，他的参数是显示一个“提示语句”，"
   ]
  },
  {
   "cell_type": "code",
   "execution_count": 1,
   "id": "d8e11adb-aba3-416e-a61b-13764e32dd1b",
   "metadata": {},
   "outputs": [
    {
     "name": "stdin",
     "output_type": "stream",
     "text": [
      "enter here :  hello\n"
     ]
    },
    {
     "name": "stdout",
     "output_type": "stream",
     "text": [
      "hello\n"
     ]
    }
   ],
   "source": [
    "name = input(\"enter here : \")\n",
    "print(name)"
   ]
  },
  {
   "cell_type": "markdown",
   "id": "20feb353-baa9-41d9-a465-079e4bc14d51",
   "metadata": {},
   "source": [
    "这个参数可以是多行的,\\n就行,或者是你赋值一个带换行的字符串变量,然后穿给他这个字符串做参数"
   ]
  },
  {
   "cell_type": "markdown",
   "id": "12d27d0b-0349-453f-b37a-aeba4f70e317",
   "metadata": {},
   "source": [
    "对了,字符串的+*/现在也直接可以进行,譬如你希望链接两个字符串就用stra+strb,然后你还可以使用+=,代表自增,-=代表自减,*=代表自乘,/=代表自除,**=代表平方\n",
    "\n",
    "下面这个例子里用整数来说明这一点"
   ]
  },
  {
   "cell_type": "code",
   "execution_count": 10,
   "id": "71af6912-496e-455e-90d5-b7446457ce51",
   "metadata": {},
   "outputs": [
    {
     "name": "stdout",
     "output_type": "stream",
     "text": [
      "4\n",
      "0\n",
      "4\n",
      "1.0\n",
      "4\n",
      "1\n"
     ]
    }
   ],
   "source": [
    "aaa=2\n",
    "aaa+=2    #aaa=aaa+2\n",
    "print(aaa)\n",
    "aaa=2\n",
    "aaa-=2    #aaa=aaa+2\n",
    "print(aaa)\n",
    "aaa=2\n",
    "aaa*=2    #aaa=aaa+2\n",
    "print(aaa)\n",
    "aaa=2\n",
    "aaa/=2    #aaa=aaa+2\n",
    "print(aaa)\n",
    "aaa=2\n",
    "aaa**=2    #aaa=aaa+2\n",
    "print(aaa)\n",
    "aaa=2\n",
    "aaa//=2    #aaa=aaa^-2\n",
    "print(aaa)\n"
   ]
  },
  {
   "cell_type": "markdown",
   "id": "aeec07a1-1abd-4d08-b262-074b1f2510f5",
   "metadata": {},
   "source": [
    "while循环同样针对一个可迭代的容器,在满足while的条件下,他会一直执行下去,他在你不知道循环具体要执行多少次时非常有用"
   ]
  },
  {
   "cell_type": "code",
   "execution_count": 11,
   "id": "823290d0-1696-4e02-b128-087d069efaf2",
   "metadata": {},
   "outputs": [
    {
     "name": "stdout",
     "output_type": "stream",
     "text": [
      "1\n",
      "1\n",
      "1\n",
      "1\n"
     ]
    }
   ],
   "source": [
    "counter = 1\n",
    "while counter < 5 :\n",
    "    print(\"1\")\n",
    "    counter+=1\n",
    "    "
   ]
  },
  {
   "cell_type": "markdown",
   "id": "fb8aeb04-d1ed-45d4-a46e-afc3b5a0eae4",
   "metadata": {},
   "source": [
    "还要continue和break这俩玩意,他俩用来做循环的意外跳出,前者跳过这个循环体中剩下的部分,后者直接跳到整个循环的下一句"
   ]
  },
  {
   "cell_type": "code",
   "execution_count": 13,
   "id": "78867806-59b0-4deb-bd8f-fd6cd9d1b1c3",
   "metadata": {},
   "outputs": [
    {
     "name": "stdout",
     "output_type": "stream",
     "text": [
      "1\n",
      "3\n",
      "5\n",
      "7\n",
      "9\n"
     ]
    }
   ],
   "source": [
    "counter = 0\n",
    "while counter < 10 :\n",
    "    counter+=1\n",
    "    if counter % 2 == 0 :\n",
    "        continue\n",
    "\n",
    "    print(counter)\n",
    " "
   ]
  },
  {
   "cell_type": "code",
   "execution_count": 14,
   "id": "ab1aa93e-cc4f-4d08-9169-bfe5b8daea7e",
   "metadata": {},
   "outputs": [
    {
     "name": "stdout",
     "output_type": "stream",
     "text": [
      "1\n",
      "2\n",
      "3\n",
      "4\n"
     ]
    }
   ],
   "source": [
    "counter = 0\n",
    "while counter < 10 :\n",
    "    counter+=1\n",
    "    if counter == 5 :\n",
    "        break\n",
    "\n",
    "    print(counter)"
   ]
  },
  {
   "cell_type": "markdown",
   "id": "c828e41f-12fa-49f6-8861-5131a58abb5f",
   "metadata": {},
   "source": [
    "while一个重要的用途是结合列表,因为列表之类的容器是不定长的,然后在其中设计一个标志位,使得循环跳出\n",
    "\n",
    "或者,直接循环这个列表,他会在列表空时跳出"
   ]
  },
  {
   "cell_type": "code",
   "execution_count": 50,
   "id": "384e2bd3-36c0-418c-9bc3-7f172a65ebab",
   "metadata": {},
   "outputs": [
    {
     "name": "stdout",
     "output_type": "stream",
     "text": [
      "['4', '3', '2', '1']\n"
     ]
    }
   ],
   "source": [
    "sss = ['1','2','3','4']\n",
    "bbb = []\n",
    "while sss :\n",
    "    bbb.append(sss.pop())\n",
    "    \n",
    "print(bbb)"
   ]
  },
  {
   "cell_type": "markdown",
   "id": "2e9b7116-fd3b-4afd-bd6d-829c8ae333cb",
   "metadata": {},
   "source": [
    "因为remove只能移除掉第一个匹配的元素,所以想要移除全部相同元素,那么可以while,这里需要一个关键字来确定我们的列表里有没有待remove的东西,为了防止他报错"
   ]
  },
  {
   "cell_type": "code",
   "execution_count": 56,
   "id": "18dc466f-3c3c-4d8d-91a3-622a7a42535a",
   "metadata": {},
   "outputs": [
    {
     "name": "stdout",
     "output_type": "stream",
     "text": [
      "['wang', 'liu', 'li']\n",
      "['wang', 'liu']\n"
     ]
    }
   ],
   "source": [
    "sss = ['wang','li','liu','li']\n",
    "\n",
    "while 'li' in sss :\n",
    "    sss.remove('li')\n",
    "    print(sss)\n",
    "\n",
    "print(sss)"
   ]
  },
  {
   "cell_type": "code",
   "execution_count": 57,
   "id": "feb4dfef-6037-4217-ae14-ff143b7ae80f",
   "metadata": {},
   "outputs": [
    {
     "name": "stdout",
     "output_type": "stream",
     "text": [
      "['wang', 'liu', 'li']\n",
      "['wang', 'liu']\n"
     ]
    },
    {
     "ename": "ValueError",
     "evalue": "list.remove(x): x not in list",
     "output_type": "error",
     "traceback": [
      "\u001b[1;31m---------------------------------------------------------------------------\u001b[0m",
      "\u001b[1;31mValueError\u001b[0m                                Traceback (most recent call last)",
      "Cell \u001b[1;32mIn[57], line 5\u001b[0m\n\u001b[0;32m      2\u001b[0m sss \u001b[38;5;241m=\u001b[39m [\u001b[38;5;124m'\u001b[39m\u001b[38;5;124mwang\u001b[39m\u001b[38;5;124m'\u001b[39m,\u001b[38;5;124m'\u001b[39m\u001b[38;5;124mli\u001b[39m\u001b[38;5;124m'\u001b[39m,\u001b[38;5;124m'\u001b[39m\u001b[38;5;124mliu\u001b[39m\u001b[38;5;124m'\u001b[39m,\u001b[38;5;124m'\u001b[39m\u001b[38;5;124mli\u001b[39m\u001b[38;5;124m'\u001b[39m]\n\u001b[0;32m      4\u001b[0m \u001b[38;5;28;01mwhile\u001b[39;00m sss :\n\u001b[1;32m----> 5\u001b[0m     sss\u001b[38;5;241m.\u001b[39mremove(\u001b[38;5;124m'\u001b[39m\u001b[38;5;124mli\u001b[39m\u001b[38;5;124m'\u001b[39m)\n\u001b[0;32m      6\u001b[0m     \u001b[38;5;28mprint\u001b[39m(sss)\n\u001b[0;32m      8\u001b[0m \u001b[38;5;28mprint\u001b[39m(sss)\n",
      "\u001b[1;31mValueError\u001b[0m: list.remove(x): x not in list"
     ]
    }
   ],
   "source": [
    "#错误示范\n",
    "sss = ['wang','li','liu','li']\n",
    "\n",
    "while sss :\n",
    "    sss.remove('li')    #最后一遍会报错\n",
    "    print(sss)\n",
    "\n",
    "print(sss)"
   ]
  },
  {
   "cell_type": "markdown",
   "id": "7c2ee603-06b4-4228-be6a-72700ceff61f",
   "metadata": {},
   "source": [
    "另一个例子是用户输入填充字典,这里input也是阻滞式的一个函数"
   ]
  },
  {
   "cell_type": "code",
   "execution_count": 59,
   "id": "a1d1f74f-5fe3-4df7-a4d0-d5893f30ac1a",
   "metadata": {},
   "outputs": [
    {
     "name": "stdin",
     "output_type": "stream",
     "text": [
      "输入点啥 你\n",
      "是否结束y/n n\n",
      "输入点啥 好\n",
      "是否结束y/n y\n"
     ]
    },
    {
     "name": "stdout",
     "output_type": "stream",
     "text": [
      "['你', '好']\n"
     ]
    }
   ],
   "source": [
    "xxx = []\n",
    "flag = 1\n",
    "while flag == 1 :\n",
    "    buffer = input(\"输入点啥\")\n",
    "    xxx.append(buffer)\n",
    "\n",
    "    flag_of_input = input(\"是否结束y/n\")\n",
    "    if flag_of_input == \"y\" :\n",
    "        flag = 0\n",
    "\n",
    "\n",
    "print(xxx)"
   ]
  },
  {
   "cell_type": "markdown",
   "id": "6f824b11-a5bb-49b4-a89a-4fe6bba03e7b",
   "metadata": {},
   "source": [
    "# 函数\n",
    "使用def构造一个函数,其后是函数名,然后是参数列表,内部是函数体,也是用:和缩进来介导的"
   ]
  },
  {
   "cell_type": "code",
   "execution_count": null,
   "id": "6046f2e2-b843-478a-8578-01ce9fb1d494",
   "metadata": {},
   "outputs": [],
   "source": [
    "def printHello(num):\n",
    "    straaa = f\" hello for {num} people\"\n",
    "    print(straaa)\n",
    "\n",
    "printHello(3)"
   ]
  },
  {
   "cell_type": "markdown",
   "id": "ccade556-e1c2-4d6e-b46f-668971a1bfc7",
   "metadata": {},
   "source": [
    "如果你有多个参数的话,请按照顺序依次输入实参以匹配变量,然后呢,如果你直接指出这个形参的名字,并=给这一个值,那就不用关系顺序了,这个叫关键字实参,然后这里会有一个语法规范是,你如果试图混用这两种参数传递方式时,请先输入不带关键词的那个,在关键字\n"
   ]
  },
  {
   "cell_type": "code",
   "execution_count": null,
   "id": "3bd456b6-660f-498b-a919-95da5fecbf7c",
   "metadata": {},
   "outputs": [],
   "source": [
    "def printEat(people,food):\n",
    "    straaa = f\"{people} 爱吃 {food} \"\n",
    "    print(straaa)\n",
    "\n",
    "printEat(\"小王\",\"米饭\")\n",
    "printEat(\"米饭\",\"小王\")\n",
    "printEat(food=\"米饭\",people=\"小王\")\n",
    "printEat(\"小王\",food=\"米饭\")"
   ]
  },
  {
   "cell_type": "code",
   "execution_count": null,
   "id": "77f7dada-47c6-4483-9367-86471940f9b4",
   "metadata": {},
   "outputs": [],
   "source": [
    "#这里展示报错\n",
    "def printEat(people,food):\n",
    "    straaa = f\"{people} 爱吃 {food} \"\n",
    "    print(straaa)\n",
    "\n",
    "printEat(people=\"小王\",\"米饭\")"
   ]
  },
  {
   "cell_type": "markdown",
   "id": "9f657dde-69f0-48e4-84c3-8ef3c512a074",
   "metadata": {},
   "source": [
    "如果你希望给函数提供默认值,那么这个值需要在形参里说明,并且,具有默认值的形参需要搁在没有默认值的那个参数后面,为了防止出现小糊涂不看函数就直接调用然后担心把默认值顶了导致缺参数的问题,python在你直接傻傻调用时,会优先给到无默认值的参数"
   ]
  },
  {
   "cell_type": "code",
   "execution_count": 37,
   "id": "0998265a-b1b3-4d25-ad89-e48ad626e52f",
   "metadata": {},
   "outputs": [
    {
     "name": "stdout",
     "output_type": "stream",
     "text": [
      "小王 爱吃 米饭 \n"
     ]
    }
   ],
   "source": [
    "def printEat(people,food=\"米饭\"):\n",
    "    straaa = f\"{people} 爱吃 {food} \"\n",
    "    print(straaa)\n",
    "\n",
    "printEat(\"小王\")"
   ]
  },
  {
   "cell_type": "code",
   "execution_count": 38,
   "id": "426648eb-a75c-4124-9c92-fdb4900b4bd9",
   "metadata": {},
   "outputs": [
    {
     "ename": "SyntaxError",
     "evalue": "non-default argument follows default argument (3002703688.py, line 2)",
     "output_type": "error",
     "traceback": [
      "\u001b[1;36m  Cell \u001b[1;32mIn[38], line 2\u001b[1;36m\u001b[0m\n\u001b[1;33m    def printEat(people=\"小王\",food):\u001b[0m\n\u001b[1;37m                             ^\u001b[0m\n\u001b[1;31mSyntaxError\u001b[0m\u001b[1;31m:\u001b[0m non-default argument follows default argument\n"
     ]
    }
   ],
   "source": [
    "#展示报错\n",
    "def printEat(people=\"小王\",food):\n",
    "    straaa = f\"{people} 爱吃 {food} \"\n",
    "    print(straaa)\n",
    "\n",
    "printEat(\"米饭\")"
   ]
  },
  {
   "cell_type": "markdown",
   "id": "06618d2e-5883-49f3-acfd-13fd726f9bf1",
   "metadata": {},
   "source": [
    "缺参的函数也是可以用默认值设计的,譬如你设计一个参带默认值,然后if如果该参没改,那么认为此时是缺参的,执行缺参的输出模式"
   ]
  },
  {
   "cell_type": "code",
   "execution_count": 39,
   "id": "0ec39123-ad00-4c15-8d34-75e8cbe00995",
   "metadata": {},
   "outputs": [
    {
     "name": "stdout",
     "output_type": "stream",
     "text": [
      "小王什么也不爱吃\n",
      "小刘 爱吃 红烧肉 \n"
     ]
    }
   ],
   "source": [
    "def printEat(people,food=\"\"):\n",
    "    if food == \"\" :\n",
    "        straaa = f\"{people}什么也不爱吃\"\n",
    "        print(straaa)\n",
    "\n",
    "    else :\n",
    "        straaa = f\"{people} 爱吃 {food} \"\n",
    "        print(straaa)\n",
    "\n",
    "printEat(\"小王\")\n",
    "printEat(\"小刘\",\"红烧肉\")"
   ]
  },
  {
   "cell_type": "markdown",
   "id": "650336cf-7b9c-4af8-b294-9481665162cf",
   "metadata": {},
   "source": [
    "如果你在函数中创建了一个变量,然后你试图将这个变量返回出去,(对了,返回用return)在c语言中,函数开辟的临时空间在函数return后就会被销毁,那么你实际上会得到一个\"谁也不知道这里写了啥\"的内存空间,作为你函数的返回值,但是python里不会出现这种情况,python会给这个空间单独保存下来控制权,以便你接下来使用"
   ]
  },
  {
   "cell_type": "code",
   "execution_count": 42,
   "id": "41b6112a-8b6c-4269-a0c3-3e5dad29385e",
   "metadata": {},
   "outputs": [
    {
     "name": "stdout",
     "output_type": "stream",
     "text": [
      "输入的数的平方是225\n"
     ]
    }
   ],
   "source": [
    "def squaA(a):\n",
    "    strS=f\"输入的数的平方是{a*a}\"\n",
    "    return strS\n",
    "\n",
    "print(squaA(15))"
   ]
  },
  {
   "cell_type": "markdown",
   "id": "b330e6c6-ace8-481b-9604-a4741806c549",
   "metadata": {},
   "source": [
    "如果你试图给函数传入一个列表,那么函数会直接修改这个列表,就有点类似你传入了一个指针"
   ]
  },
  {
   "cell_type": "code",
   "execution_count": 44,
   "id": "9d07b08e-28ac-4468-8a7d-6d4056b8911b",
   "metadata": {},
   "outputs": [
    {
     "name": "stdout",
     "output_type": "stream",
     "text": [
      "['dog', 'mouse']\n"
     ]
    }
   ],
   "source": [
    "def removeCat(sss) :\n",
    "    sss.remove('cat')\n",
    "\n",
    "aaa = ['dog','cat','mouse']\n",
    "removeCat(aaa)\n",
    "print(aaa)"
   ]
  },
  {
   "cell_type": "markdown",
   "id": "1e08dbf0-de5f-456b-a417-57aef67ffa10",
   "metadata": {},
   "source": [
    "如果你希望获得一个他副本的改动,那么可以用你之前的那个[:],注意这个时候要把你副本吐出来"
   ]
  },
  {
   "cell_type": "code",
   "execution_count": 46,
   "id": "c3328967-8635-438d-8e5b-3f64ed38e9aa",
   "metadata": {},
   "outputs": [
    {
     "name": "stdout",
     "output_type": "stream",
     "text": [
      "['dog', 'cat', 'mouse']\n",
      "['dog', 'mouse']\n"
     ]
    }
   ],
   "source": [
    "def removeCat(sss) :\n",
    "    sss.remove('cat')\n",
    "    return sss\n",
    "\n",
    "aaa = ['dog','cat','mouse']\n",
    "bbb=removeCat(aaa[:])\n",
    "print(aaa)\n",
    "print(bbb)"
   ]
  },
  {
   "cell_type": "markdown",
   "id": "acfc3a92-d623-402d-979c-b012b2f77dec",
   "metadata": {},
   "source": [
    "有时你或许事先不知道你的参数有多少,但是又不方便用列表,这时python允许你输入不指定数量的参数,或者说,任意数量的参数\n",
    "\n",
    "他的原理是你给形参加一个*,然后呢他就会认为你输入的很多实参是输入了一个元组,这样就可以处理很多实参,但是问题在于,如果你输入一个数,他也会认为是只有一个元素的元组"
   ]
  },
  {
   "cell_type": "code",
   "execution_count": 62,
   "id": "f618789f-ec9b-4b99-9904-168ccd2236a2",
   "metadata": {},
   "outputs": [
    {
     "name": "stdout",
     "output_type": "stream",
     "text": [
      "the name is ('wang', 'liu', 'li')\n",
      "the name is ('zhao',)\n"
     ]
    }
   ],
   "source": [
    "def printRR(*name):\n",
    "    print(f\"the name is {name}\")\n",
    "\n",
    "printRR(\"wang\",\"liu\",\"li\")\n",
    "printRR(\"zhao\")"
   ]
  },
  {
   "cell_type": "markdown",
   "id": "0bb66379-fa5f-491b-b298-21bb47108420",
   "metadata": {},
   "source": [
    "这个还能跟前一个结合起来用,同样的语法规范是,奇怪的形参需要放到后面"
   ]
  },
  {
   "cell_type": "code",
   "execution_count": 63,
   "id": "5f1397a6-9c38-4205-9a27-088df085fca1",
   "metadata": {},
   "outputs": [
    {
     "name": "stdout",
     "output_type": "stream",
     "text": [
      "number of people is 3\n",
      "the name is ('wang', 'liu', 'li')\n",
      "number of people is 1\n",
      "the name is ('zhao',)\n"
     ]
    }
   ],
   "source": [
    "def printRR(number,*name):\n",
    "    print(f\"number of people is {number}\")\n",
    "    print(f\"the name is {name}\")\n",
    "\n",
    "printRR(3,\"wang\",\"liu\",\"li\")\n",
    "printRR(1,\"zhao\")"
   ]
  },
  {
   "cell_type": "code",
   "execution_count": 64,
   "id": "e5f2b677-0108-4e13-af1a-64d36aa9510f",
   "metadata": {},
   "outputs": [
    {
     "ename": "TypeError",
     "evalue": "printRR() missing 1 required keyword-only argument: 'number'",
     "output_type": "error",
     "traceback": [
      "\u001b[1;31m---------------------------------------------------------------------------\u001b[0m",
      "\u001b[1;31mTypeError\u001b[0m                                 Traceback (most recent call last)",
      "Cell \u001b[1;32mIn[64], line 6\u001b[0m\n\u001b[0;32m      3\u001b[0m     \u001b[38;5;28mprint\u001b[39m(\u001b[38;5;124mf\u001b[39m\u001b[38;5;124m\"\u001b[39m\u001b[38;5;124mnumber of people is \u001b[39m\u001b[38;5;132;01m{\u001b[39;00mnumber\u001b[38;5;132;01m}\u001b[39;00m\u001b[38;5;124m\"\u001b[39m)\n\u001b[0;32m      4\u001b[0m     \u001b[38;5;28mprint\u001b[39m(\u001b[38;5;124mf\u001b[39m\u001b[38;5;124m\"\u001b[39m\u001b[38;5;124mthe name is \u001b[39m\u001b[38;5;132;01m{\u001b[39;00mname\u001b[38;5;132;01m}\u001b[39;00m\u001b[38;5;124m\"\u001b[39m)\n\u001b[1;32m----> 6\u001b[0m printRR(\u001b[38;5;124m\"\u001b[39m\u001b[38;5;124mwang\u001b[39m\u001b[38;5;124m\"\u001b[39m,\u001b[38;5;124m\"\u001b[39m\u001b[38;5;124mliu\u001b[39m\u001b[38;5;124m\"\u001b[39m,\u001b[38;5;124m\"\u001b[39m\u001b[38;5;124mli\u001b[39m\u001b[38;5;124m\"\u001b[39m,\u001b[38;5;241m3\u001b[39m)\n\u001b[0;32m      7\u001b[0m printRR(\u001b[38;5;124m\"\u001b[39m\u001b[38;5;124mzhao\u001b[39m\u001b[38;5;124m\"\u001b[39m,\u001b[38;5;241m1\u001b[39m)\n",
      "\u001b[1;31mTypeError\u001b[0m: printRR() missing 1 required keyword-only argument: 'number'"
     ]
    }
   ],
   "source": [
    "#反例\n",
    "def printRR(*name,number):\n",
    "    print(f\"number of people is {number}\")\n",
    "    print(f\"the name is {name}\")\n",
    "\n",
    "printRR(\"wang\",\"liu\",\"li\",3)\n",
    "printRR(\"zhao\",1)"
   ]
  },
  {
   "cell_type": "markdown",
   "id": "9af84bfc-a329-4ad1-888b-ee4e7fee3b98",
   "metadata": {},
   "source": [
    "既然你能用python在传递参数时凭空捏出来一个元组,那必然也能捏一个字典,语法是俩**,这种操作的本意是在于允许你输入不指定数量的多个的带关键词的参数,在函数体内,你可以以操作字典的方式来操作这个玩意了"
   ]
  },
  {
   "cell_type": "code",
   "execution_count": 65,
   "id": "aed520bd-6fa2-479a-9e19-7eaf66efb1ea",
   "metadata": {},
   "outputs": [
    {
     "name": "stdout",
     "output_type": "stream",
     "text": [
      "{'wang': 15, 'liu': 20, 'sun': 25, 'number': 3}\n"
     ]
    }
   ],
   "source": [
    "def olds(number,**people):\n",
    "    people['number'] = number\n",
    "    return people\n",
    "\n",
    "info = olds(3,wang=15,liu=20,sun=25)\n",
    "print(info)"
   ]
  },
  {
   "cell_type": "markdown",
   "id": "83d51df0-9513-4107-9825-4bda07e5a6e3",
   "metadata": {},
   "source": [
    "一个合作开发必要技巧是,你可以把你的函数打包放到一个模块里,然后在其他的文件里导入这个模块以使用其中的函数,如果你嫌模块名字太长也可以起别名"
   ]
  },
  {
   "cell_type": "markdown",
   "id": "092a16b4-81c6-4848-966d-8a5f86276ba1",
   "metadata": {},
   "source": [
    "模块是一个以.py结尾的文件,然后相同的目录下,使用import这个文件名,就可以找到我们试图导入的文件,在执行上,python会看到import之后打开后面的文件,并把他的所有函数隐式的赋值到你这个文件里,在你调用时,你需要使用这个模块名.其中的函数名\n",
    "\n",
    "譬如,我有一个facts的模块里面有一个函数xxx(),那么你在你的文件中使用时,需要在头部的位置导入这个模块,\n",
    "\n",
    "import facts\n",
    "\n",
    "然后在需要使用的地方\n",
    "\n",
    "aaa = facts.xxx(bbb)\n",
    "\n",
    "显然这会使得你的这个文件变得很大,即使你只用了他模块里的某一个函数,代价都是要把全部的函数导入进来"
   ]
  },
  {
   "cell_type": "markdown",
   "id": "a136ce6b-930d-404c-b691-a097ae2ca31f",
   "metadata": {},
   "source": [
    "当然你可以仅仅导入一个函数,譬如你在facts.py里写了一个xxx()函数,你可以用import facts from xxx(),仅仅把这个函数拿进来,多个函数同样使用逗号来分割\n",
    "\n",
    "你还能取别名,譬如我facts里的某个函数名起的非常的规范是一长串谁也看不懂的单词加下划线分割,或是驼峰一大溜,python给你提供了一个叫as的语法,可以给你的函数起别名,如果你直接导入了一整个模块,那就会给整个模块起别名"
   ]
  },
  {
   "cell_type": "markdown",
   "id": "4bec670b-8a02-4a20-9c9d-810aabdd917f",
   "metadata": {},
   "source": [
    "不太建议使用的方法是import facts form *,这时就会把facts中全部的函数一次性都给拿过来,好处是现在只需要xxx()了,但坏处是你怎么知道他的包里没有和你重名的函数?\n"
   ]
  },
  {
   "cell_type": "code",
   "execution_count": null,
   "id": "ca51e8d3-b05a-48fe-9bab-69d69010a7df",
   "metadata": {},
   "outputs": [],
   "source": []
  },
  {
   "cell_type": "code",
   "execution_count": null,
   "id": "c2e0be14-8e34-4680-b141-c4305ec7e821",
   "metadata": {},
   "outputs": [],
   "source": []
  },
  {
   "cell_type": "code",
   "execution_count": null,
   "id": "0ab2bd02-c5bf-44c4-9f6e-4134566d5a55",
   "metadata": {},
   "outputs": [],
   "source": []
  },
  {
   "cell_type": "code",
   "execution_count": null,
   "id": "7caf94f9-232a-413d-ae44-64d29de8bb1f",
   "metadata": {},
   "outputs": [],
   "source": []
  },
  {
   "cell_type": "code",
   "execution_count": null,
   "id": "2968d297-3492-403c-8947-199c7d68b6d1",
   "metadata": {},
   "outputs": [],
   "source": []
  },
  {
   "cell_type": "code",
   "execution_count": null,
   "id": "5599d04b-71db-4718-a7ed-776f1394dd07",
   "metadata": {},
   "outputs": [],
   "source": []
  },
  {
   "cell_type": "code",
   "execution_count": null,
   "id": "a615cff4-889d-4016-b8a1-2df75c7ccaf2",
   "metadata": {},
   "outputs": [],
   "source": []
  },
  {
   "cell_type": "code",
   "execution_count": null,
   "id": "9c36460b-2978-4c2e-b1a2-904f30208675",
   "metadata": {},
   "outputs": [],
   "source": []
  },
  {
   "cell_type": "code",
   "execution_count": null,
   "id": "6cfe6a2c-9a33-4265-b515-81cd58f9321d",
   "metadata": {},
   "outputs": [],
   "source": []
  },
  {
   "cell_type": "code",
   "execution_count": null,
   "id": "bb774432-9fa2-4762-8b21-0e55d74b7089",
   "metadata": {},
   "outputs": [],
   "source": []
  },
  {
   "cell_type": "code",
   "execution_count": null,
   "id": "dd3e9965-0b93-42c5-b1d9-3b3a5490aa72",
   "metadata": {},
   "outputs": [],
   "source": []
  },
  {
   "cell_type": "code",
   "execution_count": null,
   "id": "86670c07-6e2e-475b-9572-3f7523f2da50",
   "metadata": {},
   "outputs": [],
   "source": []
  },
  {
   "cell_type": "code",
   "execution_count": null,
   "id": "c424ddfd-91b9-471c-bd24-100e50019d4b",
   "metadata": {},
   "outputs": [],
   "source": []
  },
  {
   "cell_type": "code",
   "execution_count": null,
   "id": "375645c0-6305-49cd-bbed-c43c09fe863f",
   "metadata": {},
   "outputs": [],
   "source": []
  },
  {
   "cell_type": "code",
   "execution_count": null,
   "id": "ad429458-3f65-4be0-bb89-40e566e9f98c",
   "metadata": {},
   "outputs": [],
   "source": []
  },
  {
   "cell_type": "code",
   "execution_count": null,
   "id": "cd34287b-2c77-4419-bb08-da54a2ec3c5f",
   "metadata": {},
   "outputs": [],
   "source": []
  },
  {
   "cell_type": "code",
   "execution_count": null,
   "id": "bb4a026a-9fc5-4fdf-84e4-64f93423c4fb",
   "metadata": {},
   "outputs": [],
   "source": []
  },
  {
   "cell_type": "code",
   "execution_count": null,
   "id": "078e3f1b-7fbf-4ad0-8b9c-97d6729de134",
   "metadata": {},
   "outputs": [],
   "source": []
  },
  {
   "cell_type": "code",
   "execution_count": null,
   "id": "b1279a74-012b-47eb-b2eb-7f8be39a205c",
   "metadata": {},
   "outputs": [],
   "source": []
  },
  {
   "cell_type": "code",
   "execution_count": null,
   "id": "185e3d94-e8f6-4eb2-b776-4e5b56764838",
   "metadata": {},
   "outputs": [],
   "source": []
  },
  {
   "cell_type": "code",
   "execution_count": null,
   "id": "d9db9016-0053-41de-92a7-313869545c0a",
   "metadata": {},
   "outputs": [],
   "source": []
  },
  {
   "cell_type": "code",
   "execution_count": null,
   "id": "35502d8a-5924-44f9-859b-8b6c75f1fb45",
   "metadata": {},
   "outputs": [],
   "source": []
  },
  {
   "cell_type": "code",
   "execution_count": null,
   "id": "8d5ee243-639b-4122-bf55-b9b50e568684",
   "metadata": {},
   "outputs": [],
   "source": []
  },
  {
   "cell_type": "code",
   "execution_count": null,
   "id": "97c3a609-a0f2-4053-96b7-0caf5153bd41",
   "metadata": {},
   "outputs": [],
   "source": []
  },
  {
   "cell_type": "code",
   "execution_count": null,
   "id": "f02fe392-3d27-42c2-bdfb-abbd4abe4494",
   "metadata": {},
   "outputs": [],
   "source": []
  },
  {
   "cell_type": "code",
   "execution_count": null,
   "id": "e3d0d6dc-0549-4dcc-8a12-7dc47180e500",
   "metadata": {},
   "outputs": [],
   "source": []
  },
  {
   "cell_type": "code",
   "execution_count": null,
   "id": "c961854c-95cb-4875-a7f8-d908044e7f82",
   "metadata": {},
   "outputs": [],
   "source": []
  },
  {
   "cell_type": "code",
   "execution_count": null,
   "id": "17744325-0d25-494e-8dcc-bce75679e672",
   "metadata": {},
   "outputs": [],
   "source": []
  },
  {
   "cell_type": "code",
   "execution_count": null,
   "id": "1a5f8d6f-f755-4a90-9741-f0140e21e828",
   "metadata": {},
   "outputs": [],
   "source": []
  },
  {
   "cell_type": "code",
   "execution_count": null,
   "id": "94d172f9-6094-404d-98f5-e7cb019969d3",
   "metadata": {},
   "outputs": [],
   "source": []
  },
  {
   "cell_type": "code",
   "execution_count": null,
   "id": "bbcdfe4b-607b-4598-b099-b291ce48d9d6",
   "metadata": {},
   "outputs": [],
   "source": []
  },
  {
   "cell_type": "code",
   "execution_count": null,
   "id": "34b72a14-fce2-4424-9c6c-803440416579",
   "metadata": {},
   "outputs": [],
   "source": []
  },
  {
   "cell_type": "code",
   "execution_count": null,
   "id": "4fe1374a-353c-47c9-a290-88dc3eb2be10",
   "metadata": {},
   "outputs": [],
   "source": []
  },
  {
   "cell_type": "code",
   "execution_count": null,
   "id": "e49f29a7-38b2-4295-96c7-3079b77780e5",
   "metadata": {},
   "outputs": [],
   "source": []
  },
  {
   "cell_type": "code",
   "execution_count": null,
   "id": "bbc220d1-5f0d-4983-a0e2-6feaef1244ad",
   "metadata": {},
   "outputs": [],
   "source": []
  },
  {
   "cell_type": "code",
   "execution_count": null,
   "id": "1e6d2e09-9724-4c9b-a0be-f12f26ea920c",
   "metadata": {},
   "outputs": [],
   "source": []
  }
 ],
 "metadata": {
  "kernelspec": {
   "display_name": "Python 3 (ipykernel)",
   "language": "python",
   "name": "python3"
  },
  "language_info": {
   "codemirror_mode": {
    "name": "ipython",
    "version": 3
   },
   "file_extension": ".py",
   "mimetype": "text/x-python",
   "name": "python",
   "nbconvert_exporter": "python",
   "pygments_lexer": "ipython3",
   "version": "3.11.10"
  }
 },
 "nbformat": 4,
 "nbformat_minor": 5
}
