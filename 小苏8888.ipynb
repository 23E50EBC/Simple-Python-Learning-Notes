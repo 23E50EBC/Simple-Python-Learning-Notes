{
 "cells": [
  {
   "cell_type": "markdown",
   "id": "44f9c80b-94ec-41e3-963c-818902acd4bd",
   "metadata": {},
   "source": [
    "# 还是拾遗"
   ]
  },
  {
   "cell_type": "markdown",
   "id": "ca82989b-5d87-4a77-a019-69638d1b86f5",
   "metadata": {},
   "source": [
    "元组拆包\n",
    "If you try to assign to a tuple-like expression of variables, Python will attempt to unpack the value on the righthand side of the equals sign:\n",
    "\n",
    "\n",
    "如果你试图赋值给一个类似元组的变量表达式，Python将尝试解包等号右侧的值：\n",
    "\n",
    "\n",
    "譬如你有一个n元组，然后你写这样一个式子 a0 ， a1 ，a2 …… an = 你的n元组\n",
    "那么python会把这个n元组里的东西依次赋值到这个式子的左边"
   ]
  },
  {
   "cell_type": "code",
   "execution_count": 1,
   "id": "82c3f657-c8a5-4a33-9056-490211721692",
   "metadata": {},
   "outputs": [
    {
     "name": "stdout",
     "output_type": "stream",
     "text": [
      "1 2 3\n"
     ]
    }
   ],
   "source": [
    "tup = (1,2,3)\n",
    "a,b,c = tup\n",
    "print(a,b,c)"
   ]
  },
  {
   "cell_type": "markdown",
   "id": "0dee1986-5c3a-4a92-8826-fb56326c3597",
   "metadata": {},
   "source": [
    "即使是具有嵌套元组的序列也可以解包：\n",
    "在[23]中：tup=4,5，（6,7）\n",
    "\n",
    "在[24]中：a，b，（c，d）=tup\n",
    "\n",
    "在[25]中：d\n",
    "出局[25]：7\n",
    "\n",
    "这里需要注意的是你等号左边的格式，如果是a，b，c，那么c将会是一个二元组（6，7），如果是a，b，c，d，它也会解包，解成最基本的状态"
   ]
  },
  {
   "cell_type": "code",
   "execution_count": 2,
   "id": "e88ae5ae-5414-4110-a342-f0de7e29325b",
   "metadata": {},
   "outputs": [
    {
     "name": "stdout",
     "output_type": "stream",
     "text": [
      "1 2 (5, 6)\n"
     ]
    }
   ],
   "source": [
    "tup = (1,2,(5,6))\n",
    "a,b,c = tup\n",
    "print(a,b,c)"
   ]
  },
  {
   "cell_type": "code",
   "execution_count": 3,
   "id": "46590dbe-8015-499c-a036-bbde06367ed4",
   "metadata": {},
   "outputs": [
    {
     "name": "stdout",
     "output_type": "stream",
     "text": [
      "1 2 5 6\n"
     ]
    }
   ],
   "source": [
    "tup = (1,2,5,6)\n",
    "a,b,c,d = tup\n",
    "print(a,b,c,d)"
   ]
  },
  {
   "cell_type": "markdown",
   "id": "1ab48ec0-2cd7-40ae-8947-c3cf33669014",
   "metadata": {},
   "source": [
    "\n",
    "在某些情况下，您可能希望从元组的开头“提取”一些元素。有一种特殊的语法可以做到这一点，*rest，它也用于函数签名中，以捕获任意长的位置参数列表：\n",
    "*rest‌：\n",
    "这是Python的可变参数解包语法\n",
    "用于收集剩余的所有元素到一个列表中"
   ]
  },
  {
   "cell_type": "code",
   "execution_count": 8,
   "id": "65d15ba5-1de9-46ed-95f5-b17e1ff80454",
   "metadata": {},
   "outputs": [
    {
     "name": "stdout",
     "output_type": "stream",
     "text": [
      "1 2\n",
      "[5, 6]\n"
     ]
    }
   ],
   "source": [
    "tup = (1,2,5,6)\n",
    "a,b,*rest = tup\n",
    "print(a,b)\n",
    "print(rest)"
   ]
  },
  {
   "cell_type": "markdown",
   "id": "9e0726fe-c6c6-4265-b14b-fdba4d323038",
   "metadata": {},
   "source": [
    "这个休息点有时是你想丢弃的；其余的名字没什么特别的。按照惯例，许多Python程序员会对不需要的变量使用下划线（_）：\n",
    "*_ 表示收集但不使用剩余的元素"
   ]
  },
  {
   "cell_type": "code",
   "execution_count": 9,
   "id": "7941d6a7-cc11-4d82-bb0d-c3692a582912",
   "metadata": {},
   "outputs": [
    {
     "name": "stdout",
     "output_type": "stream",
     "text": [
      "1\n",
      "[2, 5, 6]\n"
     ]
    }
   ],
   "source": [
    "tup = (1,2,5,6)\n",
    "a, *_ = tup  # 这会正确解包，a=1，_=[2,5,6]\n",
    "print(a)\n",
    "print(_)"
   ]
  },
  {
   "cell_type": "markdown",
   "id": "83348b6d-f79d-4f5a-b9ec-8706386066d4",
   "metadata": {},
   "source": [
    "使用count方法计算每个值的出现次数：由于元组的大小和内容不能修改，因此对实例方法来说非常简单。一个特别有用的方法（也可以在列表中找到）是count，它计算一个值的出现次数：¶"
   ]
  },
  {
   "cell_type": "code",
   "execution_count": 11,
   "id": "6fd6ea6f-c73c-4498-b6c9-bc6cecb770f3",
   "metadata": {},
   "outputs": [
    {
     "name": "stdout",
     "output_type": "stream",
     "text": [
      "10\n"
     ]
    }
   ],
   "source": [
    "tup = (1,2,5,6,5,6,5,5,5,5,5,5,5,5)\n",
    "print(tup.count(5))"
   ]
  },
  {
   "cell_type": "markdown",
   "id": "6ef7b6db-1688-448c-a4a4-fa9b6725ff44",
   "metadata": {},
   "source": [
    "list内置函数经常用于数据处理中，作为实现迭代器或生成器表达式的一种方式：¶\n",
    "\n",
    "这条是我们前面说过的，range给出一个它定义上的迭代，list把这个迭代变成一个列表，python会自动处理数据格式的问题"
   ]
  },
  {
   "cell_type": "code",
   "execution_count": 12,
   "id": "8ae164af-80f9-4afc-a124-ee843601ef0c",
   "metadata": {},
   "outputs": [
    {
     "name": "stdout",
     "output_type": "stream",
     "text": [
      "[0, 1, 2, 3, 4, 5, 6, 7, 8, 9]\n"
     ]
    }
   ],
   "source": [
    "aaa = list(range(10))\n",
    "print(aaa)"
   ]
  },
  {
   "cell_type": "markdown",
   "id": "873c9db5-7e7e-4246-92c9-da63689e1093",
   "metadata": {},
   "source": [
    "拼接和组合列表 Concatenating and combining lists\n",
    "用“+”会新建一个列表，因此计算量较大\n",
    "也可以使用extend方法，是追加元素，对于创建大列表更可取\n",
    "因此下面这俩方式，后者更快\n",
    "方式1\n",
    "everything = []\n",
    "for chunk in list_of_lists:\n",
    "    everything.extend(chunk)\n",
    "\n",
    "方式2\n",
    "everything = []\n",
    "for chunk in list_of_lists:\n",
    "    everything = everything + chunk"
   ]
  },
  {
   "cell_type": "markdown",
   "id": "3bacfe56-a6bd-412d-81db-6d998fa424c2",
   "metadata": {},
   "source": [
    "sort二级排序键\n",
    "sort有几个选项，偶尔会派上用场。一个是传递二级排序键的能力，也就是说，一个产生用于对对象进行排序的值的函数。例如，我们可以按长度对字符串集合进行排序：¶"
   ]
  },
  {
   "cell_type": "code",
   "execution_count": null,
   "id": "6b8903e5-ce0f-4561-9a81-a740e3a486fb",
   "metadata": {},
   "outputs": [],
   "source": [
    "words = [\"apple\", \"banana\", \"cherry\", \"date\", \"fig\"]\n",
    "words.sort(key=len)  # 按字符串长度排序\n",
    "print(words)\n"
   ]
  },
  {
   "cell_type": "markdown",
   "id": "9a3aa2c9-9e7b-46f7-be6e-faf6d80e0ede",
   "metadata": {},
   "source": [
    "结合lamba表达式，就更多样了"
   ]
  },
  {
   "cell_type": "code",
   "execution_count": null,
   "id": "680c4344-7f3c-4a4d-8b68-22eba70db382",
   "metadata": {},
   "outputs": [],
   "source": [
    "words = [\"apple\", \"banana\", \"cherry\", \"date\", \"fig\", \"kiwi\"]\n",
    "\n",
    "# 方法1：用元组作为排序键（推荐）\n",
    "words.sort(key=lambda x: (len(x), x))  # 先按长度，再按字母\n",
    "print(words)\n"
   ]
  },
  {
   "cell_type": "markdown",
   "id": "3436a7ac-012c-414d-b2a4-8b87565618f5",
   "metadata": {},
   "source": [
    "在 Python 中，字典（dict）的 pop() 方法用于 ‌移除并返回‌ 字典中指定键对应的值。如果键不存在，可以设置默认返回值（避免报错）"
   ]
  },
  {
   "cell_type": "code",
   "execution_count": 13,
   "id": "42039f8a-ef8d-4cdf-8af7-86bee62c86b2",
   "metadata": {},
   "outputs": [
    {
     "name": "stdout",
     "output_type": "stream",
     "text": [
      "25\n",
      "{'name': 'Alice'}\n"
     ]
    }
   ],
   "source": [
    "my_dict = {'name': 'Alice', 'age': 25}\n",
    "removed_value = my_dict.pop('age')\n",
    "\n",
    "print(removed_value)  # 输出: 25\n",
    "print(my_dict)        # 输出: {'name': 'Alice'}\n",
    "#键存在"
   ]
  },
  {
   "cell_type": "code",
   "execution_count": 14,
   "id": "ef3ec7c7-c415-4bbc-84e2-1fef27ca4a18",
   "metadata": {},
   "outputs": [
    {
     "name": "stdout",
     "output_type": "stream",
     "text": [
      "30\n",
      "{'name': 'Bob'}\n"
     ]
    }
   ],
   "source": [
    "my_dict = {'name': 'Bob'}\n",
    "removed_value = my_dict.pop('age', 30)  # 键不存在，返回默认值30\n",
    "\n",
    "print(removed_value)  # 输出: 30\n",
    "print(my_dict)        # 输出: {'name': 'Bob'}\n",
    "#键不存在但提供了默认值"
   ]
  },
  {
   "cell_type": "code",
   "execution_count": 15,
   "id": "e2040f3c-282e-41b2-8f99-205b8787cca8",
   "metadata": {},
   "outputs": [
    {
     "ename": "KeyError",
     "evalue": "'age'",
     "output_type": "error",
     "traceback": [
      "\u001b[1;31m---------------------------------------------------------------------------\u001b[0m",
      "\u001b[1;31mKeyError\u001b[0m                                  Traceback (most recent call last)",
      "Cell \u001b[1;32mIn[15], line 2\u001b[0m\n\u001b[0;32m      1\u001b[0m my_dict \u001b[38;5;241m=\u001b[39m {\u001b[38;5;124m'\u001b[39m\u001b[38;5;124mname\u001b[39m\u001b[38;5;124m'\u001b[39m: \u001b[38;5;124m'\u001b[39m\u001b[38;5;124mCharlie\u001b[39m\u001b[38;5;124m'\u001b[39m}\n\u001b[1;32m----> 2\u001b[0m removed_value \u001b[38;5;241m=\u001b[39m my_dict\u001b[38;5;241m.\u001b[39mpop(\u001b[38;5;124m'\u001b[39m\u001b[38;5;124mage\u001b[39m\u001b[38;5;124m'\u001b[39m)\n",
      "\u001b[1;31mKeyError\u001b[0m: 'age'"
     ]
    }
   ],
   "source": [
    "my_dict = {'name': 'Charlie'}\n",
    "removed_value = my_dict.pop('age')  # 抛出 KeyError: 'age'\n",
    "#都没有的"
   ]
  },
  {
   "cell_type": "markdown",
   "id": "52a466b2-8d28-4b15-872b-5c5587a4eaea",
   "metadata": {},
   "source": [
    "keys 和 values 方法分别提供了字典的键和值的迭代器。\n",
    "items方法：同时迭代键和值。"
   ]
  },
  {
   "cell_type": "code",
   "execution_count": 16,
   "id": "37b11397-0852-4d48-9b08-fee9a97bac5d",
   "metadata": {},
   "outputs": [
    {
     "name": "stdout",
     "output_type": "stream",
     "text": [
      "字典的键：\n",
      "name\n",
      "age\n",
      "grade\n",
      "city\n",
      "\n",
      "字典的值：\n",
      "李华\n",
      "18\n",
      "高三\n",
      "北京\n",
      "\n",
      "字典的键值对：\n",
      "name: 李华\n",
      "age: 18\n",
      "grade: 高三\n",
      "city: 北京\n"
     ]
    }
   ],
   "source": [
    "# 定义一个字典\n",
    "student = {\n",
    "    'name': '李华',\n",
    "    'age': 18,\n",
    "    'grade': '高三',\n",
    "    'city': '北京'\n",
    "}\n",
    "\n",
    "# 1. 使用 keys() 迭代所有键\n",
    "print(\"字典的键：\")\n",
    "for key in student.keys():\n",
    "    print(key)  # 输出：name, age, grade, city\n",
    "\n",
    "# 2. 使用 values() 迭代所有值\n",
    "print(\"\\n字典的值：\")\n",
    "for value in student.values():\n",
    "    print(value)  # 输出：李华, 18, 高三, 北京\n",
    "\n",
    "# 3. 使用 items() 同时迭代键和值\n",
    "print(\"\\n字典的键值对：\")\n",
    "for key, value in student.items():\n",
    "    print(f\"{key}: {value}\")  # 输出：name: 李华, age: 18, ...\n"
   ]
  },
  {
   "cell_type": "code",
   "execution_count": null,
   "id": "e1daac2b-4448-45e3-84b8-eb47fcffbb49",
   "metadata": {},
   "outputs": [],
   "source": [
    "update方法：合并字典，但是需要注意，update方法是就地修改字典，任何传递给update的键的旧值都会被丢弃。¶"
   ]
  },
  {
   "cell_type": "code",
   "execution_count": 19,
   "id": "b7f8619f-9d75-4e11-a8ac-311cb6bd6119",
   "metadata": {},
   "outputs": [
    {
     "name": "stdout",
     "output_type": "stream",
     "text": [
      "{'name': '李华', 'age': 18, 'grade': '高三', 'city': 'beijing', 'location': '东城区'}\n"
     ]
    }
   ],
   "source": [
    "student = {\n",
    "    'name': '李华',\n",
    "    'age': 18,\n",
    "    'grade': '高三',\n",
    "    'city': '北京'\n",
    "}\n",
    "school = {'location':'东城区',\n",
    "          'city':'beijing'\n",
    "         }\n",
    "student.update(school)\n",
    "print(student)"
   ]
  },
  {
   "cell_type": "markdown",
   "id": "bf7d70c3-a3fe-456f-a1e4-d5d8f32e220f",
   "metadata": {},
   "source": [
    "用序列创建字典\n",
    "如果你想将两个序列按元素配对，并组合成字典。也许你会写出如下的代码：\n",
    "\n",
    "mapping = {}\n",
    "for key, value in zip(key_list, value_list):\n",
    "    mapping[key] = value\n",
    "\n",
    "    \n",
    "但其实可以使用dict函数，并按照下述方式实现：\n",
    "tuples = zip(range(5), reversed(range(5)))"
   ]
  },
  {
   "cell_type": "markdown",
   "id": "7ef7f550-776a-4f98-b039-c4f24a8cb47d",
   "metadata": {},
   "source": [
    "Python 中的 zip() 函数是一个内置函数，用于将多个可迭代对象（如列表、元组、字符串等）的元素按位置组合成元组，返回一个迭代器对象\n",
    "\n",
    "规则‌：以最短的可迭代对象长度为准，多余元素被忽略‌"
   ]
  },
  {
   "cell_type": "code",
   "execution_count": 21,
   "id": "917cbc22-a32a-4df5-a9d8-23f718cec3ac",
   "metadata": {},
   "outputs": [
    {
     "name": "stdout",
     "output_type": "stream",
     "text": [
      "[('Alice', 25), ('Bob', 30), ('Charlie', 28)]\n"
     ]
    }
   ],
   "source": [
    "names = [\"Alice\", \"Bob\", \"Charlie\"]\n",
    "ages = [25, 30, 28]\n",
    "zipped = zip(names, ages)\n",
    "print(list(zipped))  # 输出: [('Alice', 25), ('Bob', 30), ('Charlie', 28)]‌:ml-citation{ref=\"3,6\" data=\"citationList\"}\n"
   ]
  },
  {
   "cell_type": "code",
   "execution_count": 22,
   "id": "569f0ea8-5dc1-47ca-9063-b4a18be23f69",
   "metadata": {},
   "outputs": [
    {
     "name": "stdout",
     "output_type": "stream",
     "text": [
      "{'name': 'Alice', 'age': 25}\n"
     ]
    }
   ],
   "source": [
    "#结合 dict() 快速构建字典‌\n",
    "keys = [\"name\", \"age\"]\n",
    "values = [\"Alice\", 25]\n",
    "print(dict(zip(keys, values)))  # 输出: {'name': 'Alice', 'age': 25}‌:ml-citation{ref=\"3,8\" data=\"citationList\"}\n"
   ]
  },
  {
   "cell_type": "markdown",
   "id": "00951474-5d87-48c3-a50b-ca5a1aa9be6e",
   "metadata": {},
   "source": [
    "### 集合\n",
    "\n",
    "支持数学集合运算，如并集、交集、差集和对称差集。\n",
    "\n",
    "你会发现这里的符号和逻辑符号甚至是一样的，交是&，并是|，差（补）是-，异或是^\n",
    "\n",
    "但是你不能拿+直接求集合的并"
   ]
  },
  {
   "cell_type": "code",
   "execution_count": 27,
   "id": "bfba28a1-52e7-417d-bef8-114319f4acff",
   "metadata": {},
   "outputs": [
    {
     "name": "stdout",
     "output_type": "stream",
     "text": [
      "并集 A ∪ B: {1, 2, 3, 4, 5, 6, 7, 8}\n",
      "交集 A ∩ B: {4, 5}\n",
      "差集 A - B: {1, 2, 3}\n",
      "对称差集 A △ B: {1, 2, 3, 6, 7, 8}\n",
      "A 的补集（相对于 U）: {8, 6, 7}\n"
     ]
    }
   ],
   "source": [
    "# 定义两个集合\n",
    "A = {1, 2, 3, 4, 5}\n",
    "B = {4, 5, 6, 7, 8}\n",
    "\n",
    "# 1. 并集（Union）：A ∪ B（A 或 B 的所有元素）\n",
    "union = A | B  # 或 A.union(B)\n",
    "print(\"并集 A ∪ B:\", union)  # 输出: {1, 2, 3, 4, 5, 6, 7, 8}\n",
    "\n",
    "# 2. 交集（Intersection）：A ∩ B（A 和 B 共有的元素）\n",
    "intersection = A & B  # 或 A.intersection(B)\n",
    "print(\"交集 A ∩ B:\", intersection)  # 输出: {4, 5}\n",
    "\n",
    "# 3. 差集（Difference）：A - B（在 A 但不在 B 的元素）\n",
    "difference = A - B  # 或 A.difference(B)\n",
    "print(\"差集 A - B:\", difference)  # 输出: {1, 2, 3}\n",
    "\n",
    "# 4. 对称差集（Symmetric Difference）：A △ B（仅在 A 或仅在 B 的元素）\n",
    "symmetric_diff = A ^ B  # 或 A.symmetric_difference(B)\n",
    "print(\"对称差集 A △ B:\", symmetric_diff)  # 输出: {1, 2, 3, 6, 7, 8}\n",
    "\n",
    "# 5. 补集（Complement）：需明确全集（假设全集 U = {1, 2, ..., 8}）\n",
    "U = {1, 2, 3, 4, 5, 6, 7, 8}\n",
    "complement_A = U - A\n",
    "print(\"A 的补集（相对于 U）:\", complement_A)  # 输出: {6, 7, 8}\n",
    "\n"
   ]
  },
  {
   "cell_type": "code",
   "execution_count": 26,
   "id": "c8a6ee85-dd27-4981-9001-b517f94e2482",
   "metadata": {},
   "outputs": [
    {
     "ename": "TypeError",
     "evalue": "unsupported operand type(s) for +: 'set' and 'set'",
     "output_type": "error",
     "traceback": [
      "\u001b[1;31m---------------------------------------------------------------------------\u001b[0m",
      "\u001b[1;31mTypeError\u001b[0m                                 Traceback (most recent call last)",
      "Cell \u001b[1;32mIn[26], line 2\u001b[0m\n\u001b[0;32m      1\u001b[0m \u001b[38;5;66;03m#但是如果你希望用+来求并，是不行的\u001b[39;00m\n\u001b[1;32m----> 2\u001b[0m add \u001b[38;5;241m=\u001b[39m A \u001b[38;5;241m+\u001b[39m B\n\u001b[0;32m      3\u001b[0m \u001b[38;5;28mprint\u001b[39m(\u001b[38;5;124m\"\u001b[39m\u001b[38;5;124mA和B集合的和：\u001b[39m\u001b[38;5;124m\"\u001b[39m,add)\n",
      "\u001b[1;31mTypeError\u001b[0m: unsupported operand type(s) for +: 'set' and 'set'"
     ]
    }
   ],
   "source": [
    "#但是如果你希望用+来求并，是不行的\n",
    "add = A + B\n",
    "print(\"A和B集合的和：\",add)\n"
   ]
  },
  {
   "cell_type": "markdown",
   "id": "34f8e027-adb8-41b1-b467-ecb43c07ca1f",
   "metadata": {},
   "source": [
    "判断子集/超集‌："
   ]
  },
  {
   "cell_type": "code",
   "execution_count": 29,
   "id": "7654587a-fa2e-4d65-965c-b4856f6a4966",
   "metadata": {},
   "outputs": [
    {
     "name": "stdout",
     "output_type": "stream",
     "text": [
      "False\n",
      "True\n"
     ]
    }
   ],
   "source": [
    "A = {1, 2, 3, 4, 5}\n",
    "B = {4, 5, 6, 7, 8}\n",
    "U = {1, 2, 3, 4, 5, 6, 7, 8}\n",
    "\n",
    "print(A.issubset(B))    # False（A 不是 B 的子集）\n",
    "print(U.issuperset(A))  # True（U 包含 A）"
   ]
  },
  {
   "cell_type": "markdown",
   "id": "bfb07443-f71b-40f1-ac06-e8e0501c32b9",
   "metadata": {},
   "source": [
    "此外，你也不能用集合名[下标]的方式来访问集合的元素"
   ]
  },
  {
   "cell_type": "markdown",
   "id": "eae8ac45-9711-4444-976f-aaace62a1adc",
   "metadata": {},
   "source": [
    "### enumerate函数\n",
    "在迭代一个序列时，可能想跟踪当前元素（项）的索引\n",
    "\n",
    "Python 中的 enumerate() 函数是一个内置函数，用于在遍历可迭代对象（如列表、元组、字符串等）时，‌同时获取元素的索引和值‌，默认从 0 开始计数‌"
   ]
  },
  {
   "cell_type": "code",
   "execution_count": 30,
   "id": "b506dd42-82ea-4303-9782-85a12952606e",
   "metadata": {},
   "outputs": [
    {
     "name": "stdout",
     "output_type": "stream",
     "text": [
      "[10, 12, 14, 16, 18]\n",
      "The 0-th element is 10. \n",
      "The 1-th element is 12. \n",
      "The 2-th element is 14. \n",
      "The 3-th element is 16. \n",
      "The 4-th element is 18. \n"
     ]
    }
   ],
   "source": [
    "# 举例\n",
    "num_list = list(range(10, 20, 2))\n",
    "print(num_list)\n",
    "\n",
    "for idx, val in enumerate(num_list):\n",
    "    print(f\"The {idx}-th element is {val}. \")"
   ]
  },
  {
   "cell_type": "code",
   "execution_count": 32,
   "id": "eb5c4bf7-f63e-45f7-a6ba-de5f6c5ea9a4",
   "metadata": {},
   "outputs": [
    {
     "name": "stdout",
     "output_type": "stream",
     "text": [
      "Position: 2, Fruit: apple\n",
      "Position: 3, Fruit: banana\n",
      "Position: 4, Fruit: cherry\n"
     ]
    }
   ],
   "source": [
    "#你可以指定开始的索引位置\n",
    "fruits = [\"apple\", \"banana\", \"cherry\"]\n",
    "for index, fruit in enumerate(fruits, start=2):\n",
    "    print(f\"Position: {index}, Fruit: {fruit}\")\n"
   ]
  },
  {
   "cell_type": "markdown",
   "id": "ea1ec8cd-f5af-4e16-b17f-839a09632cb5",
   "metadata": {},
   "source": [
    "### 列表推导式、集合推导式和字典推导式\n",
    "列表推导式\n",
    "基本形式如下：\n",
    "[expr for value in collection if condition]\n",
    "\n",
    "等价于如下for循环\n",
    "result = []\n",
    "for value in collection:\n",
    "    if condition:\n",
    "        result.append(expr)"
   ]
  },
  {
   "cell_type": "code",
   "execution_count": null,
   "id": "a51c43de-36fc-485c-bbad-aabd3fef5591",
   "metadata": {},
   "outputs": [],
   "source": [
    " 举例：给定一个字符串列表，过滤长度小于等于2的字符串，保留的字符串要转为大写"
   ]
  },
  {
   "cell_type": "code",
   "execution_count": 33,
   "id": "4da54844-06db-447e-854e-e2780a749577",
   "metadata": {},
   "outputs": [
    {
     "data": {
      "text/plain": [
       "['BAT', 'CAR', 'DOVE', 'PYTHON']"
      ]
     },
     "execution_count": 33,
     "metadata": {},
     "output_type": "execute_result"
    }
   ],
   "source": [
    "strings = [\"a\", \"as\", \"bat\", \"car\", \"dove\", \"python\"]\n",
    "[x.upper() for x in strings if len(x) > 2]"
   ]
  },
  {
   "cell_type": "code",
   "execution_count": null,
   "id": "9903e7cb-c937-4b8f-8ae9-3d0455462978",
   "metadata": {},
   "outputs": [],
   "source": [
    "同理还有：\n",
    "\n",
    "字典推导式\n",
    "基本形式如下：\n",
    "dict_comp = {key-expr: value-expr for value in collection\n",
    "             if condition}\n",
    "\n",
    "集合推导式\n",
    "基本形式如下：\n",
    "set_comp = {expr for value in collection if condition}"
   ]
  },
  {
   "cell_type": "code",
   "execution_count": 35,
   "id": "e99c9249-a39f-4d70-8c0c-3c624b42de3d",
   "metadata": {},
   "outputs": [
    {
     "name": "stdout",
     "output_type": "stream",
     "text": [
      "{'Alice': 5, 'Charlie': 7}\n"
     ]
    }
   ],
   "source": [
    "#举例子,字典\n",
    "names = [\"Alice\", \"Bob\", \"Charlie\"]\n",
    "name_lengths = {name: len(name) for name in names if len(name) > 4}\n",
    "print(name_lengths)\n"
   ]
  },
  {
   "cell_type": "code",
   "execution_count": 36,
   "id": "5f0c98b1-dad1-4141-8d71-925e50e3432c",
   "metadata": {},
   "outputs": [
    {
     "name": "stdout",
     "output_type": "stream",
     "text": [
      "{1: 'a', 2: 'b', 3: 'c'}\n"
     ]
    }
   ],
   "source": [
    "#交换键值对\n",
    "original = {\"a\": 1, \"b\": 2, \"c\": 3}\n",
    "swapped = {v: k for k, v in original.items()}\n",
    "print(swapped)\n",
    "# 输出: {1: 'a', 2: 'b', 3: 'c'}\n"
   ]
  },
  {
   "cell_type": "code",
   "execution_count": 37,
   "id": "c5b447b1-87ee-45b7-8efd-764e577a834b",
   "metadata": {},
   "outputs": [
    {
     "name": "stdout",
     "output_type": "stream",
     "text": [
      "{16, 64, 4, 36}\n"
     ]
    }
   ],
   "source": [
    "#集合\n",
    "numbers = [1, 2, 3, 4, 5, 6, 7, 8, 9]\n",
    "even_squares = {x**2 for x in numbers if x % 2 == 0}\n",
    "print(even_squares)\n",
    "# 输出: {16, 4, 36, 64}\n",
    "\n"
   ]
  },
  {
   "cell_type": "code",
   "execution_count": 38,
   "id": "134583bb-cf9b-49dc-abd1-2f6298b2b370",
   "metadata": {},
   "outputs": [
    {
     "name": "stdout",
     "output_type": "stream",
     "text": [
      "{'l', 'e', 'h', 'o'}\n"
     ]
    }
   ],
   "source": [
    "text = \"hello\"\n",
    "unique_chars = {char for char in text}\n",
    "print(unique_chars)\n",
    "# 输出: {'h', 'e', 'l', 'o'}\n",
    "#从字符串生成唯一字符集合"
   ]
  },
  {
   "cell_type": "markdown",
   "id": "1132900e-9ec9-47f6-ad50-6f8fba82e13d",
   "metadata": {},
   "source": [
    "### lambda表达式\n",
    "\n",
    "Lambda 表达式是 Python 中的一种匿名函数，它允许你快速定义小型、一次性的函数对象，而无需使用 def 关键字正式定义函数。Lambda 表达式在需要简单函数作为参数传递时特别有用。\n",
    "基本语法：\n",
    "\n",
    "lambda arguments: expression\n",
    "\n",
    "\n",
    "lambda 是关键字\n",
    "arguments 是函数的参数（可以有多个，用逗号分隔）\n",
    "expression 是返回值表达式（只能是单个表达式，不能包含语句）"
   ]
  },
  {
   "cell_type": "code",
   "execution_count": 39,
   "id": "fe1ccd65-5a1d-4346-a550-badd7f35fced",
   "metadata": {},
   "outputs": [
    {
     "name": "stdout",
     "output_type": "stream",
     "text": [
      "8\n"
     ]
    }
   ],
   "source": [
    "# 定义一个简单的 lambda 函数\n",
    "add = lambda x, y: x + y\n",
    "print(add(3, 5))  # 输出: 8\n"
   ]
  },
  {
   "cell_type": "code",
   "execution_count": 40,
   "id": "877a047c-21d8-496b-91b8-e86c9c741b4f",
   "metadata": {},
   "outputs": [
    {
     "name": "stdout",
     "output_type": "stream",
     "text": [
      "[1, 4, 9, 16]\n",
      "[2, 4]\n"
     ]
    }
   ],
   "source": [
    "# 使用 map() 和 lambda 对列表元素平方\n",
    "numbers = [1, 2, 3, 4]\n",
    "squared = list(map(lambda x: x**2, numbers))\n",
    "print(squared)  # 输出: [1, 4, 9, 16]\n",
    "\n",
    "# 使用 filter() 和 lambda 筛选偶数\n",
    "evens = list(filter(lambda x: x % 2 == 0, numbers))\n",
    "print(evens)  # 输出: [2, 4]\n"
   ]
  },
  {
   "cell_type": "code",
   "execution_count": 43,
   "id": "9c971a0a-17e9-48b6-9a32-57945c4639a7",
   "metadata": {},
   "outputs": [
    {
     "name": "stdout",
     "output_type": "stream",
     "text": [
      "12\n"
     ]
    }
   ],
   "source": [
    "# 定义并立即调用\n",
    "result = (lambda x, y: x * y)(3, 4)\n",
    "print(result)  # 输出: 12\n"
   ]
  },
  {
   "cell_type": "code",
   "execution_count": 48,
   "id": "92f67460-ca08-4d5a-a3a4-0d4ac7336722",
   "metadata": {},
   "outputs": [
    {
     "name": "stdout",
     "output_type": "stream",
     "text": [
      "9\n",
      "12\n"
     ]
    }
   ],
   "source": [
    "# 定义并立即调用\n",
    "result = (lambda x: x**2)(3)  # 只接受一个参数，计算平方\n",
    "print(result)  # 输出 9\n",
    "\n",
    "result = (lambda x, y: x * y)(3, 4)\n",
    "print(result)  # 输出: 12\n"
   ]
  },
  {
   "cell_type": "markdown",
   "id": "3a1ae2b9-8205-46ae-acba-474e089f3477",
   "metadata": {},
   "source": [
    "### 迭代器 (Iterator)\n",
    "\n",
    "1.1 什么是迭代器\n",
    "\n",
    "迭代器是 Python 中用于遍历集合元素的对象，它实现了迭代器协议，即包含 __iter__() 和 __next__() 方法。\n",
    "\n",
    "1.2 迭代器协议\n",
    "\n",
    "__iter__(): 返回迭代器对象本身\n",
    "\n",
    "__next__(): 返回下一个元素，如果没有元素则抛出 StopIteration 异常\n",
    "\n",
    "Python 中许多内置类型都是可迭代的："
   ]
  },
  {
   "cell_type": "code",
   "execution_count": null,
   "id": "c5ab8d5e-e943-4262-b2d9-10b6b74ff4b6",
   "metadata": {},
   "outputs": [],
   "source": [
    "# 列表迭代器\n",
    "my_list = [1, 2, 3]\n",
    "iter_list = iter(my_list)\n",
    "print(next(iter_list))  # 1\n",
    "print(next(iter_list))  # 2\n",
    "\n",
    "# 字典迭代器\n",
    "my_dict = {'a': 1, 'b': 2}\n",
    "iter_dict = iter(my_dict)\n",
    "print(next(iter_dict))  # 'a'\n"
   ]
  },
  {
   "cell_type": "markdown",
   "id": "ddb382d6-7fe0-4efc-9e18-c85e7daa91d4",
   "metadata": {},
   "source": [
    "‌惰性计算‌：只在需要时计算下一个值\n",
    "\n",
    "‌一次性使用‌：遍历结束后需要重新创建\n",
    "\n",
    "‌内存高效‌：不需要预先存储所有元素"
   ]
  },
  {
   "cell_type": "markdown",
   "id": "bdccd58c-cd0f-4892-8aaf-6b3840b419ed",
   "metadata": {},
   "source": [
    "### 生成器 (Generator)\n",
    "\n",
    "生成器是一种特殊的迭代器，使用函数和 yield 语句创建，可以按需生成值而不需要一次性计算所有值。"
   ]
  },
  {
   "cell_type": "code",
   "execution_count": 49,
   "id": "a0bb3bcb-b412-4859-bbc7-d86a32fb4d73",
   "metadata": {},
   "outputs": [
    {
     "name": "stdout",
     "output_type": "stream",
     "text": [
      "5\n",
      "4\n",
      "3\n",
      "2\n",
      "1\n"
     ]
    }
   ],
   "source": [
    "#使用如下方式创建一个生成器\n",
    "def count_down(start):\n",
    "    while start > 0:\n",
    "        yield start\n",
    "        start -= 1\n",
    "\n",
    "# 使用生成器\n",
    "for num in count_down(5):\n",
    "    print(num)  # 输出: 5 4 3 2 1\n"
   ]
  },
  {
   "cell_type": "markdown",
   "id": "0c26744a-21ca-4ce8-abd4-479649afa17a",
   "metadata": {},
   "source": [
    "yield 是 Python 中的一个关键字，用于定义‌生成器函数‌（Generator Function）。它的主要作用是‌暂停函数执行并返回一个值‌，同时保留函数的状态，以便下次调用时从暂停的位置继续执行。\n",
    "\n",
    "使函数变为‌生成器函数‌（调用时返回生成器对象）\n",
    "‌暂停函数执行‌并返回一个值\n",
    "‌保留函数状态‌（局部变量、指令指针等）\n",
    "下次调用时从 yield 之后继续执行"
   ]
  },
  {
   "cell_type": "code",
   "execution_count": null,
   "id": "16bb6910-c4d0-441c-a5b3-d82f5a75e635",
   "metadata": {},
   "outputs": [],
   "source": []
  },
  {
   "cell_type": "code",
   "execution_count": null,
   "id": "71b40da0-9400-476b-beb1-35ba275d88a0",
   "metadata": {},
   "outputs": [],
   "source": []
  },
  {
   "cell_type": "code",
   "execution_count": null,
   "id": "216fde55-ffe7-457b-9b06-0a10aa142f73",
   "metadata": {},
   "outputs": [],
   "source": []
  },
  {
   "cell_type": "code",
   "execution_count": null,
   "id": "4c640cff-ee5f-4df2-910b-2b8a74b54e36",
   "metadata": {},
   "outputs": [],
   "source": []
  },
  {
   "cell_type": "code",
   "execution_count": null,
   "id": "f9472e34-60b6-46dd-9725-cc84a6905aca",
   "metadata": {},
   "outputs": [],
   "source": []
  },
  {
   "cell_type": "code",
   "execution_count": null,
   "id": "f4320ad1-ab1c-41fc-ade4-91ab608b30a4",
   "metadata": {},
   "outputs": [],
   "source": []
  },
  {
   "cell_type": "code",
   "execution_count": null,
   "id": "477643d8-b9de-492e-ac56-5f2186e97419",
   "metadata": {},
   "outputs": [],
   "source": []
  },
  {
   "cell_type": "code",
   "execution_count": null,
   "id": "f8e6a3a3-167b-4f9e-a6ef-6e5e57b7ab78",
   "metadata": {},
   "outputs": [],
   "source": []
  },
  {
   "cell_type": "code",
   "execution_count": null,
   "id": "f7d78099-5b45-4f9c-8af0-2f10552ed97b",
   "metadata": {},
   "outputs": [],
   "source": []
  },
  {
   "cell_type": "code",
   "execution_count": null,
   "id": "de4eafc7-9da4-45d8-a352-2e347de3142a",
   "metadata": {},
   "outputs": [],
   "source": []
  },
  {
   "cell_type": "code",
   "execution_count": null,
   "id": "32327360-eba0-475f-88da-1428c51d5877",
   "metadata": {},
   "outputs": [],
   "source": []
  },
  {
   "cell_type": "code",
   "execution_count": null,
   "id": "88e2d439-70c7-40ee-b367-3951a9daedb5",
   "metadata": {},
   "outputs": [],
   "source": []
  },
  {
   "cell_type": "code",
   "execution_count": null,
   "id": "6bce0af7-8651-42d9-975b-cfbbfee705c4",
   "metadata": {},
   "outputs": [],
   "source": []
  },
  {
   "cell_type": "code",
   "execution_count": null,
   "id": "4bf8aea6-dae0-4993-affd-393abf87cc1b",
   "metadata": {},
   "outputs": [],
   "source": []
  }
 ],
 "metadata": {
  "kernelspec": {
   "display_name": "Genv",
   "language": "python",
   "name": "my_env"
  },
  "language_info": {
   "codemirror_mode": {
    "name": "ipython",
    "version": 3
   },
   "file_extension": ".py",
   "mimetype": "text/x-python",
   "name": "python",
   "nbconvert_exporter": "python",
   "pygments_lexer": "ipython3",
   "version": "3.11.11"
  }
 },
 "nbformat": 4,
 "nbformat_minor": 5
}
