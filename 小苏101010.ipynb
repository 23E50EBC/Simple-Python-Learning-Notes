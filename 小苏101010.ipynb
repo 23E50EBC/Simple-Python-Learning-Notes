{
 "cells": [
  {
   "cell_type": "markdown",
   "id": "8b91e37b-77b8-406b-9d4c-d945cb1fa3b8",
   "metadata": {},
   "source": [
    "# 广播，布尔掩码\n",
    "\n"
   ]
  },
  {
   "cell_type": "markdown",
   "id": "c3ccb414-a030-433c-b406-fc960dcc4da3",
   "metadata": {},
   "source": [
    "前面的向量化操作可以减少缓慢的python循环，另一种构造向量化操作的方式是广播，广播与其说是一种运算，倒不如说是一种处理方式，设想这样一种场景，我试图把【1，2】加【2】，我们发现这两个向量的维度不一样，或者说这两个矩阵不等大，但是我们仍试图把他俩加起来，np仍然会给你一个结果，但是这个结果将会是【1，2】加【2，2】的结果，就如下面的代码"
   ]
  },
  {
   "cell_type": "code",
   "execution_count": 1,
   "id": "4933d3eb-3d16-462e-9eee-dccb6e18a17c",
   "metadata": {},
   "outputs": [
    {
     "name": "stdout",
     "output_type": "stream",
     "text": [
      "[1 2]\n",
      "[2]\n",
      "[3 4]\n",
      "[2 2]\n"
     ]
    }
   ],
   "source": [
    "import numpy as np\n",
    "\n",
    "x = np.array([1,2])\n",
    "y = np.array([2])\n",
    "print(x)\n",
    "print(y)\n",
    "print(x+y)\n",
    "print(x+y-x)"
   ]
  },
  {
   "cell_type": "markdown",
   "id": "6cbfffe1-be0b-4962-bc4b-5ed9195f1153",
   "metadata": {},
   "source": [
    "np在执行加法的时候把y从【2】变成了【2，2】，我们说y就经历了一次广播，简言之，让其变大，以适合另一个矩阵的形状，再进行运算，即广播规则，下面的一个例子是对两个矩阵都进行广播，然后得到公共的形状，再进行加减，这里需要注意的是，这个运算并没有实际的在内存中发生，y不会因为被广播而改变"
   ]
  },
  {
   "cell_type": "code",
   "execution_count": 2,
   "id": "78ae94c4-5a46-4a49-8e4a-c6dcf6053388",
   "metadata": {},
   "outputs": [
    {
     "name": "stdout",
     "output_type": "stream",
     "text": [
      "[1 2 3]\n",
      "[[1]\n",
      " [2]\n",
      " [3]]\n",
      "[[2 3 4]\n",
      " [3 4 5]\n",
      " [4 5 6]]\n"
     ]
    }
   ],
   "source": [
    "x = np.array([1,2,3])\n",
    "y = np.array(x[:,np.newaxis])\n",
    "print(x)\n",
    "print(y)\n",
    "print(x+y)"
   ]
  },
  {
   "cell_type": "markdown",
   "id": "05592e30-e1d7-40c7-9a44-b3bb979413c3",
   "metadata": {},
   "source": [
    "详细的说，广播规则有如下三条：\n",
    "1. 若两个数组维度不等，那么小的那个会在左侧补1  :  例如，形状为 `(2, 3)` 的二维数组与形状为 `(4, 1, 3)` 的三维数组运算时，前者会被填充为 `(1, 2, 3)`。\n",
    "2. 若两个数组在任何维度都不匹配，数组的形状会沿着维度为1的那个方向扩展（譬如变成2），以匹配形状  :  例如，形状为 `(2, 1)` 的数组与形状为 `(2, 3)` 的数组运算时，前者会被扩展为 `(2, 3)`。\n",
    "\n",
    "3. 若两个数组形状在任何维度上都不匹配且没有维度等于1，那么报错  :  例如，形状为 `(2, 3)` 和 `(3, 2)` 的数组无法直接进行广播运算。"
   ]
  },
  {
   "cell_type": "code",
   "execution_count": 3,
   "id": "2dc9ad74-295b-47c9-89f8-5c9cd2cf5e9a",
   "metadata": {},
   "outputs": [
    {
     "name": "stdout",
     "output_type": "stream",
     "text": [
      "[[[1. 1. 1.]]\n",
      "\n",
      " [[1. 1. 1.]]\n",
      "\n",
      " [[1. 1. 1.]]\n",
      "\n",
      " [[1. 1. 1.]]]\n",
      "(4, 1, 3)\n",
      "\n",
      "[[0 1 2]\n",
      " [3 4 5]]\n",
      "(2, 3)\n",
      "\n",
      "[[[1. 2. 3.]\n",
      "  [4. 5. 6.]]\n",
      "\n",
      " [[1. 2. 3.]\n",
      "  [4. 5. 6.]]\n",
      "\n",
      " [[1. 2. 3.]\n",
      "  [4. 5. 6.]]\n",
      "\n",
      " [[1. 2. 3.]\n",
      "  [4. 5. 6.]]]\n",
      "(4, 2, 3)\n"
     ]
    }
   ],
   "source": [
    "x = np.ones((4,1,3))\n",
    "print(x)\n",
    "print(x.shape)\n",
    "y = np.arange(6)\n",
    "y = y.reshape((2, 3))  # 正确方式：使用 reshape 改变形状\n",
    "z = x + y\n",
    "k = z - x\n",
    "print()\n",
    "print(y)\n",
    "print(y.shape)\n",
    "print()\n",
    "print(z)\n",
    "print(z.shape)\n"
   ]
  },
  {
   "cell_type": "code",
   "execution_count": 4,
   "id": "99623faa-6741-4f97-ad32-5e0b61d97917",
   "metadata": {},
   "outputs": [
    {
     "name": "stdout",
     "output_type": "stream",
     "text": [
      "[[1. 1. 1.]\n",
      " [1. 1. 1.]]\n",
      "(2, 3)\n",
      "\n",
      "[0 1 2]\n",
      "(3,)\n",
      "\n",
      "[[1. 2. 3.]\n",
      " [1. 2. 3.]]\n"
     ]
    }
   ],
   "source": [
    "M = np.ones((2, 3))\n",
    "a = np.arange(3)\n",
    "print(M)\n",
    "print(M.shape)\n",
    "print()\n",
    "print(a)\n",
    "print(a.shape)\n",
    "print()\n",
    "print(M+a)"
   ]
  },
  {
   "cell_type": "markdown",
   "id": "f5062bb7-e911-4b7d-ad4a-ff0253d8c6a5",
   "metadata": {},
   "source": [
    "现在我们考虑这两个数组的运算，它们的形状如下：\n",
    "\n",
    "- `M.shape` 为 `(2, 3)`\n",
    "- `a.shape` 为 `(3,)`\n",
    "\n",
    "根据规则 1，数组 `a` 的维度较少，因此我们在其左侧用 1 填充维度：\n",
    "\n",
    "- `M.shape` 保持 `(2, 3)`\n",
    "- `a.shape` 变为 `(1, 3)`\n",
    "\n",
    "根据规则 2，此时第一个维度（即行维度）的大小不匹配，因此需要将此维度扩展以匹配：\n",
    "\n",
    "- `M.shape` 保持 `(2, 3)`\n",
    "- `a.shape` 变为 `(2, 3)`\n",
    "\n",
    "此时两个数组的形状完全匹配，最终运算结果的形状将为 `(2, 3)`："
   ]
  },
  {
   "cell_type": "markdown",
   "id": "26835fa7-7636-43b5-a885-eab1f3449b95",
   "metadata": {},
   "source": [
    "接下来，让我们看一个两个数组不兼容的示例： \n",
    "数组的形状如下：\n",
    "\n",
    "- `M` 的形状是 `(3, 2)`\n",
    "- `a` 的形状是 `(3,)`\n",
    "\n",
    "同样，规则 1 告诉我们，必须在 `a` 的形状左侧用 1 进行填充：\n",
    "\n",
    "- `M` 的形状保持为 `(3, 2)`\n",
    "- `a` 的形状变为 `(1, 3)`\n",
    "\n",
    "根据规则 2，`a` 的第一个维度随后会被拉伸以匹配 `M` 的该维度：\n",
    "\n",
    "- `M` 的形状保持为 `(3, 2)`\n",
    "- `a` 的形状变为 `(3, 3)`\n",
    "\n",
    "现在我们遇到了规则 3 —— 最终的形状不匹配，所以这两个数组是不兼容的，我们可以通过尝试进行此运算来观察到这一点： "
   ]
  },
  {
   "cell_type": "code",
   "execution_count": 5,
   "id": "9336ee43-aa39-4204-85d8-bc59142bcf50",
   "metadata": {},
   "outputs": [
    {
     "name": "stdout",
     "output_type": "stream",
     "text": [
      "[0 1 2]\n",
      "(3,)\n",
      "\n",
      "[[1. 1.]\n",
      " [1. 1.]\n",
      " [1. 1.]]\n",
      "(3, 2)\n"
     ]
    },
    {
     "ename": "ValueError",
     "evalue": "operands could not be broadcast together with shapes (3,) (3,2) ",
     "output_type": "error",
     "traceback": [
      "\u001b[1;31m---------------------------------------------------------------------------\u001b[0m",
      "\u001b[1;31mValueError\u001b[0m                                Traceback (most recent call last)",
      "Cell \u001b[1;32mIn[5], line 8\u001b[0m\n\u001b[0;32m      6\u001b[0m \u001b[38;5;28mprint\u001b[39m(b)\n\u001b[0;32m      7\u001b[0m \u001b[38;5;28mprint\u001b[39m(b\u001b[38;5;241m.\u001b[39mshape)\n\u001b[1;32m----> 8\u001b[0m \u001b[38;5;28mprint\u001b[39m(a\u001b[38;5;241m+\u001b[39mb)\n",
      "\u001b[1;31mValueError\u001b[0m: operands could not be broadcast together with shapes (3,) (3,2) "
     ]
    }
   ],
   "source": [
    "\n",
    "b = np.ones((3, 2))\n",
    "a = np.arange(3)\n",
    "print(a)\n",
    "print(a.shape)\n",
    "print()\n",
    "print(b)\n",
    "print(b.shape)\n",
    "print(a+b)\n"
   ]
  },
  {
   "cell_type": "markdown",
   "id": "75f0506d-0b6c-43cc-aff9-87284f35aa96",
   "metadata": {
    "jp-MarkdownHeadingCollapsed": true
   },
   "source": [
    "数据中心化\n",
    "在上一节中中，我们了解到通用函数能让NumPy用户无需显式编写运行缓慢的Python循环。而广播机制进一步拓展了这一能力。\n",
    "\n",
    "在数据科学领域，一个常见的例子是**从数据数组中逐行减去均值**。\n",
    "\n",
    "假设我们有10个观测值，每个观测值包含3个特征值，我们会将这些数据存储在一个 $10 \\times 3$ 的数组中： "
   ]
  },
  {
   "cell_type": "code",
   "execution_count": 6,
   "id": "449a9e7e-f62d-4f33-81e4-97bbcb348682",
   "metadata": {},
   "outputs": [
    {
     "name": "stdout",
     "output_type": "stream",
     "text": [
      "[[0.4020733  0.30563311 0.67668051]\n",
      " [0.15821208 0.79247763 0.09419469]\n",
      " [0.36753944 0.06388928 0.96431608]\n",
      " [0.35200998 0.54550343 0.88597945]\n",
      " [0.57016965 0.26614394 0.8170382 ]\n",
      " [0.55906652 0.06387035 0.84877751]\n",
      " [0.89414484 0.18920785 0.23660015]\n",
      " [0.16502896 0.56583856 0.29513111]\n",
      " [0.29078012 0.90079544 0.59992434]\n",
      " [0.09133896 0.00578466 0.97096222]]\n",
      "(10, 3)\n",
      "[0.38503638 0.36991443 0.63896043]\n",
      "(3,)\n",
      "\n",
      "[ 4.99600361e-17 -4.44089210e-17  0.00000000e+00]\n"
     ]
    }
   ],
   "source": [
    "rng = np.random.default_rng(seed=1701)    #这是指定一个种子以让每次都得到随机的但是相同的结果\n",
    "#随机种子的作用是为伪随机数生成器提供初始值，确保在相同种子下能重现相同的随机序列\n",
    "X = rng.random((10, 3))\n",
    "print(X)\n",
    "print(X.shape)\n",
    "\n",
    "Xmean = X.mean(0)    # 沿第0轴(行方向)求均值，保留3个特征，这代表这个操作是沿着行增大的方向进行，也就是竖着发生的\n",
    "print(Xmean)\n",
    "print(Xmean.shape)\n",
    "print()\n",
    "X_centered = X - Xmean   #广播发生在这里：X(10,3) - Xmean(3,)\n",
    "print(X_centered.mean(0))"
   ]
  },
  {
   "cell_type": "markdown",
   "id": "91e53aee-3d7c-4480-9f03-ab0a05300ffc",
   "metadata": {},
   "source": [
    "## 布尔掩码\n",
    "\n",
    "如果你试图基于某些准则来抽取，修改，计数或操作其他的数组值时，就可以利用布尔掩码，譬如一个最简单的例子是检查数据中有多少值大于一个给定值，这里的x<0.5就是计算了x的布尔掩码，其逻辑研究数组值关于0.5的大小，大于了就是成真，成真了就在相应的位置里给出Ture，反之就是False，紧接着我们把这个布尔掩码赋值给了y，于是就有"
   ]
  },
  {
   "cell_type": "code",
   "execution_count": 15,
   "id": "5c85b345-44dd-4cfb-b74c-c390df323510",
   "metadata": {},
   "outputs": [
    {
     "name": "stdout",
     "output_type": "stream",
     "text": [
      "[[0.4020733  0.30563311 0.67668051]\n",
      " [0.15821208 0.79247763 0.09419469]\n",
      " [0.36753944 0.06388928 0.96431608]\n",
      " [0.35200998 0.54550343 0.88597945]\n",
      " [0.57016965 0.26614394 0.8170382 ]\n",
      " [0.55906652 0.06387035 0.84877751]\n",
      " [0.89414484 0.18920785 0.23660015]\n",
      " [0.16502896 0.56583856 0.29513111]\n",
      " [0.29078012 0.90079544 0.59992434]\n",
      " [0.09133896 0.00578466 0.97096222]]\n",
      "(10, 3)\n",
      "\n",
      "[[ True  True False]\n",
      " [ True False  True]\n",
      " [ True  True False]\n",
      " [ True False False]\n",
      " [False  True False]\n",
      " [False  True False]\n",
      " [False  True  True]\n",
      " [ True False  True]\n",
      " [ True False False]\n",
      " [ True  True False]]\n"
     ]
    }
   ],
   "source": [
    "rng = np.random.default_rng(seed=1701)   \n",
    "X = rng.random((10, 3))\n",
    "print(X)\n",
    "print(X.shape)\n",
    "print()\n",
    "y = X < 0.5\n",
    "print(y)"
   ]
  },
  {
   "cell_type": "markdown",
   "id": "7c5020b1-0df5-436b-961b-732cef66e066",
   "metadata": {},
   "source": [
    "类似的，你不难想到<= , >= , == , < , > , != 也各自是布尔掩码，上面的代码中我们把布尔掩码数组赋值到了y中去，但是你其实也可以不这样做，直接使用x<0.5，np也会给你返回x对应的布尔数组"
   ]
  },
  {
   "cell_type": "code",
   "execution_count": 16,
   "id": "cc8e72fd-c8b8-4b63-8ee0-9fe501cdb683",
   "metadata": {},
   "outputs": [
    {
     "name": "stdout",
     "output_type": "stream",
     "text": [
      "[[0.4020733  0.30563311 0.67668051]\n",
      " [0.15821208 0.79247763 0.09419469]\n",
      " [0.36753944 0.06388928 0.96431608]\n",
      " [0.35200998 0.54550343 0.88597945]\n",
      " [0.57016965 0.26614394 0.8170382 ]\n",
      " [0.55906652 0.06387035 0.84877751]\n",
      " [0.89414484 0.18920785 0.23660015]\n",
      " [0.16502896 0.56583856 0.29513111]\n",
      " [0.29078012 0.90079544 0.59992434]\n",
      " [0.09133896 0.00578466 0.97096222]]\n",
      "\n",
      "[[ True  True False]\n",
      " [ True False  True]\n",
      " [ True  True False]\n",
      " [ True False False]\n",
      " [False  True False]\n",
      " [False  True False]\n",
      " [False  True  True]\n",
      " [ True False  True]\n",
      " [ True False False]\n",
      " [ True  True False]]\n"
     ]
    }
   ],
   "source": [
    "rng = np.random.default_rng(seed=1701)   \n",
    "X = rng.random((10, 3))\n",
    "print(X)\n",
    "print()\n",
    "print(X < 0.5)"
   ]
  },
  {
   "cell_type": "markdown",
   "id": "24c07af2-233d-4abc-bdd7-2202530cf50e",
   "metadata": {},
   "source": [
    "此后我们就可以根据这个列表的布尔掩码来对列表进行相关的操作，譬如我们试图统计布尔数组中True的个数，这会对应到原数组中满足条件的元素的个数，我们可以用count-nonzero函数"
   ]
  },
  {
   "cell_type": "code",
   "execution_count": 26,
   "id": "14ccd9e3-4a45-451c-b0d0-5095a1c67ca6",
   "metadata": {},
   "outputs": [
    {
     "name": "stdout",
     "output_type": "stream",
     "text": [
      "[[0.4020733  0.30563311 0.67668051 0.15821208]\n",
      " [0.79247763 0.09419469 0.36753944 0.06388928]\n",
      " [0.96431608 0.35200998 0.54550343 0.88597945]\n",
      " [0.57016965 0.26614394 0.8170382  0.55906652]]\n",
      "\n",
      "[[ True  True False  True]\n",
      " [False  True  True  True]\n",
      " [False  True False False]\n",
      " [False  True False False]]\n",
      "\n",
      "8\n"
     ]
    }
   ],
   "source": [
    "rng = np.random.default_rng(seed=1701)   \n",
    "X = rng.random((4, 4))\n",
    "print(X)\n",
    "print()\n",
    "y = X < 0.5\n",
    "print(y)\n",
    "print()\n",
    "print(np.count_nonzero(y))"
   ]
  },
  {
   "cell_type": "markdown",
   "id": "98e6bf93-13c0-45e6-aafe-ab7991d4411f",
   "metadata": {},
   "source": [
    "另一个途径是使用sum函数，一个true会被记录为1，反之false则会记录为0，这里需要注意的是，这个函数和下面的几个都要用np的版本而非python自带的"
   ]
  },
  {
   "cell_type": "code",
   "execution_count": 27,
   "id": "f58a6e48-ac51-4a25-8875-7127f4b0b303",
   "metadata": {},
   "outputs": [
    {
     "name": "stdout",
     "output_type": "stream",
     "text": [
      "[[0.4020733  0.30563311 0.67668051 0.15821208]\n",
      " [0.79247763 0.09419469 0.36753944 0.06388928]\n",
      " [0.96431608 0.35200998 0.54550343 0.88597945]\n",
      " [0.57016965 0.26614394 0.8170382  0.55906652]]\n",
      "\n",
      "8\n"
     ]
    }
   ],
   "source": [
    "rng = np.random.default_rng(seed=1701)   \n",
    "X = rng.random((4, 4))\n",
    "print(X)\n",
    "print()\n",
    "print(np.sum(X < 0.5))"
   ]
  },
  {
   "cell_type": "markdown",
   "id": "a4395de1-b73e-4243-abd0-8cb6a0567392",
   "metadata": {},
   "source": [
    "这个途径的好处是，sum支持输入参数，允许我们控制操作发生的方向，这一点的操作和前面是一样的"
   ]
  },
  {
   "cell_type": "code",
   "execution_count": 39,
   "id": "e94dc470-63b2-4d31-8247-1d4a103c5e6c",
   "metadata": {},
   "outputs": [
    {
     "name": "stdout",
     "output_type": "stream",
     "text": [
      "[[0.4020733  0.30563311 0.67668051]\n",
      " [0.15821208 0.79247763 0.09419469]\n",
      " [0.36753944 0.06388928 0.96431608]\n",
      " [0.35200998 0.54550343 0.88597945]]\n",
      "\n",
      "[0 2 3]\n",
      "\n",
      "[1 1 1 2]\n"
     ]
    }
   ],
   "source": [
    "rng = np.random.default_rng(seed=1701)   \n",
    "X = rng.random((4, 3))\n",
    "print(X)\n",
    "y = X > 0.5\n",
    "print()\n",
    "print(np.sum(y,axis=0))\n",
    "print()\n",
    "print(np.sum(y,axis=1))"
   ]
  },
  {
   "cell_type": "markdown",
   "id": "64070ca4-01f0-4318-8363-5e8a5ca5c3ad",
   "metadata": {},
   "source": [
    "上面的两个数组代表着：沿着平行于每行增加的方向（也就是竖着从上到下，逐列的数），有多少个数是大于0.5的，和：沿着列增加的方向（也就是横着从左到右，逐行的数）有多少的数大于0.5"
   ]
  },
  {
   "cell_type": "markdown",
   "id": "b009da72-0366-4c51-80f7-516642d59271",
   "metadata": {},
   "source": [
    "相较于“任意”和“存在”，np中也给出了自己的版本，all代表“全部满足则为真”，any代表“任有一个满足则为真”，这两个在此处的例子就是快速检查数据符不符合要求"
   ]
  },
  {
   "cell_type": "code",
   "execution_count": 40,
   "id": "70c7ac6d-1573-458e-9670-5f68e7c82847",
   "metadata": {},
   "outputs": [
    {
     "name": "stdout",
     "output_type": "stream",
     "text": [
      "[[0.4020733  0.30563311 0.67668051]\n",
      " [0.15821208 0.79247763 0.09419469]\n",
      " [0.36753944 0.06388928 0.96431608]\n",
      " [0.35200998 0.54550343 0.88597945]]\n",
      "\n",
      "True\n",
      "\n",
      "False\n"
     ]
    }
   ],
   "source": [
    "rng = np.random.default_rng(seed=1701)   \n",
    "X = rng.random((4, 3))\n",
    "print(X)\n",
    "y = X > 0.9\n",
    "print()\n",
    "print(np.any(y))\n",
    "print()\n",
    "print(np.all(y))"
   ]
  },
  {
   "cell_type": "markdown",
   "id": "82dbb7ec-c3fb-4ab2-95cf-5709a80cad00",
   "metadata": {},
   "source": [
    "特别的，这俩函数也可以给他指定操作发生的行或是列，即下面这个例子"
   ]
  },
  {
   "cell_type": "code",
   "execution_count": 43,
   "id": "fe6d72df-4203-445a-bd0d-a71a697ed107",
   "metadata": {},
   "outputs": [
    {
     "name": "stdout",
     "output_type": "stream",
     "text": [
      "[[0.4020733  0.30563311 0.67668051]\n",
      " [0.15821208 0.79247763 0.09419469]\n",
      " [0.36753944 0.06388928 0.96431608]\n",
      " [0.35200998 0.54550343 0.88597945]]\n",
      "\n",
      "[False  True  True]\n",
      "\n",
      "[ True  True  True  True]\n",
      "\n",
      "[False False False]\n",
      "\n",
      "[False False False False]\n"
     ]
    }
   ],
   "source": [
    "rng = np.random.default_rng(seed=1701)   \n",
    "X = rng.random((4, 3))\n",
    "print(X)\n",
    "y = X > 0.5\n",
    "print()\n",
    "print(np.any(y,axis=0))   #存在一个元素大于0.5，在每个行数增加的方向上\n",
    "print()\n",
    "print(np.any(y,axis=1))  #存在一个元素大于0.5，在每个列数增加的方向上\n",
    "print()\n",
    "print(np.all(y,axis=0))  #任意的元素均大于0.5，在每个行数增加的方向上\n",
    "print()\n",
    "print(np.all(y,axis=1))  #任意的元素均大于0.5，在每个列数增加的方向上"
   ]
  },
  {
   "cell_type": "markdown",
   "id": "c7a08dc7-1ecd-4c10-baaa-230e5bec9c52",
   "metadata": {},
   "source": [
    "你或许会想到如果我希望得到一个区间内的结果，这时我应该先确定不大于区间上界的，再确定不小于区间下界的，然后将他俩交一起，这里我会告诉你，python的原生布尔运算符可以解决交并补的这些问题，和之前我们说过的算术运算符一样，np重载了这些玩意，你写出来python会自动认为是np的版本，不需要像sum等那样额外注上"
   ]
  },
  {
   "cell_type": "code",
   "execution_count": 48,
   "id": "b305aa2a-d982-44dd-91bd-3aa9555f099e",
   "metadata": {},
   "outputs": [
    {
     "name": "stdout",
     "output_type": "stream",
     "text": [
      "[[0.4020733  0.30563311 0.67668051]\n",
      " [0.15821208 0.79247763 0.09419469]\n",
      " [0.36753944 0.06388928 0.96431608]\n",
      " [0.35200998 0.54550343 0.88597945]]\n",
      "\n",
      "[[ True  True False]\n",
      " [ True False False]\n",
      " [ True False False]\n",
      " [ True  True False]]\n",
      "\n",
      "[[False False  True]\n",
      " [False  True  True]\n",
      " [False  True  True]\n",
      " [False False  True]]\n",
      "\n",
      "[[ True  True False]\n",
      " [ True False False]\n",
      " [ True False False]\n",
      " [ True  True False]]\n"
     ]
    }
   ],
   "source": [
    "rng = np.random.default_rng(seed=1701)   \n",
    "X = rng.random((4, 3))\n",
    "print(X)\n",
    "y = (X > 0.1)&(X < 0.6)    #大于0.1且小于0.6的元素\n",
    "print()\n",
    "print(y)\n",
    "y = (X < 0.1)|(X > 0.6)    #小于0.1或大于0.6的元素\n",
    "print()\n",
    "print(y)\n",
    "print()\n",
    "print(~y)   #对刚才的y取非"
   ]
  },
  {
   "cell_type": "code",
   "execution_count": 49,
   "id": "aa6175d5-c4e3-4fae-b7b5-075f31d04a7b",
   "metadata": {},
   "outputs": [
    {
     "name": "stdout",
     "output_type": "stream",
     "text": [
      "[[0.4020733  0.30563311 0.67668051]\n",
      " [0.15821208 0.79247763 0.09419469]\n",
      " [0.36753944 0.06388928 0.96431608]\n",
      " [0.35200998 0.54550343 0.88597945]]\n",
      "\n",
      "X > 0.3:\n",
      "[[ True  True  True]\n",
      " [False  True False]\n",
      " [ True False  True]\n",
      " [ True  True  True]]\n",
      "\n",
      "X < 0.5:\n",
      "[[ True  True False]\n",
      " [ True False  True]\n",
      " [ True  True False]\n",
      " [ True False False]]\n",
      "\n",
      "X > 0.3 ^ X < 0.5:\n",
      "[[False False  True]\n",
      " [ True  True  True]\n",
      " [False  True  True]\n",
      " [False  True  True]]\n"
     ]
    }
   ],
   "source": [
    "rng = np.random.default_rng(seed=1701)   \n",
    "X = rng.random((4, 3))\n",
    "print(X)\n",
    "condition1 = (X > 0.3)  # 大于0.3的元素\n",
    "condition2 = (X < 0.5)  # 小于0.5的元素\n",
    "xor_result = condition1 ^ condition2  # 异或：满足其中一个条件但不满足另一个\n",
    "print(\"\\nX > 0.3:\")\n",
    "print(condition1)\n",
    "print(\"\\nX < 0.5:\")\n",
    "print(condition2)\n",
    "print(\"\\nX > 0.3 ^ X < 0.5:\")\n",
    "print(xor_result)"
   ]
  },
  {
   "cell_type": "markdown",
   "id": "17b4e91c-316e-4fd3-a329-0437c3705a36",
   "metadata": {},
   "source": [
    "当然你可能会好奇，我为什么不用and和or呢？这俩可比&和|在python原生语法中有用的多，这里需要指出的是，and和or两个关键字是用来比对两个对象相同或不同的，&和|则会逐位比对这两个对象的比特位的异同，这俩的不同举一个最简单的例子是，and和or会把任何非零整数都当作True，因此你用and和or比较42和0，结果将会是True或是False，但是&和|则会给你一个二进制串，其每个位是42和0的二进制表示逐位进行&和|运算的结果"
   ]
  },
  {
   "cell_type": "code",
   "execution_count": 60,
   "id": "cb636610-76c4-49b8-8cd4-bb30a40ab134",
   "metadata": {},
   "outputs": [
    {
     "name": "stdout",
     "output_type": "stream",
     "text": [
      "False\n",
      "True\n",
      "0b101010 0b111011\n",
      "0b101010\n",
      "0b111011\n",
      "0b10001\n",
      "-0b101011\n"
     ]
    }
   ],
   "source": [
    "print(bool(42 and 0))\n",
    "print(bool(42 or 0))\n",
    "print(bin(42),bin(59))\n",
    "print(bin(42 & 59))\n",
    "print(bin(42 | 59))\n",
    "print(bin(42 ^ 59))\n",
    "print(bin(~42))"
   ]
  },
  {
   "cell_type": "markdown",
   "id": "e090fc55-de08-4fc8-9f8e-06695dac5d31",
   "metadata": {},
   "source": [
    "布尔掩码的最后一个用途是作为切分的索引，我们知道x【】会得到他的一个切片，而在其中输入他对应条件的布尔掩码，就能得到原数组中满足条件的元素的集合"
   ]
  },
  {
   "cell_type": "code",
   "execution_count": 62,
   "id": "a34d753a-2087-462c-abcb-767a8b8d498c",
   "metadata": {},
   "outputs": [
    {
     "name": "stdout",
     "output_type": "stream",
     "text": [
      "[[0.4020733  0.30563311 0.67668051]\n",
      " [0.15821208 0.79247763 0.09419469]\n",
      " [0.36753944 0.06388928 0.96431608]\n",
      " [0.35200998 0.54550343 0.88597945]]\n",
      "\n",
      "[[ True  True False]\n",
      " [ True False  True]\n",
      " [ True  True False]\n",
      " [ True False False]]\n",
      "\n",
      "[0.4020733  0.30563311 0.15821208 0.09419469 0.36753944 0.06388928\n",
      " 0.35200998]\n"
     ]
    }
   ],
   "source": [
    "rng = np.random.default_rng(seed=1701)   \n",
    "X = rng.random((4, 3))\n",
    "print(X)\n",
    "print()\n",
    "print(X < 0.5)\n",
    "print()\n",
    "print(X[X < 0.5])"
   ]
  },
  {
   "cell_type": "markdown",
   "id": "8f7cdb41-cf6a-4784-affc-927f65f9e339",
   "metadata": {},
   "source": [
    "### 数组排序\n",
    "\n",
    "Python有几个用于对列表和其他可迭代对象进行排序的内置函数和方法。sorted函数接受一个列表并返回其排序后的版本，列表的sort方法会对列表进行原地排序，相对的，np里也有自己的版本，np.sort 函数类似于 Python 内置的 sorted 函数，它能够高效地返回一个数组的已排序副本："
   ]
  },
  {
   "cell_type": "code",
   "execution_count": 64,
   "id": "2fbe3de3-310f-4e27-8c2e-050f3f7977e7",
   "metadata": {},
   "outputs": [
    {
     "data": {
      "text/plain": [
       "array([1, 2, 3, 4, 5])"
      ]
     },
     "execution_count": 64,
     "metadata": {},
     "output_type": "execute_result"
    }
   ],
   "source": [
    "x = np.array([2, 1, 4, 3, 5])\n",
    "np.sort(x)"
   ]
  },
  {
   "cell_type": "markdown",
   "id": "3ff1d256-16bb-40df-a0fc-a648e17f0cf0",
   "metadata": {},
   "source": [
    "与 Python 列表的 sort 方法类似，你也可以使用数组的 sort 方法对数组进行原地排序，但这个方法不返回任何东西"
   ]
  },
  {
   "cell_type": "code",
   "execution_count": 69,
   "id": "a1bf279f-3bbc-461a-9f39-ec3e4efba116",
   "metadata": {},
   "outputs": [
    {
     "name": "stdout",
     "output_type": "stream",
     "text": [
      "[1 2 3 4 5]\n",
      "None\n"
     ]
    }
   ],
   "source": [
    "x = np.array([2, 1, 4, 3, 5])\n",
    "x.sort()\n",
    "print(x)\n",
    "print(x.sort())"
   ]
  },
  {
   "cell_type": "markdown",
   "id": "86faefe0-d116-47f4-9d01-f67cdfce4de0",
   "metadata": {},
   "source": [
    "一个相关的函数是 argsort，它返回的是排序后元素的索引，人话说就是这个位置的元素，在未排序的数组中本来的位置是哪里，但其并没有在原数组的位置上发生排序，你还是得再排序一次"
   ]
  },
  {
   "cell_type": "code",
   "execution_count": 72,
   "id": "015e834a-855f-41ec-b89f-62cdea72dc68",
   "metadata": {},
   "outputs": [
    {
     "name": "stdout",
     "output_type": "stream",
     "text": [
      "[2 1 4 3 5]\n",
      "[1 0 3 2 4]\n",
      "[1 2 3 4 5]\n"
     ]
    }
   ],
   "source": [
    "x = np.array([2, 1, 4, 3, 5])\n",
    "i = np.argsort(x)\n",
    "print(x)\n",
    "print(i)\n",
    "print(np.sort(x))"
   ]
  },
  {
   "cell_type": "markdown",
   "id": "87947adb-9f3b-4eb8-9f84-c251da5dbc26",
   "metadata": {},
   "source": [
    "还有一种方法是，你刚才得到的索引配合切片得到排序后的数组"
   ]
  },
  {
   "cell_type": "code",
   "execution_count": 74,
   "id": "4501af1c-3188-4c74-8215-68fef1fccbf8",
   "metadata": {},
   "outputs": [
    {
     "name": "stdout",
     "output_type": "stream",
     "text": [
      "[2 1 4 3 5]\n",
      "[1 0 3 2 4]\n",
      "[1 2 3 4 5]\n"
     ]
    }
   ],
   "source": [
    "x = np.array([2, 1, 4, 3, 5])\n",
    "i = np.argsort(x)\n",
    "print(x)\n",
    "print(i)\n",
    "print(x[i])"
   ]
  },
  {
   "cell_type": "markdown",
   "id": "5794b5e6-cdd4-4a29-b727-298cee334694",
   "metadata": {},
   "source": [
    "如果是倒序呢？"
   ]
  },
  {
   "cell_type": "code",
   "execution_count": 75,
   "id": "c474c399-f8c2-4545-a191-59c6a11d512d",
   "metadata": {},
   "outputs": [
    {
     "data": {
      "text/plain": [
       "array([5, 4, 3, 2, 1])"
      ]
     },
     "execution_count": 75,
     "metadata": {},
     "output_type": "execute_result"
    }
   ],
   "source": [
    "x[i[::-1]]"
   ]
  },
  {
   "cell_type": "markdown",
   "id": "b46911af-8f12-4296-8231-1028b281c7e9",
   "metadata": {},
   "source": [
    "np.sort 函数还有一个用法是能够使用 axis 参数沿着多维数组的特定行或列进行排序"
   ]
  },
  {
   "cell_type": "code",
   "execution_count": 78,
   "id": "bb809ca8-0298-4b20-8407-bf22dab20974",
   "metadata": {},
   "outputs": [
    {
     "name": "stdout",
     "output_type": "stream",
     "text": [
      "[[0 7 6 4]\n",
      " [4 8 0 6]\n",
      " [2 0 5 9]\n",
      " [7 7 7 7]]\n",
      "\n",
      "[[0 0 0 4]\n",
      " [2 7 5 6]\n",
      " [4 7 6 7]\n",
      " [7 8 7 9]]\n",
      "\n",
      "[[0 4 6 7]\n",
      " [0 4 6 8]\n",
      " [0 2 5 9]\n",
      " [7 7 7 7]]\n"
     ]
    }
   ],
   "source": [
    "rng = np.random.default_rng(seed=42)\n",
    "X = rng.integers(0, 10, (4, 4))\n",
    "print(X)\n",
    "print()\n",
    "print(np.sort(X, axis=0))\n",
    "print()\n",
    "print(np.sort(X, axis=1))"
   ]
  },
  {
   "cell_type": "markdown",
   "id": "355877a4-98fa-4da8-abdc-2c1a1c95ba10",
   "metadata": {},
   "source": [
    "部分排序：分隔,\n",
    "有时候，我们并不想对整个数组进行排序，而只是想找出数组中 k 个最小的值。NumPy 的 np.partition 函数可以实现这一需求。np.partition 函数接受一个数组和一个数字 K 作为参数；其返回的新数组中，左侧是 K 个最小的值，右侧是其余的值：¶"
   ]
  },
  {
   "cell_type": "code",
   "execution_count": 79,
   "id": "4ad240d3-0d4f-4bb5-bb4e-90a35e0f0ff8",
   "metadata": {},
   "outputs": [
    {
     "data": {
      "text/plain": [
       "array([1, 2, 3, 4, 5, 6, 7])"
      ]
     },
     "execution_count": 79,
     "metadata": {},
     "output_type": "execute_result"
    }
   ],
   "source": [
    "x = np.array([7, 2, 3, 1, 6, 5, 4])\n",
    "np.partition(x, 3)"
   ]
  },
  {
   "cell_type": "markdown",
   "id": "f115e038-ed59-49b3-ae8f-169fa6e94c8e",
   "metadata": {},
   "source": [
    "请注意，结果数组中的前三个值是原数组中最小的三个值，数组的其余位置包含剩余的值。在这两个分区内，元素的顺序是任意的。\n",
    "\n",
    "与排序类似，我们可以沿着多维数组的任意轴进行分区操作：¶"
   ]
  },
  {
   "cell_type": "code",
   "execution_count": 86,
   "id": "452a5e1e-26ae-4d13-85b3-d33a32261adf",
   "metadata": {},
   "outputs": [
    {
     "name": "stdout",
     "output_type": "stream",
     "text": [
      "[[0 7 6 4 4 8 0]\n",
      " [6 2 0 5 9 7 7]\n",
      " [7 7 5 1 8 4 5]]\n",
      "\n",
      "[[0 0 4 4 6 7 8]\n",
      " [0 2 5 6 7 7 9]\n",
      " [1 4 5 5 7 7 8]]\n"
     ]
    }
   ],
   "source": [
    "rng = np.random.default_rng(seed=42)\n",
    "X = rng.integers(0, 10, (3, 7))\n",
    "print(X)\n",
    "print()\n",
    "print(np.partition(X, 2, axis=1))"
   ]
  },
  {
   "cell_type": "markdown",
   "id": "0f2319cf-e746-4d1b-bfa7-4b0c89e64325",
   "metadata": {},
   "source": [
    "### 花式索引\n",
    "\n",
    "前面的章节讨论了如何使用简单索引（例如 arr[0]）、切片（例如 arr[:5]）以及布尔掩码（例如 arr[arr > 0]）来访问和修改数组的部分元素。现在，我们传入索引数组来替代单个标量。这使我们能够非常快速地访问和修改数组值中复杂的子集。"
   ]
  },
  {
   "cell_type": "markdown",
   "id": "089b5620-c23b-4be4-8b87-26b7c1e113a3",
   "metadata": {},
   "source": [
    "假设我想要访问一个已知数组中三个不同的元素，显然我们可以直接按照他的位置找到他，并包装成一个新数组"
   ]
  },
  {
   "cell_type": "code",
   "execution_count": 88,
   "id": "3db38489-3f50-4fac-a43b-97caff02eb88",
   "metadata": {},
   "outputs": [
    {
     "name": "stdout",
     "output_type": "stream",
     "text": [
      "[90 40  9 30 80 67 39 15 33 79]\n",
      "\n",
      "[30 15  9]\n"
     ]
    }
   ],
   "source": [
    "rng = np.random.default_rng(seed=1701)\n",
    "x = rng.integers(100, size=10)\n",
    "print(x)\n",
    "y = np.array([x[3], x[7], x[2]])\n",
    "print()\n",
    "print(y)"
   ]
  },
  {
   "cell_type": "markdown",
   "id": "44731e85-0d0f-4cf9-94a8-ca52cebae5c4",
   "metadata": {},
   "source": [
    "或者，我们可以传入一个包含索引的单个列表或数组，以获得相同的结果"
   ]
  },
  {
   "cell_type": "code",
   "execution_count": 90,
   "id": "eb5bfca8-89aa-492e-a295-10f91780f0c1",
   "metadata": {},
   "outputs": [
    {
     "name": "stdout",
     "output_type": "stream",
     "text": [
      "[90 40  9 30 80 67 39 15 33 79]\n",
      "\n",
      "[30 15  9]\n"
     ]
    }
   ],
   "source": [
    "rng = np.random.default_rng(seed=1701)\n",
    "x = rng.integers(100, size=10)\n",
    "print(x)\n",
    "ind = [3, 7, 2]\n",
    "y = x[ind]\n",
    "print()\n",
    "print(y)\n"
   ]
  },
  {
   "cell_type": "markdown",
   "id": "4e66d142-1211-4abc-a874-864ec8ea16da",
   "metadata": {},
   "source": [
    "这种方式的好处是，你可以指定结果的形状，结果将变成你索引的形状"
   ]
  },
  {
   "cell_type": "code",
   "execution_count": 92,
   "id": "3db4c0bf-eefc-46e7-9fc8-ac63d3984a6e",
   "metadata": {},
   "outputs": [
    {
     "name": "stdout",
     "output_type": "stream",
     "text": [
      "[90 40  9 30 80 67 39 15 33 79]\n",
      "\n",
      "[[30 15]\n",
      " [ 9 67]]\n"
     ]
    }
   ],
   "source": [
    "rng = np.random.default_rng(seed=1701)\n",
    "x = rng.integers(100, size=10)\n",
    "print(x)\n",
    "ind = np.array([[3, 7],\n",
    "                [2, 5]])\n",
    "y = x[ind]\n",
    "print()\n",
    "print(y)"
   ]
  },
  {
   "cell_type": "markdown",
   "id": "dbbf8821-fc93-407e-ab83-f627ac3942aa",
   "metadata": {},
   "source": [
    "这一点也适用于二维数组"
   ]
  },
  {
   "cell_type": "code",
   "execution_count": 98,
   "id": "63946af9-2469-45f8-b930-e87bd5bf7e61",
   "metadata": {},
   "outputs": [
    {
     "name": "stdout",
     "output_type": "stream",
     "text": [
      "[[1 2 3]\n",
      " [7 8 9]]\n",
      "\n",
      " [[2 3]\n",
      " [5 6]\n",
      " [8 9]]\n"
     ]
    }
   ],
   "source": [
    "# 创建一个简单的3x3二维数组\n",
    "arr = np.array([[1, 2, 3],\n",
    "                [4, 5, 6],\n",
    "                [7, 8, 9]])\n",
    "\n",
    "# 花式索引：选择第0行和第2行\n",
    "rows = np.array([0, 2])\n",
    "print(arr[rows])\n",
    "\n",
    "# 花式索引：选择第1列和第2列\n",
    "cols = np.array([1, 2])\n",
    "print(\"\\n\", arr[:, cols])"
   ]
  },
  {
   "cell_type": "markdown",
   "id": "85351764-3304-48cc-9553-4c9173a75f17",
   "metadata": {},
   "source": [
    "我们前面提到的广播规则在这里也会生效，当行索引和列索引形状不同时，其会按照广播的规则得到一个形状匹配的结果"
   ]
  },
  {
   "cell_type": "code",
   "execution_count": 102,
   "id": "364b8171-4b65-4057-9e18-e1c68fb670df",
   "metadata": {},
   "outputs": [
    {
     "name": "stdout",
     "output_type": "stream",
     "text": [
      "\n",
      " [[[1 2 3]]\n",
      "\n",
      " [[7 8 9]]]\n",
      "\n",
      " [[4 5 6]\n",
      " [7 8 9]]\n",
      "\n",
      " [[2 3]\n",
      " [8 9]]\n"
     ]
    }
   ],
   "source": [
    "# 创建3x3数组\n",
    "arr = np.array([[1, 2, 3],\n",
    "                [4, 5, 6],\n",
    "                [7, 8, 9]])\n",
    "\n",
    "# 广播示例1：行索引和列索引形状不同时会广播\n",
    "rows = np.array([[0], [2]])  # 形状(2,1)\n",
    "print(\"\\n\", arr[rows])\n",
    "cols = np.array([1, 2])      # 形状(2,)\n",
    "print(\"\\n\", arr[cols ])\n",
    "print(\"\\n\", arr[rows, cols])  # 行取rows指定的行，列取col指定的列，\n",
    "#但是形状将会是两个索引的广播结果"
   ]
  },
  {
   "cell_type": "markdown",
   "id": "a3ea2b21-3cc1-4f5f-9d94-386eca5a6c75",
   "metadata": {},
   "source": [
    "rows初始形状为(2,1)，cols初始形状为(2,)（即(2,)等同于(1,2)），\n",
    "\n",
    "第1维度（最右）：rows的1与cols的2 → 将rows的该维度复制扩展为2，\n",
    "\n",
    "第0维度：rows的2与cols的1 → 将cols的该维度复制扩展为2，\n",
    "\n",
    "就等价于：\n",
    "\n",
    "[[ [0,0], [2,2] ],  # 扩展后的行坐标\n",
    "\n",
    "   [ [1,2], [1,2] ]] # 扩展后的列坐标"
   ]
  },
  {
   "cell_type": "markdown",
   "id": "43b62155-4e10-4e75-9cca-522f94c6febb",
   "metadata": {},
   "source": [
    "### 组合索引\n",
    "\n",
    "\n",
    "为了实现更强大的操作，花式索引可以与我们之前学过的其他索引方式结合使用。例如，给定数组 X，我们可以将花式索引和简单索引结合起来使用，还可以将花式索引与切片操作结合起来"
   ]
  },
  {
   "cell_type": "code",
   "execution_count": 108,
   "id": "198f007e-d1da-4546-8a36-657e6280c31f",
   "metadata": {},
   "outputs": [
    {
     "name": "stdout",
     "output_type": "stream",
     "text": [
      "[[ 0  1  2  3]\n",
      " [ 4  5  6  7]\n",
      " [ 8  9 10 11]]\n",
      "\n",
      "[10  8  9]\n",
      "\n",
      "[[ 6  4  5]\n",
      " [10  8  9]]\n"
     ]
    }
   ],
   "source": [
    "X = np.arange(12).reshape((3, 4))\n",
    "print(X)\n",
    "print()\n",
    "print(X[2, [2, 0, 1]])  #行取第二行，列取索引\n",
    "print()\n",
    "print(X[1:, [2, 0, 1]])   #行切满，但每行都只取索引值"
   ]
  },
  {
   "cell_type": "markdown",
   "id": "d6c3376b-9504-4d27-b761-01fed372931d",
   "metadata": {},
   "source": [
    "以及掩码"
   ]
  },
  {
   "cell_type": "code",
   "execution_count": 112,
   "id": "d9909dad-fa52-4022-9e18-83beac3482d5",
   "metadata": {},
   "outputs": [
    {
     "name": "stdout",
     "output_type": "stream",
     "text": [
      "原始数组:\n",
      " [[ 0  1  2  3]\n",
      " [ 4  5  6  7]\n",
      " [ 8  9 10 11]\n",
      " [12 13 14 15]]\n",
      "\n",
      "掩码+花式索引结果:\n",
      " [[ 4  6]\n",
      " [12 14]]\n"
     ]
    }
   ],
   "source": [
    "arr = np.arange(16).reshape(4,4)\n",
    "print(\"原始数组:\\n\", arr)\n",
    "\n",
    "# 创建行掩码（选择第1行和第3行）\n",
    "row_mask = np.array([False, True, False, True]) \n",
    "\n",
    "# 创建列索引（选择第0列和第2列）\n",
    "col_indices = np.array([0, 2])  \n",
    "\n",
    "# 组合使用：先通过掩码筛选行，再通过花式索引选择列\n",
    "result = arr[row_mask][:, col_indices]\n",
    "print(\"\\n掩码+花式索引结果:\\n\", result)"
   ]
  },
  {
   "cell_type": "markdown",
   "id": "ddd2cd3c-8c90-405d-8f2b-814f56c00336",
   "metadata": {},
   "source": [
    "利用花式索引修改值：\n",
    "正如花式索引可用于访问数组的某些部分一样，它也能够用来修改数组的某些部分。"
   ]
  },
  {
   "cell_type": "code",
   "execution_count": 113,
   "id": "4192138e-c0f7-4d63-bb7b-eae23874722c",
   "metadata": {},
   "outputs": [
    {
     "name": "stdout",
     "output_type": "stream",
     "text": [
      "[ 0 99 99  3 99  5  6  7 99  9]\n"
     ]
    }
   ],
   "source": [
    "x = np.arange(10)\n",
    "i = np.array([2, 1, 8, 4])\n",
    "x[i] = 99\n",
    "print(x)"
   ]
  },
  {
   "cell_type": "markdown",
   "id": "b9352222-ce3f-446e-905b-9ceb103b5f7f",
   "metadata": {},
   "source": [
    "类似的"
   ]
  },
  {
   "cell_type": "code",
   "execution_count": 115,
   "id": "a090da28-facb-4894-937f-0e9f1ea5e2d6",
   "metadata": {},
   "outputs": [
    {
     "name": "stdout",
     "output_type": "stream",
     "text": [
      "原始矩阵:\n",
      " [[10  3  7  7  3]\n",
      " [ 9  3  2  7  3]\n",
      " [ 7  2  5  2  5]\n",
      " [ 2  7  2 10  9]\n",
      " [ 3  6  7  4  8]]\n",
      "\n",
      "修改后矩阵:\n",
      " [[10 -1  7  7 -1]\n",
      " [ 9 -1 -1  7 -1]\n",
      " [ 7 -1 -1 -1 -1]\n",
      " [-1  7 -1 10  9]\n",
      " [-1  6  7 -1  8]]\n"
     ]
    }
   ],
   "source": [
    "# 生成5x5随机矩阵（1-10范围）\n",
    "matrix = np.random.randint(1, 11, size=(5,5))\n",
    "print(\"原始矩阵:\\n\", matrix)\n",
    "\n",
    "# 创建布尔掩码（标记不大于5的元素）\n",
    "mask = matrix <= 5\n",
    "\n",
    "# 通过掩码修改值\n",
    "matrix[mask] = -1\n",
    "print(\"\\n修改后矩阵:\\n\", matrix)"
   ]
  },
  {
   "cell_type": "markdown",
   "id": "fcd73613-4fcb-4992-acc8-d9a4e91a56a5",
   "metadata": {},
   "source": [
    "不过要注意的是，在这些操作中重复出现的索引可能会导致一些出乎意料的结果。看看下面这个例子："
   ]
  },
  {
   "cell_type": "code",
   "execution_count": 116,
   "id": "7b3c0039-fe38-4be6-942c-558a65c56f2b",
   "metadata": {},
   "outputs": [
    {
     "name": "stdout",
     "output_type": "stream",
     "text": [
      "[6. 0. 0. 0. 0. 0. 0. 0. 0. 0.]\n"
     ]
    }
   ],
   "source": [
    "x = np.zeros(10)\n",
    "x[[0, 0]] = [4, 6]\n",
    "print(x)"
   ]
  },
  {
   "cell_type": "markdown",
   "id": "c0c5da4e-d19b-4037-93d0-fcbce036c7a4",
   "metadata": {},
   "source": [
    "数字 4 哪去了呢？这个操作首先将 x[0] 赋值为 4，接着又将 x[0] 赋值为 6。"
   ]
  },
  {
   "cell_type": "markdown",
   "id": "a3f35c21-fb30-4d63-af4c-814a30ec6296",
   "metadata": {},
   "source": [
    "再看看下面这个操作："
   ]
  },
  {
   "cell_type": "code",
   "execution_count": 119,
   "id": "7e4aeb27-be59-485f-b4d8-609caffe839a",
   "metadata": {},
   "outputs": [
    {
     "name": "stdout",
     "output_type": "stream",
     "text": [
      "[6. 0. 0. 0. 0. 0. 0. 0. 0. 0.]\n",
      "[6. 0. 1. 1. 1. 0. 0. 0. 0. 0.]\n"
     ]
    }
   ],
   "source": [
    "x = np.zeros(10)\n",
    "x[[0, 0]] = [4, 6]\n",
    "print(x)\n",
    "i = [2, 3, 3, 4, 4, 4]\n",
    "x[i] += 1\n",
    "print(x)"
   ]
  },
  {
   "cell_type": "markdown",
   "id": "907f735e-99a5-4f8d-9c7e-b0896b2e976a",
   "metadata": {},
   "source": [
    "你可能会认为 x[3] 的值应该是 2，x[4] 的值应该是 3，这是一个关于NumPy花式索引(fancy indexing)的重要特性问题。出现这种现象的原因是：当使用 x[i] += 1 时，NumPy实际上会先创建 x[i] 的临时副本，对副本中的每个对应位置加1（包括重复索引），最后将结果一次性写回原数组，因此每个索引位置最终只被更新一次"
   ]
  },
  {
   "cell_type": "markdown",
   "id": "bd351a9d-aebc-4ceb-8aa6-7324b23e65dc",
   "metadata": {},
   "source": [
    "你可以使用通用函数（ufuncs）的 at 方法，这是一个专门用来解决重复索引的累加操作的方法"
   ]
  },
  {
   "cell_type": "code",
   "execution_count": 120,
   "id": "436a9da0-4139-4515-bec4-0ee3b9c769ac",
   "metadata": {},
   "outputs": [
    {
     "name": "stdout",
     "output_type": "stream",
     "text": [
      "[0. 0. 1. 2. 3. 0. 0. 0. 0. 0.]\n"
     ]
    }
   ],
   "source": [
    "x = np.zeros(10)\n",
    "i = [2, 3, 3, 4, 4, 4]\n",
    "np.add.at(x, i, 1)\n",
    "print(x)"
   ]
  },
  {
   "cell_type": "code",
   "execution_count": null,
   "id": "c198224d-0c54-41d0-adc9-41f11032c623",
   "metadata": {},
   "outputs": [],
   "source": []
  },
  {
   "cell_type": "code",
   "execution_count": null,
   "id": "ccbb8b63-aa8a-43ca-9a2c-e7c59a8a519f",
   "metadata": {},
   "outputs": [],
   "source": []
  },
  {
   "cell_type": "code",
   "execution_count": null,
   "id": "ab28749c-c90a-4f38-b225-eeb70b00ee94",
   "metadata": {},
   "outputs": [],
   "source": []
  },
  {
   "cell_type": "code",
   "execution_count": null,
   "id": "d1c57cb5-a09b-4674-bf67-18a1b2a54724",
   "metadata": {},
   "outputs": [],
   "source": []
  },
  {
   "cell_type": "code",
   "execution_count": null,
   "id": "d5b44097-c743-488c-a608-8aaf2f42427c",
   "metadata": {},
   "outputs": [],
   "source": []
  },
  {
   "cell_type": "code",
   "execution_count": null,
   "id": "85ba76af-262d-4f06-b7b7-e707aa0b70a7",
   "metadata": {},
   "outputs": [],
   "source": []
  },
  {
   "cell_type": "code",
   "execution_count": null,
   "id": "02fccb5d-0b2f-472a-95bb-47bc9d7cae0f",
   "metadata": {},
   "outputs": [],
   "source": []
  }
 ],
 "metadata": {
  "kernelspec": {
   "display_name": "Genv",
   "language": "python",
   "name": "my_env"
  },
  "language_info": {
   "codemirror_mode": {
    "name": "ipython",
    "version": 3
   },
   "file_extension": ".py",
   "mimetype": "text/x-python",
   "name": "python",
   "nbconvert_exporter": "python",
   "pygments_lexer": "ipython3",
   "version": "3.11.11"
  }
 },
 "nbformat": 4,
 "nbformat_minor": 5
}
