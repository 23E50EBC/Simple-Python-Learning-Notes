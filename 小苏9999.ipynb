{
 "cells": [
  {
   "cell_type": "markdown",
   "id": "c6bfb6bb-908a-4128-a013-3ea87a24ee69",
   "metadata": {},
   "source": [
    "# nmupy！\n",
    "\n",
    "我们在第一节课说过，python取消了数据类型的设计，现在你即使存一个1，也是一个对象了（相对的，传统的语言要求指明每个数据的类型，我们将之称其为静态数据类型的语言）。\n",
    "\n",
    "我们打开python的源代码，注意python的实现是c语言实现的，你创建一个变量，python会把它自动的关联到一个结构体上，这个结构体就包含了它的浮点形和整形，布尔型，字符串等等，当你在不同的地方调用这个变量时，python又会自动的找到你试图操作的变量此时应该调用的数据类型。\n",
    "\n",
    "但是你显然不难想到，这是不是有点太浪费时间和空间了，事实上确实是这样的，原生python的效率实在难以言说（加之它还是一个解释性语言），假设我们需要一个处理大量数据的代码，而全部的这些数据都是同样的类型，那岂不是浪费了及其大量的空间，特别的，我有的时候不需要如此高的精度，譬如全部的数据范围不超4位的shortint，那我干嘛用32位double存它呢？因此我们这里开始就要引入numpy了，这是一个用于高效加载，存储和处理内存的库，这个库作为数据科学的基础，在后面的代码中会经常出现"
   ]
  },
  {
   "cell_type": "code",
   "execution_count": 2,
   "id": "3d7f9ff0-cad9-4bf8-b4bb-9de2ec9d7045",
   "metadata": {},
   "outputs": [],
   "source": [
    "#使用这个代码引入numpy\n",
    "import numpy as np\n",
    "#绝大多数的人喜欢把这个库别名为np"
   ]
  },
  {
   "cell_type": "markdown",
   "id": "8ff6a8f5-e7eb-4cbb-9d13-ce52b70e59fc",
   "metadata": {},
   "source": [
    "## 作为一个例子，python的固定类型数组，以及从头开始创建的numpy数组\n",
    "\n",
    "python给了一个库叫array，他提供的一个类可以支持操作固定类型的数组，这作为一个例子，用来比较numpy的数组"
   ]
  },
  {
   "cell_type": "code",
   "execution_count": 4,
   "id": "f777ee02-9a88-4202-bb0d-b12d73d78bdc",
   "metadata": {},
   "outputs": [
    {
     "name": "stdout",
     "output_type": "stream",
     "text": [
      "=== 求和操作性能对比 ===\n",
      "Python原生array求和: 0.110356 秒/次 (10次平均)\n",
      "NumPy数组求和: 0.003055 秒/次 (10次平均)\n"
     ]
    }
   ],
   "source": [
    "import array\n",
    "import numpy as np\n",
    "from timeit import timeit\n",
    "# 测试数组大小\n",
    "size = 1000000\n",
    "# 1. Python原生array测试\n",
    "def test_python_array():\n",
    "    # 创建数组\n",
    "    py_arr = array.array('d', [i*0.1 for i in range(size)])\n",
    "    # 计算求和\n",
    "    total = sum(py_arr)\n",
    "    return total\n",
    "# 2. NumPy数组测试\n",
    "def test_numpy_array():\n",
    "    # 创建数组\n",
    "    np_arr = np.arange(0, size*0.1, 0.1)\n",
    "    # 计算求和\n",
    "    total = np.sum(np_arr)\n",
    "    return total\n",
    "# 运行时间测试\n",
    "py_time = timeit(test_python_array, number=10)\n",
    "np_time = timeit(test_numpy_array, number=10)\n",
    "# 结果输出\n",
    "print(\"=== 求和操作性能对比 ===\")\n",
    "print(f\"Python原生array求和: {py_time/10:.6f} 秒/次 (10次平均)\")\n",
    "print(f\"NumPy数组求和: {np_time/10:.6f} 秒/次 (10次平均)\")"
   ]
  },
  {
   "cell_type": "markdown",
   "id": "dd575e45-eb70-4e94-b6b1-2e2adea2a24d",
   "metadata": {},
   "source": [
    "## numpy的数组\n",
    "\n",
    "使用numpy.array([python原生列表])创建一个np数组\n",
    "\n",
    "numpy要求数组（这里我们改称更合适的名字，数组）必须为同一类型的数据，如果你试图写出一个不匹配的数据，那它会认为这里面的数都是最高等级的数，以保证数据存在,如果你希望强制指定这个数组里的类型，你可以array类构造器中的dtype=，并且数组的类型不会因为你传入一个数而改变整个的类型，一个例子是，如果你尝试把一个浮点数置入整形的数组，那么它会直接截断这个数，就好像浮点数转换成整数一样"
   ]
  },
  {
   "cell_type": "code",
   "execution_count": 5,
   "id": "acdbb7e1-0112-4d86-abed-93734c2954de",
   "metadata": {},
   "outputs": [
    {
     "name": "stdout",
     "output_type": "stream",
     "text": [
      "[3.14 2.   5.  ]\n",
      "[3 2 5]\n"
     ]
    }
   ],
   "source": [
    "#numpy会尝试向上转换（如果可行），譬如这里的整数会被转换为浮点数\n",
    "arr1 = np.array([3.14,2,5])\n",
    "print(arr1)\n",
    "#对照的，全是整数的\n",
    "arr2 = np.array([3,2,5])\n",
    "print(arr2)"
   ]
  },
  {
   "cell_type": "code",
   "execution_count": 6,
   "id": "6af06823-fad4-4d24-8d0a-b21a0225deb3",
   "metadata": {},
   "outputs": [
    {
     "name": "stdout",
     "output_type": "stream",
     "text": [
      "[3. 2. 5.]\n"
     ]
    }
   ],
   "source": [
    "arr1 = np.array([3,2,5],dtype='float32')\n",
    "print(arr1)\n",
    "#这里给出的全部是整数，但是强制指定了它的类型，于是吐出来的就全部是浮点数"
   ]
  },
  {
   "cell_type": "markdown",
   "id": "8874f8a5-9dac-4a9e-8371-ea92c22331d4",
   "metadata": {},
   "source": [
    "此外，numpy传入的列表内部嵌套的列表被认为是数组的第二个维度，提前说一嘴，这里的访问方式也更贴近数学而非代码"
   ]
  },
  {
   "cell_type": "code",
   "execution_count": 7,
   "id": "ec640876-0027-43e3-83c4-9f57c24fe9dd",
   "metadata": {},
   "outputs": [
    {
     "name": "stdout",
     "output_type": "stream",
     "text": [
      "[[2 3 4]\n",
      " [4 5 6]\n",
      " [7 8 9]]\n"
     ]
    }
   ],
   "source": [
    "arr1 = np.array([[2,3,4],\n",
    "                [4,5,6],\n",
    "                [7,8,9]]\n",
    "               )\n",
    "print(arr1)"
   ]
  },
  {
   "cell_type": "markdown",
   "id": "a58049e0-938b-4a3b-96b8-dd221d285f44",
   "metadata": {},
   "source": [
    "### 下面一个内容是，nmupy提供的一次性创建数组方法\n",
    "\n",
    "面对大型数组时，用它内部提供的方法创建一个数组是一个更好的办法,下面的例子展示了这类方法,还挺多的"
   ]
  },
  {
   "cell_type": "code",
   "execution_count": 8,
   "id": "d2e4e2bd-f6bb-454d-892f-9a360724e01c",
   "metadata": {},
   "outputs": [
    {
     "name": "stdout",
     "output_type": "stream",
     "text": [
      "[0 0 0 0 0 0 0 0 0 0]\n",
      "\n",
      "[[1. 1. 1. 1. 1.]\n",
      " [1. 1. 1. 1. 1.]\n",
      " [1. 1. 1. 1. 1.]]\n",
      "\n",
      "[[3.14 3.14 3.14 3.14 3.14]\n",
      " [3.14 3.14 3.14 3.14 3.14]\n",
      " [3.14 3.14 3.14 3.14 3.14]]\n",
      "\n",
      "[ 0  2  4  6  8 10 12 14 16 18]\n",
      "\n",
      "[0.   0.25 0.5  0.75 1.  ]\n",
      "\n",
      "[[0.33575712 0.96468848 0.32282892]\n",
      " [0.70441282 0.44589435 0.56607963]\n",
      " [0.79831006 0.25099642 0.98599308]]\n",
      "\n",
      "[[ 0.49070557  0.28892807 -0.63901731]\n",
      " [-0.03045178 -0.40796099  0.27250339]\n",
      " [-1.59029599 -0.3208204  -1.17690595]]\n",
      "\n",
      "[[3 4 2]\n",
      " [6 7 8]\n",
      " [1 6 3]]\n",
      "[[1. 0. 0.]\n",
      " [0. 1. 0.]\n",
      " [0. 0. 1.]]\n",
      "\n",
      "[1. 1. 1.]\n",
      "\n"
     ]
    }
   ],
   "source": [
    "#创建一个长度为10的全零数组\n",
    "arr1 = np.zeros(10,dtype=int)\n",
    "print(arr1)\n",
    "print()\n",
    "#创建一个3*5的浮点数数组,数组的值都为1\n",
    "arr2 = np.ones((3,5),dtype = float)\n",
    "print(arr2)\n",
    "print()\n",
    "#创建一个3*5的数组,并填满3.14\n",
    "arr3 = np.full((3,5),3.14)\n",
    "print(arr3)\n",
    "print()\n",
    "#创建一个线性序列数组,从0开始,从20结束,步长为2\n",
    "arr4 = np.arange(0,20,2)\n",
    "print(arr4)\n",
    "print()\n",
    "#创建一个元素的值在0~1中均匀分布的数组,长5个元素\n",
    "arr5 = np.linspace(0,1,5)\n",
    "print(arr5)\n",
    "print()\n",
    "#创建一个元素随机分布在0~1中的数组,大小为3*3\n",
    "arr6 = np.random.random((3,3))\n",
    "print(arr6)\n",
    "print()\n",
    "#创建一个元素服从均值为0,标准差为1的正态分布~N(0,1)的数组,大小为3*3\n",
    "arr7 = np.random.normal(0,1,(3,3))\n",
    "print(arr7)\n",
    "print()\n",
    "#创建一个元素是[0,10)间的随机整数的数组,大小为3*3\n",
    "arr8 = np.random.randint(0,10,(3,3))\n",
    "print(arr8)\n",
    "#创建一个3*3的单位矩阵\n",
    "arr9 = np.eye(3)\n",
    "print(arr9)\n",
    "print()\n",
    "#创建一个长为3的空数组,注意到,空数组的初始值是其内存空间内的上一个值,认为是随机的\n",
    "arr10 = np.empty(3)\n",
    "print(arr10)\n",
    "print()"
   ]
  },
  {
   "cell_type": "markdown",
   "id": "1947a2f2-4c9e-4fb3-9fb6-c64fdb09a629",
   "metadata": {},
   "source": [
    "### numpy的标准数据类型\n",
    "\n",
    "它给你提供了基础的数据类型,有如下几个,你可以向上面演示的那样用‘int16’来写，也可以用np中自带的numpy常量对象来指定np.int16"
   ]
  },
  {
   "cell_type": "markdown",
   "id": "9cee6136-ad7b-42d0-9d1f-99b194b45f32",
   "metadata": {},
   "source": [
    "| &zwnj;**类型分类**&zwnj;       | &zwnj;**数据类型**&zwnj;   | &zwnj;**描述**&zwnj;                          | &zwnj;**取值范围**&zwnj;                     | &zwnj;**内存占用**&zwnj; |\n",
    "|--------------------|---------------|-----------------------------------|----------------------------------|--------------|\n",
    "| &zwnj;**布尔型**&zwnj;         | `bool_`       | 存储 True/False                   | True 或 False                    | 1 字节       |\n",
    "| &zwnj;**有符号整型**&zwnj;     | `int8`        | 8 位整数                          | -128 到 127                     | 1 字节       |\n",
    "|                    | `int16`       | 16 位整数                         | -32768 到 32767                 | 2 字节       |\n",
    "|                    | `int32`       | 32 位整数（默认）                 | -2³¹ 到 2³¹-1                  | 4 字节       |\n",
    "|                    | `int64`       | 64 位整数                         | -2⁶³ 到 2⁶³-1                  | 8 字节       |\n",
    "| &zwnj;**无符号整型**&zwnj;     | `uint8`       | 8 位无符号整数                    | 0 到 255                        | 1 字节       |\n",
    "|                    | `uint16`      | 16 位无符号整数                   | 0 到 65535                      | 2 字节       |\n",
    "|                    | `uint32`      | 32 位无符号整数                   | 0 到 4294967295                 | 4 字节       |\n",
    "|                    | `uint64`      | 64 位无符号整数                   | 0 到 2⁶⁴-1                     | 8 字节       |\n",
    "| &zwnj;**浮点型**&zwnj;         | `float16`     | 半精度浮点数                     | ±65504 范围，3 位有效数字       | 2 字节       |\n",
    "|                    | `float32`     | 单精度浮点数                     | ±1.18e⁻³⁸~3.4e³⁸，6-7 位有效数字 | 4 字节       |\n",
    "|                    | `float64`     | 双精度浮点数（默认）             | ±2.23e⁻³⁰⁸~1.79e³⁰⁸，15-16 位   | 8 字节       |\n",
    "| &zwnj;**复数型**&zwnj;         | `complex64`   | 32 位复数（两个 float32）        | 实部/虚部同 float32             | 8 字节       |\n",
    "|                    | `complex128`  | 64 位复数（两个 float64）        | 实部/虚部同 float64             | 16 字节      |\n",
    "| &zwnj;**特殊类型**&zwnj;       | `intc`        | C 兼容的 int 类型                | 平台相关                        | 通常 4 字节  |\n",
    "|                    | `intp`        | 索引类型（类似 size_t）          | 平台相关                        | 通常 8 字节  |\n"
   ]
  },
  {
   "cell_type": "markdown",
   "id": "4508c1a6-2acf-46b0-9a2a-ec68d07c8d66",
   "metadata": {},
   "source": [
    "### numpy的数组，他有什么属性？\n",
    "\n",
    "一个numpy数组含有的属性有：大小，形状，存储大小，数据类型\n",
    "下面几个例子介绍了这个玩意儿"
   ]
  },
  {
   "cell_type": "code",
   "execution_count": 9,
   "id": "21ed259a-ef59-43a2-bde7-fdbb84fd7d15",
   "metadata": {},
   "outputs": [
    {
     "name": "stdout",
     "output_type": "stream",
     "text": [
      "[5 0 3 3 7 9]\n",
      "[[3 5 2 4]\n",
      " [7 6 8 8]\n",
      " [1 6 7 7]]\n",
      "[[[8 1 5 9 8]\n",
      "  [9 4 3 0 3]\n",
      "  [5 0 2 3 8]\n",
      "  [1 3 3 3 7]]\n",
      "\n",
      " [[0 1 9 9 0]\n",
      "  [4 7 3 2 7]\n",
      "  [2 0 0 4 5]\n",
      "  [5 6 8 4 1]]\n",
      "\n",
      " [[4 9 8 1 1]\n",
      "  [7 9 9 3 6]\n",
      "  [7 2 0 3 5]\n",
      "  [9 4 4 6 4]]]\n",
      "------\n",
      "1 2 3\n",
      "(6,) (3, 4) (3, 4, 5)\n",
      "6 12 60\n",
      "int32 int32 int32\n",
      "4 4 4\n",
      "24 48 240\n"
     ]
    }
   ],
   "source": [
    "#首先得到几个演示数组\n",
    "np.random.seed(0)  #这个指定随机种子，种子一定，下面随机出来的数就是随机取出但每次相同的\n",
    "x1 = np.random.randint(10,size=6)\n",
    "x2 = np.random.randint(10,size=(3,4))\n",
    "x3 = np.random.randint(10,size=(3,4,5))\n",
    "print(x1)\n",
    "print(x2)\n",
    "print(x3)\n",
    "print(\"------\")\n",
    "#ndim获得数组的维度\n",
    "print(x1.ndim,x2.ndim,x3.ndim)\n",
    "#shape是数组的大小\n",
    "print(x1.shape,x2.shape,x3.shape)\n",
    "#size是数组的总元素数量\n",
    "print(x1.size,x2.size,x3.size)\n",
    "#dtype是数据类型\n",
    "print(x1.dtype,x2.dtype,x3.dtype)\n",
    "#每个数组元素的大小用itemsize\n",
    "print(x1.itemsize,x2.itemsize,x3.itemsize)\n",
    "#数组的总大小是nbytes，这里的计算是每个元素大小itemsize*元素数量size就等于总大小nbytes\n",
    "print(x1.nbytes,x2.nbytes,x3.nbytes)"
   ]
  },
  {
   "cell_type": "markdown",
   "id": "c1e2b5ef-e706-44ed-948c-21aadb16bd22",
   "metadata": {},
   "source": [
    "你也可以用 数组名[索引] 的方式,来获取数组的某一个元素,同样的,首个从0开始,逆序索引用负的索引值,你也可以通过索引值指定的修改数组中的某个元素,多维数组中通过多元列表的索引值获得数据,而非 数组名[第一维][第二维] "
   ]
  },
  {
   "cell_type": "code",
   "execution_count": 10,
   "id": "2d6c90f1-bd48-4123-8d45-493cf6bd6e00",
   "metadata": {},
   "outputs": [
    {
     "name": "stdout",
     "output_type": "stream",
     "text": [
      "[5 0 3 3 7 9]\n",
      "[[3 5 2 4]\n",
      " [7 6 8 8]\n",
      " [1 6 7 7]]\n",
      "\n",
      "0\n",
      "6\n",
      "2\n",
      "9\n",
      "5\n"
     ]
    }
   ],
   "source": [
    "#仍随机获得两个示例\n",
    "np.random.seed(0) \n",
    "x1 = np.random.randint(10,size=6)\n",
    "x2 = np.random.randint(10,size=(3,4))\n",
    "print(x1)\n",
    "print(x2)\n",
    "print()\n",
    "#用索引获得他的值\n",
    "print(x1[1])\n",
    "#多维数组的索引更接近于向量\n",
    "print(x2[1,1])\n",
    "#用索引修改值\n",
    "x1[1] = 2\n",
    "print(x1[1])\n",
    "#逆序索引是负的,但是0只有一个,是数组头,也就是说-0 = +0 = 0,并且从后向前数的第一位是-1\n",
    "print(x1[-1])\n",
    "print(x1[-0])"
   ]
  },
  {
   "cell_type": "markdown",
   "id": "a85931a4-58d3-4610-9902-8f01979cf5ef",
   "metadata": {},
   "source": [
    "我们前面说过,类型不对的修改在numpy中会引起问题,譬如我将一个浮点数插入到整形数组里,会直接截断掉小数部分"
   ]
  },
  {
   "cell_type": "code",
   "execution_count": 11,
   "id": "e3a87e0b-92ca-4c12-b85d-b82401f2c682",
   "metadata": {},
   "outputs": [
    {
     "name": "stdout",
     "output_type": "stream",
     "text": [
      "[5 0 3 3 7 9]\n",
      "[5 3 3 3 7 9]\n"
     ]
    }
   ],
   "source": [
    "x1 = np.array([5,0,3,3,7,9],dtype=np.int8)\n",
    "print(x1)\n",
    "x1[1] = 3.1415926\n",
    "print(x1)"
   ]
  },
  {
   "cell_type": "markdown",
   "id": "d8493db8-2457-4caa-850b-a9b6d1382b8c",
   "metadata": {},
   "source": [
    "### 数组的切分，变形，拼接，分裂\n",
    "\n",
    "切片很好用,这里也能用,使用 数组名[起点索引:终点索引:步长]来切原数组的一部分下来,但是和python列表的切片不同的是,这里的切片仍在原来的数组上,并没有给你一个新的数组\n",
    "\n",
    "此外,若不指定起始/终止位置,他会默认从头开始/数组的维度大小(也就是切到底),不指定步长默认步长为1"
   ]
  },
  {
   "cell_type": "code",
   "execution_count": 12,
   "id": "5a0d3415-c73b-4d08-a063-9384c60df7b9",
   "metadata": {},
   "outputs": [
    {
     "name": "stdout",
     "output_type": "stream",
     "text": [
      "[5 0 3 3 7 9] [0 3 3]\n",
      "[ 5  0 10  3  7  9] [ 0 10  3]\n",
      "[ 5 10  7]\n",
      "[5 0]\n",
      "[ 0 10  3  7  9]\n"
     ]
    }
   ],
   "source": [
    "x1 = np.array([5,0,3,3,7,9])\n",
    "#切分一个片段\n",
    "x2 = x1[1:4]\n",
    "print(x1,x2)\n",
    "#切下来的部分还在原来的数组上\n",
    "x2[1] = 10\n",
    "print(x1,x2)\n",
    "#按步长切\n",
    "x3 = x1[::2]\n",
    "print(x3)\n",
    "#不指定起点\n",
    "x4 = x1[:2]\n",
    "print(x4)\n",
    "#不指定终点\n",
    "x5 = x1[1:]\n",
    "print(x5)"
   ]
  },
  {
   "cell_type": "markdown",
   "id": "318204f3-ac2c-4cda-ad27-cdcf6cd0c8c6",
   "metadata": {},
   "source": [
    "同样的,你也可以[::-1]获得逆序"
   ]
  },
  {
   "cell_type": "code",
   "execution_count": 13,
   "id": "0b4bddd4-b295-492b-9cfe-da78f7c34cea",
   "metadata": {},
   "outputs": [
    {
     "name": "stdout",
     "output_type": "stream",
     "text": [
      "[5 0 3 3 7 9] [9 7 3 3 0 5]\n"
     ]
    }
   ],
   "source": [
    "x1 = np.array([5,0,3,3,7,9])\n",
    "#切分一个片段\n",
    "x2 = x1[::-1]\n",
    "print(x1,x2)"
   ]
  },
  {
   "cell_type": "markdown",
   "id": "be1e60c3-b1c1-427d-8853-939eeb8e6a38",
   "metadata": {},
   "source": [
    "多维数组的切片是在每一个维度中按照上述规则切,譬如\n",
    "\n",
    "x1 = [[5 0 3 3]\n",
    "\n",
    " [7 9 3 5]\n",
    " \n",
    " [2 4 7 6]]\n",
    "\n",
    "我们将其视作x1=[x2,x3,x4],其中的x2=[5 0 3 3],x3=[7 9 3 5],x4=[2 4 7 6]\n",
    "\n",
    "这时,你希望从x1中切出后半部分,你可以这样写x5 = x1[1:],此时你会得到的数组是[x2,x3],然后你又想要在x2和x3中切出后半部分,你还需要x2[2:],这时表达规则要按照上面多元索引的规则,写成x6 = x1[1:,2:]\n",
    "\n",
    "简言之,对于一个矩阵而言,首个位置的切片切的是首个维度,第二个切的是第二个维度,以此类推"
   ]
  },
  {
   "cell_type": "code",
   "execution_count": 14,
   "id": "efdbb6cd-db4e-45ca-ae1f-88b81a91db97",
   "metadata": {},
   "outputs": [
    {
     "name": "stdout",
     "output_type": "stream",
     "text": [
      "[[5 0 3 3]\n",
      " [7 9 3 5]\n",
      " [2 4 7 6]] \n",
      "\n",
      " [[3 5]\n",
      " [7 6]]\n",
      "\n",
      " [[5 0 3]\n",
      " [7 9 3]]\n",
      "\n",
      " [[5 3]\n",
      " [7 3]]\n"
     ]
    }
   ],
   "source": [
    "#仍随机获得两个示例\n",
    "np.random.seed(0) \n",
    "x2 = np.random.randint(10,size=(3,4))\n",
    "#行从第二行开始往后,列从第二列开始往后\n",
    "x3 = x2[1:,2:]\n",
    "print(x2,'\\n\\n',x3)\n",
    "#行取首两行,列取首三列\n",
    "x4 = x2[:2,:3]\n",
    "print('\\n',x4)\n",
    "#前两行中隔一个取一列\n",
    "x5 = x2[:2,::2]\n",
    "print('\\n',x5)"
   ]
  },
  {
   "cell_type": "markdown",
   "id": "5ba43f7e-91bf-4db5-a483-ec6549bf3da4",
   "metadata": {},
   "source": [
    "此外,[前面没有:后面也没有]同样表示切满,所以这种方式可以快速的得到逆序"
   ]
  },
  {
   "cell_type": "code",
   "execution_count": 15,
   "id": "8401aa96-4554-4a0d-b937-6b5cc52cbe4a",
   "metadata": {},
   "outputs": [
    {
     "name": "stdout",
     "output_type": "stream",
     "text": [
      "[[5 0 3 3]\n",
      " [7 9 3 5]\n",
      " [2 4 7 6]] \n",
      "\n",
      " [[6 7 4 2]\n",
      " [5 3 9 7]\n",
      " [3 3 0 5]]\n"
     ]
    }
   ],
   "source": [
    "#仍随机获得两个示例\n",
    "np.random.seed(0) \n",
    "x2 = np.random.randint(10,size=(3,4))\n",
    "\n",
    "x3 = x2[::-1,::-1]\n",
    "print(x2,'\\n\\n',x3)"
   ]
  },
  {
   "cell_type": "markdown",
   "id": "62903b3d-5684-45ab-8163-d099eb6cf3a7",
   "metadata": {},
   "source": [
    "一种常见的需求是得到一行或者是一列,这个可以通过索引值和切片的混合使用来解决,特别要说的是,上面的模型还指出了,如果想要获得一个子数组,那么直接在外数组的索引时单取一个数组下标也可以,这样得到的是一个行"
   ]
  },
  {
   "cell_type": "code",
   "execution_count": 16,
   "id": "5f2be87e-a7b2-4854-b8d5-fd89bba8a444",
   "metadata": {},
   "outputs": [
    {
     "name": "stdout",
     "output_type": "stream",
     "text": [
      "[[5 0 3 3]\n",
      " [7 9 3 5]\n",
      " [2 4 7 6]] \n",
      "\n",
      " [5 0 3 3]\n",
      "\n",
      " [5 7 2]\n",
      "\n",
      " [5 0 3 3]\n"
     ]
    }
   ],
   "source": [
    "#仍随机获得两个示例\n",
    "np.random.seed(0) \n",
    "x2 = np.random.randint(10,size=(3,4))\n",
    "#第一行,切满\n",
    "x3 = x2[0,:]\n",
    "print(x2,'\\n\\n',x3)\n",
    "#第一列,切满\n",
    "x4 = x2[:,0]\n",
    "print('\\n',x4)\n",
    "#单取x2[0]\n",
    "print('\\n',x2[0])"
   ]
  },
  {
   "cell_type": "markdown",
   "id": "b5a06aab-280c-4f48-b484-8eafee8d6a44",
   "metadata": {},
   "source": [
    "如果你希望获得切片的一个克隆,请使用切片的.copy方法"
   ]
  },
  {
   "cell_type": "code",
   "execution_count": 17,
   "id": "290c4a7e-9c2d-4f82-b96d-80bb5246e741",
   "metadata": {},
   "outputs": [
    {
     "name": "stdout",
     "output_type": "stream",
     "text": [
      "[5 0 3 3 7 9] [0 3 3]\n",
      "[5 0 3 3 7 9] [ 0 10  3]\n"
     ]
    }
   ],
   "source": [
    "x1 = np.array([5,0,3,3,7,9])\n",
    "#切分一个片段,但copy\n",
    "x2 = x1[1:4].copy()\n",
    "print(x1,x2)\n",
    "#切下来的部分是原来数组的一个克隆\n",
    "x2[1] = 10\n",
    "print(x1,x2)"
   ]
  },
  {
   "cell_type": "markdown",
   "id": "526e742a-f1f2-4167-b7c7-1f2d317cce24",
   "metadata": {},
   "source": [
    "reshape()支持把你已有的数组变成元素同样多但是另一个形状的数组,此外,这个函数返回一个原数组的克隆,当reshape得到的数组和变形后的数组元素数量不一致的时候就会报错"
   ]
  },
  {
   "cell_type": "code",
   "execution_count": 18,
   "id": "62c09df8-ff93-4654-beda-bf6b9c20a7e1",
   "metadata": {},
   "outputs": [
    {
     "name": "stdout",
     "output_type": "stream",
     "text": [
      "[5 0 3 3 7 9 1 2 3]\n",
      "[[5 0 3]\n",
      " [3 7 9]\n",
      " [1 2 3]]\n"
     ]
    }
   ],
   "source": [
    "x1 = np.array([5,0,3,3,7,9,1,2,3])\n",
    "x2 = x1.reshape((3,3))\n",
    "print(x1)\n",
    "print(x2)"
   ]
  },
  {
   "cell_type": "code",
   "execution_count": 19,
   "id": "3b0af867-b3a6-4e04-b1ca-f0097b1c6ccd",
   "metadata": {},
   "outputs": [
    {
     "ename": "ValueError",
     "evalue": "cannot reshape array of size 8 into shape (3,3)",
     "output_type": "error",
     "traceback": [
      "\u001b[1;31m---------------------------------------------------------------------------\u001b[0m",
      "\u001b[1;31mValueError\u001b[0m                                Traceback (most recent call last)",
      "Cell \u001b[1;32mIn[19], line 2\u001b[0m\n\u001b[0;32m      1\u001b[0m x1 \u001b[38;5;241m=\u001b[39m np\u001b[38;5;241m.\u001b[39marray([\u001b[38;5;241m5\u001b[39m,\u001b[38;5;241m0\u001b[39m,\u001b[38;5;241m3\u001b[39m,\u001b[38;5;241m3\u001b[39m,\u001b[38;5;241m7\u001b[39m,\u001b[38;5;241m9\u001b[39m,\u001b[38;5;241m1\u001b[39m,\u001b[38;5;241m2\u001b[39m])    \u001b[38;5;66;03m#只有八个数,就会报错\u001b[39;00m\n\u001b[1;32m----> 2\u001b[0m x2 \u001b[38;5;241m=\u001b[39m x1\u001b[38;5;241m.\u001b[39mreshape((\u001b[38;5;241m3\u001b[39m,\u001b[38;5;241m3\u001b[39m))\n\u001b[0;32m      3\u001b[0m \u001b[38;5;28mprint\u001b[39m(x1)\n\u001b[0;32m      4\u001b[0m \u001b[38;5;28mprint\u001b[39m(x2)\n",
      "\u001b[1;31mValueError\u001b[0m: cannot reshape array of size 8 into shape (3,3)"
     ]
    }
   ],
   "source": [
    "x1 = np.array([5,0,3,3,7,9,1,2])    #只有八个数,就会报错\n",
    "x2 = x1.reshape((3,3))\n",
    "print(x1)\n",
    "print(x2)"
   ]
  },
  {
   "cell_type": "markdown",
   "id": "42384153-8a17-4dd2-bfeb-1bf9355d5e1a",
   "metadata": {},
   "source": [
    "对于一个特殊的情况,把一个一维的数组变成二维的但是只有一行的矩阵,我们可以向上面那个例子那样用reshape,也可以用切片中的np.newaxis常量,假装切片"
   ]
  },
  {
   "cell_type": "code",
   "execution_count": 20,
   "id": "d3b9fb74-2a07-4aaf-9a0e-6b92638430ed",
   "metadata": {},
   "outputs": [
    {
     "name": "stdout",
     "output_type": "stream",
     "text": [
      "[5 0 3 3 7]\n",
      "[[5]\n",
      " [0]\n",
      " [3]\n",
      " [3]\n",
      " [7]]\n"
     ]
    }
   ],
   "source": [
    "x1 = np.array([5,0,3,3,7])   \n",
    "x2 = x1[:,np.newaxis]\n",
    "print(x1)\n",
    "print(x2)"
   ]
  },
  {
   "cell_type": "markdown",
   "id": "1ca3d563-2738-4378-9917-6d8de400c947",
   "metadata": {},
   "source": [
    "这个例子展示了一个高级用法"
   ]
  },
  {
   "cell_type": "code",
   "execution_count": 18,
   "id": "fab53254-f3f5-4ff1-8d19-3c5de65c35a8",
   "metadata": {},
   "outputs": [
    {
     "name": "stdout",
     "output_type": "stream",
     "text": [
      "[[1 2]\n",
      " [3 4]\n",
      " [5 6]\n",
      " [7 8]]\n",
      "(4, 2)\n",
      "\n",
      "[[[1 2]]\n",
      "\n",
      " [[3 4]]\n",
      "\n",
      " [[5 6]]\n",
      "\n",
      " [[7 8]]]\n",
      "(4, 1, 2)\n",
      "\n",
      "[[[1 2]\n",
      "  [3 4]\n",
      "  [5 6]\n",
      "  [7 8]]]\n",
      "(1, 4, 2)\n",
      "\n",
      "[[[ 2  4]\n",
      "  [ 4  6]\n",
      "  [ 6  8]\n",
      "  [ 8 10]]\n",
      "\n",
      " [[ 4  6]\n",
      "  [ 6  8]\n",
      "  [ 8 10]\n",
      "  [10 12]]\n",
      "\n",
      " [[ 6  8]\n",
      "  [ 8 10]\n",
      "  [10 12]\n",
      "  [12 14]]\n",
      "\n",
      " [[ 8 10]\n",
      "  [10 12]\n",
      "  [12 14]\n",
      "  [14 16]]]\n",
      "(4, 4, 2)\n",
      "\n",
      "[[ 6 10 14 18]\n",
      " [10 14 18 22]\n",
      " [14 18 22 26]\n",
      " [18 22 26 30]]\n",
      "(4, 4)\n",
      "\n",
      "[[[1]\n",
      "  [2]]\n",
      "\n",
      " [[3]\n",
      "  [4]]\n",
      "\n",
      " [[5]\n",
      "  [6]]\n",
      "\n",
      " [[7]\n",
      "  [8]]]\n",
      "(4, 2, 1)\n"
     ]
    }
   ],
   "source": [
    "x1 = np.array([[1,2],[3,4],[5,6],[7,8]])   \n",
    "x2 = x1[:,np.newaxis]\n",
    "x6 = x1[:,:,np.newaxis]\n",
    "x3 = x1[np.newaxis,:]\n",
    "x4 = x2 + x3\n",
    "x5 = np.sum(x4,axis = -1)\n",
    "print(x1)\n",
    "print(x1.shape)\n",
    "print()\n",
    "print(x2)\n",
    "print(x2.shape)\n",
    "print()\n",
    "print(x3)\n",
    "print(x3.shape)\n",
    "print()\n",
    "print(x4)\n",
    "print(x4.shape)\n",
    "print()\n",
    "print(x5)\n",
    "print(x5.shape)\n",
    "print()\n",
    "print(x6)\n",
    "print(x6.shape)"
   ]
  },
  {
   "cell_type": "markdown",
   "id": "3dd9d764-82ab-44d7-a181-9c94c45c22f6",
   "metadata": {},
   "source": [
    "下面是ai对这个操作机理的解释，作为一个ai学生要学会使用ai"
   ]
  },
  {
   "cell_type": "markdown",
   "id": "310af61b-b122-4801-ad1c-a24f2ff2eb1c",
   "metadata": {},
   "source": [
    "    让我用形象的比喻来解释这个NumPy数组维度变换的操作：\n",
    "    想象你有一串珍珠项链（一维数组x1），现在你想把它改造成一个珍珠展示架（二维数组）。有两种改造方式：\n",
    "    reshape方式：就像把项链拆开重新排列成单层展示架\n",
    "    比如：x1.reshape(1,5) → 把5颗珍珠排成1行5列\n",
    "    np.newaxis方式：就像给项链加个展示支架\n",
    "    x1[:,np.newaxis] 这个操作可以理解为：\n",
    "    冒号: 表示\"保留所有现有珍珠（元素）\"\n",
    "    np.newaxis 表示\"在这里插入一个新的展示维度\"\n",
    "    \n",
    "    具体到你的例子：\n",
    "    原始项链： [5,0,3,3,7] （形状(5,)）\n",
    "    加支架后变成：\n",
    "    [[5],\n",
    "    [0],\n",
    "    [3],\n",
    "    [3],\n",
    "    [7]] （形状(5,1)）\n",
    "    \n",
    "    关键区别：\n",
    "    reshape(1,5) → 一行五列的展示架\n",
    "    [:,np.newaxis] → 五行的单列展示架\n",
    "    这就像：\n",
    "    reshape是水平展开（行向量）\n",
    "    newaxis是垂直展开（列向量）\n",
    "    \n",
    "    实际应用中，newaxis常用于：\n",
    "    需要将一维数组转为列向量进行矩阵运算时\n",
    "    需要满足某些函数对输入维度的要求时\n",
    "    进行广播(broadcasting)操作前的维度对齐"
   ]
  },
  {
   "cell_type": "markdown",
   "id": "c9587555-e268-4269-a0ae-c559e69fccb4",
   "metadata": {},
   "source": [
    "拼接或链接两个np数组，可以通过np.concatenate，np.vstack，np.hstack来实现，第一个是简单拼接，譬如123和456拼成123456，他会把数组元素或是数组列表作为第一个参数，以此构造一个新的数组，是参数的拼接，注意到，输入必须是相同维度的数组序列（比如都是1D或都是2D），通过axis参数控制拼接方向，axis参数可以接受任意有效的维度编号，代表其拼接时的方向索引"
   ]
  },
  {
   "cell_type": "code",
   "execution_count": 19,
   "id": "38511ad8-4237-47fa-ae60-6fe217842c7e",
   "metadata": {},
   "outputs": [
    {
     "name": "stdout",
     "output_type": "stream",
     "text": [
      "[1 2 3 4 5 6]\n"
     ]
    }
   ],
   "source": [
    "x = np.array([1,2,3])\n",
    "y = np.array([4,5,6])\n",
    "z = np.concatenate([x,y])  #这里的【x，y】就是元素为数组的列表\n",
    "print(z)"
   ]
  },
  {
   "cell_type": "code",
   "execution_count": 20,
   "id": "90842fae-7b67-407d-9f10-a88a2e6ea932",
   "metadata": {},
   "outputs": [
    {
     "name": "stdout",
     "output_type": "stream",
     "text": [
      "[1 2 3 4 5 6 7 8 9]\n"
     ]
    }
   ],
   "source": [
    "x = np.array([1,2,3])\n",
    "y = np.array([4,5,6])\n",
    "y2 = np.array([7,8,9])\n",
    "z = np.concatenate([x,y,y2])  #也可以拼接多个列表\n",
    "print(z)"
   ]
  },
  {
   "cell_type": "code",
   "execution_count": 21,
   "id": "ec49670f-c874-4b1f-bba4-8bb7272c14e8",
   "metadata": {},
   "outputs": [
    {
     "name": "stdout",
     "output_type": "stream",
     "text": [
      "[[1 2]\n",
      " [3 4]\n",
      " [5 6]\n",
      " [7 8]]\n"
     ]
    }
   ],
   "source": [
    "#二维数组纵向拼接（像叠放书本）\n",
    "x = np.array([[1,2],[3,4]])\n",
    "y = np.array([[5,6],[7,8]])\n",
    "z = np.concatenate((x,y), axis=0)   #这代表操作发生在行上，后面还会讨论他的\n",
    "print(z)"
   ]
  },
  {
   "cell_type": "code",
   "execution_count": 22,
   "id": "468b28f5-5e88-4921-92df-9033922c1c65",
   "metadata": {},
   "outputs": [
    {
     "name": "stdout",
     "output_type": "stream",
     "text": [
      "[[1 2 5 6]\n",
      " [3 4 7 8]]\n"
     ]
    }
   ],
   "source": [
    "#反之，竖着拼\n",
    "x = np.array([[1,2],[3,4]])\n",
    "y = np.array([[5,6],[7,8]])\n",
    "z = np.concatenate((x,y), axis=1)\n",
    "print(z)"
   ]
  },
  {
   "cell_type": "code",
   "execution_count": 23,
   "id": "be2c054c-596f-4c96-9f4d-934b999574ef",
   "metadata": {},
   "outputs": [
    {
     "name": "stdout",
     "output_type": "stream",
     "text": [
      "(1, 1, 1, 1, 6)\n"
     ]
    }
   ],
   "source": [
    "# 极端例子，创建两个5维数组（形状为 (1,1,1,1,3)）\n",
    "arr5d_1 = np.ones((1,1,1,1,3))  # 5维全1数组\n",
    "arr5d_2 = np.zeros((1,1,1,1,3)) # 5维全0数组\n",
    "\n",
    "# 在第5个维度（axis=4）拼接\n",
    "result = np.concatenate((arr5d_1, arr5d_2), axis=4)\n",
    "print(result.shape)  # 输出：(1, 1, 1, 1, 6)\n"
   ]
  },
  {
   "cell_type": "markdown",
   "id": "5437f018-b92e-4cbe-ad24-7e5ba680a98d",
   "metadata": {},
   "source": [
    "当你希望沿着水平或是垂直方向拼接数组时，可以用上这俩函数，其是上面一位的简单封装：\n",
    "\n",
    "‌1. 垂直栈（np.vstack）\n",
    "‌\n",
    "\n",
    "‌功能‌：沿第一个维度（axis=0）垂直堆叠数组（行方向拼接）\n",
    "\n",
    "‌要求‌：所有数组的列数必须相同\n",
    "\n",
    "‌等效操作‌：np.concatenate(..., axis=0)\n",
    "\n",
    "\n",
    "反之，‌2. 水平栈（np.hstack）\n",
    "‌\n",
    "\n",
    "‌功能‌：沿第二个维度（axis=1）水平堆叠数组（列方向拼接）\n",
    "\n",
    "‌要求‌：所有数组的行数必须相同\n",
    "\n",
    "‌等效操作‌：np.concatenate(..., axis=1)\n"
   ]
  },
  {
   "cell_type": "code",
   "execution_count": 24,
   "id": "d70e7596-72f9-46fe-aa5e-dfba0c52d2fc",
   "metadata": {},
   "outputs": [
    {
     "name": "stdout",
     "output_type": "stream",
     "text": [
      "[[1 2]\n",
      " [3 4]\n",
      " [5 6]]\n"
     ]
    }
   ],
   "source": [
    "import numpy as np\n",
    "\n",
    "a = np.array([[1, 2], [3, 4]])  # 形状 (2, 2)\n",
    "b = np.array([[5, 6]])          # 形状 (1, 2)\n",
    "\n",
    "result = np.vstack((a, b))      # 垂直拼接\n",
    "print(result)\n"
   ]
  },
  {
   "cell_type": "code",
   "execution_count": 25,
   "id": "99959f4c-600c-4690-87dd-aded9fd673ac",
   "metadata": {},
   "outputs": [
    {
     "name": "stdout",
     "output_type": "stream",
     "text": [
      "[[1 2 5]\n",
      " [3 4 6]]\n"
     ]
    }
   ],
   "source": [
    "x = np.array([[1, 2], [3, 4]])  # 形状 (2, 2)\n",
    "y = np.array([[5], [6]])        # 形状 (2, 1)\n",
    "\n",
    "result = np.hstack((x, y))      # 水平拼接\n",
    "print(result)\n"
   ]
  },
  {
   "cell_type": "markdown",
   "id": "b8e89a57-6710-410f-bf31-c3d22ac85cf0",
   "metadata": {},
   "source": [
    "反之，数组的分裂通过split来实现，当然也有他的h/v版本，这个函数的用法是给他一个记录分裂点位置的索引列表，也提供了axis，允许按维度方向切"
   ]
  },
  {
   "cell_type": "code",
   "execution_count": 26,
   "id": "773b6940-a923-48b0-9da9-ef85ac88a5a4",
   "metadata": {},
   "outputs": [
    {
     "name": "stdout",
     "output_type": "stream",
     "text": [
      "[array([[0, 1, 2, 3],\n",
      "       [4, 5, 6, 7]]), array([[ 8,  9, 10, 11],\n",
      "       [12, 13, 14, 15]])]\n",
      "\n",
      "[array([[0, 1, 2, 3]]), array([[4, 5, 6, 7]]), array([[ 8,  9, 10, 11]]), array([[12, 13, 14, 15]])]\n",
      "\n",
      "[array([[0, 1, 2, 3]]), array([[ 4,  5,  6,  7],\n",
      "       [ 8,  9, 10, 11]]), array([[12, 13, 14, 15]])]\n",
      "\n",
      "[array([[ 0,  1],\n",
      "       [ 4,  5],\n",
      "       [ 8,  9],\n",
      "       [12, 13]]), array([[ 2,  3],\n",
      "       [ 6,  7],\n",
      "       [10, 11],\n",
      "       [14, 15]])]\n",
      "\n"
     ]
    }
   ],
   "source": [
    "original_array = np.array([\n",
    "    [ 0,  1,  2,  3],\n",
    "    [ 4,  5,  6,  7],\n",
    "    [ 8,  9, 10, 11],\n",
    "    [12, 13, 14, 15]\n",
    "])\n",
    "split_result = np.split(original_array, 2, axis=0)\n",
    "print(split_result) \n",
    "print()\n",
    "split_result = np.split(original_array, 4, axis=0)  #当第二个参数为整数N时，会将数组沿指定轴均匀切分成N份\n",
    "print(split_result) \n",
    "print()\n",
    "split_result = np.split(original_array, [1, 3], axis=0)    #当第二个参数为列表时，按指定索引位置切分\n",
    "print(split_result) \n",
    "print()\n",
    "split_result = np.split(original_array, 2, axis=1)  # 按列分成2部分\n",
    "print(split_result) \n",
    "print()"
   ]
  },
  {
   "cell_type": "code",
   "execution_count": 27,
   "id": "c378c58d-3be5-4129-9187-2c5661fdc093",
   "metadata": {},
   "outputs": [
    {
     "name": "stdout",
     "output_type": "stream",
     "text": [
      "[array([[0, 1, 2, 3],\n",
      "       [4, 5, 6, 7]]), array([[ 8,  9, 10, 11],\n",
      "       [12, 13, 14, 15]])]\n",
      "\n",
      "[array([[ 0,  1],\n",
      "       [ 4,  5],\n",
      "       [ 8,  9],\n",
      "       [12, 13]]), array([[ 2,  3],\n",
      "       [ 6,  7],\n",
      "       [10, 11],\n",
      "       [14, 15]])]\n",
      "\n"
     ]
    }
   ],
   "source": [
    "\n",
    "original_array = np.array([\n",
    "    [ 0,  1,  2,  3],\n",
    "    [ 4,  5,  6,  7],\n",
    "    [ 8,  9, 10, 11],\n",
    "    [12, 13, 14, 15]\n",
    "])\n",
    "\n",
    "\n",
    "vsplit_result = np.vsplit(original_array, 2)\n",
    "print(vsplit_result) \n",
    "print()\n",
    "\n",
    "hsplit_result = np.hsplit(original_array, 2)\n",
    "print(hsplit_result) \n",
    "print()\n"
   ]
  },
  {
   "cell_type": "markdown",
   "id": "e26c90ac-c75a-402b-8901-dbab13654eb7",
   "metadata": {},
   "source": [
    "## 计算，numpy的通用函数"
   ]
  },
  {
   "cell_type": "markdown",
   "id": "66021b41-6c55-4ea9-8293-79c6946e63f8",
   "metadata": {},
   "source": [
    "python的默认计算实现是相对很慢的，我们将这种语法称为Cpython，因为python会把这些语句动态解释编译，这意味着其不能像是其他的代码那样直接变成高效的机器码，此外，我们在算法课程上也学过，循环是复杂度的来源，我们也知道，代码中能不要写循环就不要写循环，在python中这点特为尤甚，因为python会在每一次循环中都做数据类型的检查和函数的调用，这不慢就有了鬼了\n",
    "\n",
    "故此，在np中我们为很多操作提供了方便的静态的可编译的程序接口，让我们完成np库所维护的数据类型的计算时可以直接绕开python中复杂度高的部分，而且最重要的是，结合后面的向量化编程思想，我们可以把循环语句也绕过去，numpy会把你构建的向量计算直接推送到python之下的编译层，这就非常的快了\n",
    "\n",
    "上面我们说的玩意儿通过numpy的通用函数实现，其主要作用是对数组中的值进行更快的重复操作，他的使用是非常灵活的，下面我们就这一点依次举出例子"
   ]
  },
  {
   "cell_type": "markdown",
   "id": "beb0422a-64f8-4c51-a49b-d132383d9358",
   "metadata": {},
   "source": [
    "简单的，在面对两个或是多个np数据类型的加减乘除运算时，直接用python的运算符就可以了"
   ]
  },
  {
   "cell_type": "code",
   "execution_count": 30,
   "id": "3de2aae3-8821-4fe1-8d4a-b105a583506d",
   "metadata": {},
   "outputs": [
    {
     "name": "stdout",
     "output_type": "stream",
     "text": [
      "[0 1 2 3]\n",
      "[2 3 4 5]\n",
      "[-2 -1  0  1]\n",
      "[0 2 4 6]\n",
      "[0.  0.5 1.  1.5]\n",
      "[0 0 1 1]\n"
     ]
    }
   ],
   "source": [
    "x = np.arange(4)\n",
    "print(x)\n",
    "print(x+2)\n",
    "print(x-2)\n",
    "print(x*2)\n",
    "print(x/2)\n",
    "print(x//2)  #向下取整"
   ]
  },
  {
   "cell_type": "markdown",
   "id": "e1e1b585-68e4-4e19-bf3d-bdfe259916ed",
   "metadata": {},
   "source": [
    "以及指数运算**和取模%"
   ]
  },
  {
   "cell_type": "code",
   "execution_count": 32,
   "id": "5b311352-acdc-4c7b-9c32-d7f31a28305b",
   "metadata": {},
   "outputs": [
    {
     "name": "stdout",
     "output_type": "stream",
     "text": [
      "[0 1 2 3]\n",
      "[0 1 4 9]\n",
      "[0 1 0 1]\n"
     ]
    }
   ],
   "source": [
    "x = np.arange(4)\n",
    "print(x)\n",
    "print(x**2)\n",
    "print(x%2)\n"
   ]
  },
  {
   "cell_type": "markdown",
   "id": "71134b7c-b436-4987-98ae-9ae244bd9758",
   "metadata": {},
   "source": [
    "换言之，numpy会认为+ - * / 都各自封装了nunpy自己的方法，譬如+ 就等价于 add（），在后面章节我们还会介绍numpy的布尔/位运算"
   ]
  },
  {
   "cell_type": "markdown",
   "id": "2f610c1f-189e-49f4-91c2-3ddd8af7a8ef",
   "metadata": {},
   "source": [
    "此外，绝对值函数你还可以用abs访问，此时的abs也是np的abs，而非python自己的，这里有一个喜报是，当你试图求一个复数的abs，np会给你返回它的模长，欧拉公式最开心的一集"
   ]
  },
  {
   "cell_type": "code",
   "execution_count": 35,
   "id": "bb5b251c-121f-4b5b-b986-a91b42570008",
   "metadata": {},
   "outputs": [
    {
     "name": "stdout",
     "output_type": "stream",
     "text": [
      "[1 1 2 2]\n",
      "[1.41421356 2.82842712]\n"
     ]
    }
   ],
   "source": [
    "x = np.array([-1,1,-2,2])\n",
    "print(abs(x))\n",
    "y = np.array([-1+1j,-2-2j])    #虚数单位是j\n",
    "print(abs(y))  #根号2和二倍根号2"
   ]
  },
  {
   "cell_type": "markdown",
   "id": "3678a5c7-7d07-4c2c-b12b-64be76553528",
   "metadata": {},
   "source": [
    "numpy还提供了开箱即用的三角函数，显然，角取弧度制，np.degrees()可将结果转为角度制"
   ]
  },
  {
   "cell_type": "code",
   "execution_count": 40,
   "id": "7b58f388-d029-4446-9d62-6e3770eb73ce",
   "metadata": {},
   "outputs": [
    {
     "name": "stdout",
     "output_type": "stream",
     "text": [
      "[ 0.0000000e+00  1.0000000e+00  1.2246468e-16 -1.0000000e+00\n",
      " -2.4492936e-16]\n",
      "[ 1.0000000e+00  6.1232340e-17 -1.0000000e+00 -1.8369702e-16\n",
      "  1.0000000e+00]\n",
      "[ 0.00000000e+00  1.63312394e+16 -1.22464680e-16  5.44374645e+15\n",
      " -2.44929360e-16]\n"
     ]
    }
   ],
   "source": [
    "theta = np.linspace(0,2*np.pi,5)   #得到在0~2pi内均匀分布的5个数\n",
    "print(np.sin(theta))\n",
    "print(np.cos(theta))\n",
    "print(np.tan(theta))"
   ]
  },
  {
   "cell_type": "markdown",
   "id": "ce13eebf-b634-47e4-b6e7-0b4e9b749c63",
   "metadata": {},
   "source": [
    "这些值都是在机器精度内计算的，显然会有精确度问题，但是无伤大雅，此外，这里的反三角函数和math不一样，直接就说arctan，而非atan，譬如np.arcsin(x)：计算数组x的反正弦值（弧度制），输入范围需在[-1,1]内，当然，反三角函数最常用的还是arctan，它也提供了输入对边和临边计算顶角的arctan2"
   ]
  },
  {
   "cell_type": "code",
   "execution_count": 43,
   "id": "5ac54857-4580-45d3-a3ea-4ebd72469e8e",
   "metadata": {},
   "outputs": [
    {
     "name": "stdout",
     "output_type": "stream",
     "text": [
      "[3.14159265 1.57079633 0.        ]\n",
      "[-0.78539816  0.          0.78539816]\n",
      "[-1.57079633  0.          1.57079633]\n"
     ]
    }
   ],
   "source": [
    "x = [-1,0,1]\n",
    "print(np.arccos(x))\n",
    "print(np.arctan(x))\n",
    "print(np.arcsin(x))"
   ]
  },
  {
   "cell_type": "code",
   "execution_count": 47,
   "id": "e57eb096-4f90-453b-a8a3-97b050f4fb96",
   "metadata": {},
   "outputs": [
    {
     "name": "stdout",
     "output_type": "stream",
     "text": [
      "0.5404195002705842\n"
     ]
    }
   ],
   "source": [
    "x = 3\n",
    "y = 5\n",
    "print(np.arctan2(x,y))"
   ]
  },
  {
   "cell_type": "markdown",
   "id": "e8f06881-094c-451e-9d37-15b495a181ae",
   "metadata": {},
   "source": [
    "另一个常用的是指数和对数，以a为底的指数函数a powx是np的power方法，特别的，以e为底的是exp，以2为底的是exp2，对数的也提供了简便的以e，2，10为底的对数，基于对数的换底公式，我们实际上可以得到任何我们想要的底，这里的命名方式和国内教材不同，log e x将简写成log 而非ln，而且也没有lg，只有log10"
   ]
  },
  {
   "cell_type": "code",
   "execution_count": 48,
   "id": "c1799c62-6c77-4e93-b8b2-072733667cad",
   "metadata": {},
   "outputs": [
    {
     "name": "stdout",
     "output_type": "stream",
     "text": [
      "[ 2.71828183  7.3890561  20.08553692]\n",
      "[2. 4. 8.]\n",
      "[2 4 8]\n"
     ]
    }
   ],
   "source": [
    "x = [1,2,3]\n",
    "print(np.exp(x))\n",
    "print(np.exp2(x))\n",
    "print(np.power(2,x))"
   ]
  },
  {
   "cell_type": "code",
   "execution_count": 50,
   "id": "256c86c8-e45e-4702-ab32-fe04437b8ec0",
   "metadata": {},
   "outputs": [
    {
     "name": "stdout",
     "output_type": "stream",
     "text": [
      "[0.         0.69314718 1.09861229]\n",
      "[0.        1.        1.5849625]\n",
      "[0.         0.30103    0.47712125]\n"
     ]
    }
   ],
   "source": [
    "x = [1,2,3]\n",
    "print(np.log(x))\n",
    "print(np.log2(x))\n",
    "print(np.log10(x))"
   ]
  },
  {
   "cell_type": "markdown",
   "id": "819e73e3-b513-4c0b-997f-8878bb634cbf",
   "metadata": {},
   "source": [
    "补充一嘴，numpy的scipy.special函数提供了很多很奇怪的函数，譬如gamma函数，高斯积分，对的，这些东西被集成到了np中，你百度的时候别忘记它自己已经带了"
   ]
  },
  {
   "cell_type": "markdown",
   "id": "29455cdb-a10e-4c62-95cf-9cc221e516b3",
   "metadata": {},
   "source": [
    "此外的，所有的通用函数都提供了如下几个功能，譬如指定一个输出位置，可以赋值它的out变量，函数的reduce方法可以持续对一个数组进行该函数操作直到得到一个结果"
   ]
  },
  {
   "cell_type": "code",
   "execution_count": 51,
   "id": "ba95ea3f-30de-422a-bc6e-c869b6b35aad",
   "metadata": {},
   "outputs": [
    {
     "name": "stdout",
     "output_type": "stream",
     "text": [
      "[0 1 2 3 4]\n",
      "[ 0.00000000e+00  1.63312394e+16 -1.22464680e-16  5.44374645e+15\n",
      " -2.44929360e-16]\n",
      "[0 1 2 3 4]\n",
      "[ 0. 10. 20. 30. 40.]\n"
     ]
    }
   ],
   "source": [
    "x = np.arange(5)\n",
    "y = np.empty(5)\n",
    "print(x)\n",
    "print(y)\n",
    "np.multiply(x,10,out=y)\n",
    "print(x)\n",
    "print(y)"
   ]
  },
  {
   "cell_type": "code",
   "execution_count": 54,
   "id": "56955977-d34a-4213-9c65-dc25498277ec",
   "metadata": {},
   "outputs": [
    {
     "name": "stdout",
     "output_type": "stream",
     "text": [
      "[0 1 2 3 4]\n",
      "[ 1.  0.  2.  0.  4.  0.  8.  0. 16.  0.]\n"
     ]
    }
   ],
   "source": [
    "#小技巧是数组视图\n",
    "x = np.arange(5)\n",
    "y = np.zeros(10)\n",
    "np.power(2,x,out=y[::2])\n",
    "print(x)\n",
    "print(y)"
   ]
  },
  {
   "cell_type": "code",
   "execution_count": 58,
   "id": "7ca05218-96e9-46dc-8449-759e9346b690",
   "metadata": {},
   "outputs": [
    {
     "name": "stdout",
     "output_type": "stream",
     "text": [
      "[1 2 3 4]\n",
      "24\n"
     ]
    }
   ],
   "source": [
    "x = np.arange(1,5)\n",
    "print(x)\n",
    "x = np.multiply.reduce(x)    #1到4的累乘\n",
    "print(x)"
   ]
  },
  {
   "cell_type": "code",
   "execution_count": 59,
   "id": "b1f33012-d400-4395-9b8c-bfc64ccc9a44",
   "metadata": {},
   "outputs": [
    {
     "name": "stdout",
     "output_type": "stream",
     "text": [
      "[1 2 3 4]\n",
      "[ 1  2  6 24]\n"
     ]
    }
   ],
   "source": [
    "x = np.arange(1,5)\n",
    "print(x)\n",
    "x = np.multiply.accumulate(x)    #1到4的累乘,并每次记录结果\n",
    "print(x)"
   ]
  },
  {
   "cell_type": "markdown",
   "id": "fc09d582-8fd4-41b1-a87d-3fa58249797a",
   "metadata": {},
   "source": [
    "笛卡尔积"
   ]
  },
  {
   "cell_type": "code",
   "execution_count": 60,
   "id": "db390e3c-0ed9-4f4e-b58a-c3160eab48d2",
   "metadata": {},
   "outputs": [
    {
     "name": "stdout",
     "output_type": "stream",
     "text": [
      "[1 2 3 4]\n",
      "[[ 1  2  3  4]\n",
      " [ 2  4  6  8]\n",
      " [ 3  6  9 12]\n",
      " [ 4  8 12 16]]\n"
     ]
    }
   ],
   "source": [
    "x = np.arange(1,5)\n",
    "print(x)\n",
    "x = np.multiply.outer(x,x)    #1到4的累乘,并每次记录结果\n",
    "print(x)"
   ]
  },
  {
   "cell_type": "markdown",
   "id": "c3f85d6e-5375-4763-8200-61e2d4b2fb93",
   "metadata": {},
   "source": [
    "你可能会好奇，哎，我没有sum吗？其实你有的，你不但有sum还有prod，max，min之类的，这一类算作聚合函数"
   ]
  },
  {
   "cell_type": "code",
   "execution_count": 62,
   "id": "969cbfc2-11aa-470b-8810-ac3c59f6d16f",
   "metadata": {},
   "outputs": [
    {
     "name": "stdout",
     "output_type": "stream",
     "text": [
      "[1 2 3 4]\n",
      "10\n",
      "24\n",
      "4\n",
      "1\n"
     ]
    }
   ],
   "source": [
    "x = np.arange(1,5)\n",
    "print(x)\n",
    "print(np.sum(x))\n",
    "print(np.prod(x))\n",
    "print(np.max(x))\n",
    "print(np.min(x))"
   ]
  },
  {
   "cell_type": "code",
   "execution_count": null,
   "id": "488a8d18-cd6c-4e2e-b83b-a65a82ecb482",
   "metadata": {},
   "outputs": [],
   "source": []
  }
 ],
 "metadata": {
  "kernelspec": {
   "display_name": "Genv",
   "language": "python",
   "name": "my_env"
  },
  "language_info": {
   "codemirror_mode": {
    "name": "ipython",
    "version": 3
   },
   "file_extension": ".py",
   "mimetype": "text/x-python",
   "name": "python",
   "nbconvert_exporter": "python",
   "pygments_lexer": "ipython3",
   "version": "3.11.11"
  }
 },
 "nbformat": 4,
 "nbformat_minor": 5
}
