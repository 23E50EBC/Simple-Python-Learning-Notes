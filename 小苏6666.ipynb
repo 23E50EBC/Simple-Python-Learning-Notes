{
 "cells": [
  {
   "cell_type": "markdown",
   "id": "407bdf62-8ac7-4899-bf8c-4e8f2569e7e9",
   "metadata": {},
   "source": [
    "# 文件\n",
    "\n",
    "首先你需要导入pathlib中的path，然后我们创建一个路径对象，对其赋初值为你某路径下的一个文件名,或者是某个文件的绝对路径，然后就能把文件读进来\n",
    "之后你对文件的操作，就是对path对象访问其方法来实现的,譬如这个例子就是创建了一个路径对象，他的构造器是已有文件的路径，然后我们下面使用了他对象读的方法，就把文件读了进来，注意到，这个例子我们用的是绝对路径，当然也可以用相对路径，也就是相对于你当前文件夹及子文件夹的路径，譬如第二个例子就是同一文件夹内的"
   ]
  },
  {
   "cell_type": "code",
   "execution_count": 3,
   "id": "8876f341-8c39-439f-9732-7e98362d338d",
   "metadata": {},
   "outputs": [
    {
     "name": "stdout",
     "output_type": "stream",
     "text": [
      "hello would\n",
      "\n"
     ]
    }
   ],
   "source": [
    "from pathlib import Path #对了，notebook的规则是你只需要在最上面的地方导入一个包，此后的块都会默认导入了这个包，不需要重新导入\n",
    "\n",
    "path = Path(\"G:\\oleEdisk\\pythonSU\\\\test1.txt\")\n",
    "cont  = path.read_text()\n",
    "print(cont)"
   ]
  },
  {
   "cell_type": "code",
   "execution_count": 4,
   "id": "dc3fb588-de94-4c37-9bbf-53a8b06055ef",
   "metadata": {},
   "outputs": [
    {
     "name": "stdout",
     "output_type": "stream",
     "text": [
      "hello would\n",
      "\n"
     ]
    }
   ],
   "source": [
    "from pathlib import Path\n",
    "\n",
    "path = Path(\"test1.txt\")\n",
    "cont  = path.read_text()\n",
    "print(cont)"
   ]
  },
  {
   "cell_type": "markdown",
   "id": "e8a67c16-dbb7-45f3-8d16-259163b27109",
   "metadata": {},
   "source": [
    "这里的文本文件只有一行，但是他读进来之后会多读一个终止符并将之视为换行，你可以用rstrip（），但这个方法是read_test下的一个方法\n",
    "\n",
    "另外，read_text这个方法的参数可以是编码方式，如，encoding = 'UTF-8'"
   ]
  },
  {
   "cell_type": "markdown",
   "id": "84b74835-5416-497d-be2c-35dfbc034943",
   "metadata": {},
   "source": [
    "同样的我也可以一行一行把文件读进来，然后我们就可以对文件一行一行进行处理，注意，这个操作要在我们把路径对象读进来之后，因为下面的这个方法是你读完了之后的得到的对象的方法"
   ]
  },
  {
   "cell_type": "code",
   "execution_count": 6,
   "id": "ec5b8608-adfb-4ade-a7b7-2d5c6b08c8b8",
   "metadata": {},
   "outputs": [
    {
     "name": "stdout",
     "output_type": "stream",
     "text": [
      "['hello would', 'hello wouldhello would', 'hello wouldhello wouldhello would']\n"
     ]
    }
   ],
   "source": [
    "from pathlib import Path\n",
    "\n",
    "path = Path(\"test2.txt\")\n",
    "cont  = path.read_text()\n",
    "lines = cont.splitlines()\n",
    "print(lines)"
   ]
  },
  {
   "cell_type": "markdown",
   "id": "f475c7ad-7ecd-4514-9d33-e8a42df54469",
   "metadata": {},
   "source": [
    "当你拿完了数据之后，我们就可以用之前介绍过的方法处理这些数据了，譬如下面的例子介绍了这个文件有多大,以及每一行有什么"
   ]
  },
  {
   "cell_type": "code",
   "execution_count": 9,
   "id": "a79b4e65-42d8-4b1d-a2c3-066c74a5948b",
   "metadata": {},
   "outputs": [
    {
     "name": "stdout",
     "output_type": "stream",
     "text": [
      "this is the 0-st lines , inside with :hello would\n",
      "this is the 1-st lines , inside with :hello wouldhello would\n",
      "this is the 2-st lines , inside with :hello wouldhello wouldhello would\n",
      "69\n"
     ]
    }
   ],
   "source": [
    "from pathlib import Path\n",
    "\n",
    "path = Path(\"test2.txt\")\n",
    "cont  = path.read_text()\n",
    "lines = cont.splitlines()\n",
    "for word in range(len(lines)) :\n",
    "    print(f\"this is the {word}-st lines , inside with :{lines[word]}\")\n",
    "print(len(cont))"
   ]
  },
  {
   "cell_type": "markdown",
   "id": "0280a849-55a2-4d09-aa18-71b9182e57bc",
   "metadata": {},
   "source": [
    "介绍完了读，其实还有写"
   ]
  },
  {
   "cell_type": "code",
   "execution_count": 10,
   "id": "47f2269a-93c8-4a25-8da4-730e051b31da",
   "metadata": {},
   "outputs": [
    {
     "data": {
      "text/plain": [
       "5"
      ]
     },
     "execution_count": 10,
     "metadata": {},
     "output_type": "execute_result"
    }
   ],
   "source": [
    "from pathlib import Path\n",
    "\n",
    "path = Path(\"test3.txt\")\n",
    "path.write_text(\"hello\")"
   ]
  },
  {
   "cell_type": "code",
   "execution_count": null,
   "id": "949c21c4-854e-4863-b746-6c1e9b3cc213",
   "metadata": {},
   "outputs": [],
   "source": [
    "这个方法是用来写入你给他的字符串的，同样的python会看看你指定的路径下有没有这个文件，没有他会给你自己创建一个\n",
    "如果有了，他会把这个文件清空，然后写入你传给他的内容，这个内容是一个字符串，也允许有多行"
   ]
  },
  {
   "cell_type": "code",
   "execution_count": null,
   "id": "e13151f6-eb56-4694-8b20-70bfc8bf5522",
   "metadata": {},
   "outputs": [],
   "source": []
  },
  {
   "cell_type": "markdown",
   "id": "ecd97346-86d9-4664-ab76-1aa3f1b48550",
   "metadata": {},
   "source": [
    "# 第二个部分是异常\n",
    "\n",
    "这个玩意是为了在你程序意外终止时，你的程序不会把cpu控制权交还给操作系统，他也提供了一个补救方案，在你原来的程序遇到问题后，试图修补他，一个最常见的例子是，你的程序除以0"
   ]
  },
  {
   "cell_type": "code",
   "execution_count": 11,
   "id": "17c36e61-f622-4857-b13a-84249138dfb3",
   "metadata": {},
   "outputs": [
    {
     "ename": "ZeroDivisionError",
     "evalue": "division by zero",
     "output_type": "error",
     "traceback": [
      "\u001b[1;31m---------------------------------------------------------------------------\u001b[0m",
      "\u001b[1;31mZeroDivisionError\u001b[0m                         Traceback (most recent call last)",
      "Cell \u001b[1;32mIn[11], line 1\u001b[0m\n\u001b[1;32m----> 1\u001b[0m \u001b[38;5;28mprint\u001b[39m(\u001b[38;5;241m5\u001b[39m\u001b[38;5;241m/\u001b[39m\u001b[38;5;241m0\u001b[39m)\n",
      "\u001b[1;31mZeroDivisionError\u001b[0m: division by zero"
     ]
    }
   ],
   "source": [
    "print(5/0)"
   ]
  },
  {
   "cell_type": "markdown",
   "id": "008b501e-b7a1-40b2-8855-5c183a56b389",
   "metadata": {},
   "source": [
    "这个报错就显示了在你的第一行代码里，出现了异常“ZeroDivisionError”，然后还指出了错误信息“division by zero”，这代表你除0了"
   ]
  },
  {
   "cell_type": "markdown",
   "id": "aab3b41e-542b-4c93-a9a3-d27ee86f2a7b",
   "metadata": {},
   "source": [
    "然后我们这个代码就用try来尝试这个错误，和except来抓这个异常，并在引出的代码块中写补救方案，在完成except的代码块后，会执行其下的一行，整个过程防止了程序的崩溃"
   ]
  },
  {
   "cell_type": "code",
   "execution_count": 12,
   "id": "b35ca749-214f-4f3a-bb11-3f1b09929077",
   "metadata": {},
   "outputs": [
    {
     "name": "stdout",
     "output_type": "stream",
     "text": [
      "除0错误\n",
      "continue\n"
     ]
    }
   ],
   "source": [
    "try :\n",
    "    print(5/0)\n",
    "\n",
    "except ZeroDivisionError :\n",
    "    print(\"除0错误\")\n",
    "\n",
    "print(\"continue\")"
   ]
  },
  {
   "cell_type": "markdown",
   "id": "ffffc061-80be-4e8b-bd61-f030fc3de4e5",
   "metadata": {},
   "source": [
    "另一种方式是加上一个else，他被跟在except代码块下面的一个部分，他的作用是在你没有触发异常时被触发的一个代码块,下面两个例子就展示他的作用"
   ]
  },
  {
   "cell_type": "code",
   "execution_count": 13,
   "id": "5432f1dc-d3a1-4c7d-bb44-db9c35eae0e7",
   "metadata": {},
   "outputs": [
    {
     "name": "stdout",
     "output_type": "stream",
     "text": [
      "除0错误\n",
      "continue\n"
     ]
    }
   ],
   "source": [
    "try :\n",
    "    print(5/0)\n",
    "\n",
    "except ZeroDivisionError :\n",
    "    print(\"除0错误\")\n",
    "\n",
    "else :\n",
    "    print(\"没有错误\")\n",
    "\n",
    "print(\"continue\")"
   ]
  },
  {
   "cell_type": "code",
   "execution_count": 14,
   "id": "6d0325b5-4503-4360-9135-224bf451b33a",
   "metadata": {},
   "outputs": [
    {
     "name": "stdout",
     "output_type": "stream",
     "text": [
      "1.0\n",
      "没有错误\n",
      "continue\n"
     ]
    }
   ],
   "source": [
    "try :\n",
    "    print(5/5)\n",
    "\n",
    "except ZeroDivisionError :\n",
    "    print(\"除0错误\")\n",
    "\n",
    "else :\n",
    "    print(\"没有错误\") #这里的”没有错误“不能放到coutine一个级别，不然即使有异常这条也会被执行\n",
    "\n",
    "print(\"continue\")"
   ]
  },
  {
   "cell_type": "markdown",
   "id": "ed1e632b-4a75-4661-9f44-2295d0237724",
   "metadata": {},
   "source": [
    "当然了，我们不只有这一种异常，类似的异常还有很多，譬如filenotfounderror，文件未找到"
   ]
  },
  {
   "cell_type": "code",
   "execution_count": 15,
   "id": "c00169d7-a203-4c0c-89a0-edd1cd96e3cf",
   "metadata": {},
   "outputs": [
    {
     "name": "stdout",
     "output_type": "stream",
     "text": [
      "dont exist\n"
     ]
    }
   ],
   "source": [
    "from pathlib import Path\n",
    "\n",
    "try:\n",
    "    path = Path(\"test999.txt\")\n",
    "    cont  = path.read_text()\n",
    "    print(cont)\n",
    "\n",
    "except FileNotFoundError :\n",
    "    print(\"dont exist\")"
   ]
  },
  {
   "cell_type": "markdown",
   "id": "33883ae2-8952-4734-8681-b47644c114e1",
   "metadata": {},
   "source": [
    "结合一下上面的内容就是下面这个例子"
   ]
  },
  {
   "cell_type": "code",
   "execution_count": 17,
   "id": "d15cfa9d-b2e1-440f-9726-c1c7f5a87d00",
   "metadata": {},
   "outputs": [
    {
     "name": "stdout",
     "output_type": "stream",
     "text": [
      "Ishmael is the only survivor of the final confrontation with Moby Dick.\n",
      "Melville incorporated in \" Moby Dick \" an exhaustive encyclopaedia of whaling lore\n",
      "the file has about 25 words\n"
     ]
    }
   ],
   "source": [
    "from pathlib import Path\n",
    "\n",
    "try:\n",
    "    path = Path(\"test4.txt\")\n",
    "    cont  = path.read_text()\n",
    "    print(cont)\n",
    "\n",
    "except FileNotFoundError :\n",
    "    print(\"dont exist\")\n",
    "\n",
    "else:\n",
    "    word = cont.split()\n",
    "    num_words = len(word)\n",
    "    print(f\"the file has about {num_words} words\")"
   ]
  },
  {
   "cell_type": "markdown",
   "id": "ac93f162-74af-4c27-95d0-579378daadd0",
   "metadata": {},
   "source": [
    "对了，如果你希望except了但是什么也不发生，那么你可以pass省略掉这个代码块，我们管这个叫静默失败"
   ]
  },
  {
   "cell_type": "markdown",
   "id": "b02932fa-a445-4c03-8149-f6af75b8116c",
   "metadata": {},
   "source": [
    "# 数据存储\n",
    "\n",
    "不知道你有没有注意到json是一个python经常使用的存储格式，虽然他一开始是为了JavaScript开发的，下面这个例子展示了我们试图将一个文件的数据结构存下来"
   ]
  },
  {
   "cell_type": "code",
   "execution_count": 20,
   "id": "52da3668-07ce-4715-955a-e228c9a64be5",
   "metadata": {},
   "outputs": [
    {
     "data": {
      "text/plain": [
       "15"
      ]
     },
     "execution_count": 20,
     "metadata": {},
     "output_type": "execute_result"
    }
   ],
   "source": [
    "from pathlib import Path\n",
    "import json\n",
    "\n",
    "nums = [1,2,3,4,5]\n",
    "\n",
    "path = Path('numbers.json')\n",
    "cont = json.dumps(nums)\n",
    "path.write_text(cont)"
   ]
  },
  {
   "cell_type": "markdown",
   "id": "31ea0af8-fcbe-4dcf-aed2-1cafec4081e5",
   "metadata": {},
   "source": [
    "这里我们先给出了一个文件期望的位置，同样的如果存在就不管，不存在就创建一个，注意这里显式的指出了文件的后缀是json，紧接着我们用json。dump生成了一个字符串，这个字符串是基于我们希望写进去的那个nums来给出的，这之后我们再用这个路径对象的write方法把我们得到的json字符串写进去"
   ]
  },
  {
   "cell_type": "code",
   "execution_count": 23,
   "id": "4cd50d63-8da6-4a42-8085-aac37d07397e",
   "metadata": {},
   "outputs": [
    {
     "name": "stdout",
     "output_type": "stream",
     "text": [
      "[1, 2, 3, 4, 5]and type is <class 'list'>\n",
      "[1, 2, 3, 4, 5]and type is <class 'str'>\n"
     ]
    }
   ],
   "source": [
    "from pathlib import Path\n",
    "import json\n",
    "\n",
    "Rpath = Path('numbers.json')\n",
    "Rconts = Rpath.read_text()\n",
    "Rnums = json.loads(Rconts)\n",
    "print(f\"{Rnums}and type is {type(Rnums)}\")\n",
    "print(f\"{Rconts}and type is {type(Rconts)}\")\n"
   ]
  },
  {
   "cell_type": "markdown",
   "id": "dd689e87-e831-4282-8378-dccffa8c65df",
   "metadata": {},
   "source": [
    "然后我们使用loads方法读这个json，注意到，这个读的方法会把你的格式也一同读进来，所以他将会返回一个列表，和我们上一个块里试图写进去的那个一样,如果我们直接读并且直接打印而不用json解读，那么会是一个字符串"
   ]
  },
  {
   "cell_type": "markdown",
   "id": "e10b117c-d213-4b42-ae24-94bd1d73b745",
   "metadata": {},
   "source": [
    "对了，在文件的那个包里不止try-except可以杜绝中断，他自己还提供了一个方法“path。exists（）”，他返回一个布尔值代表这个路径上的文件存不存在，也就是说这个代码，还可以这么写"
   ]
  },
  {
   "cell_type": "code",
   "execution_count": 24,
   "id": "1c1c4813-1c08-4f4f-965a-045b1566e46b",
   "metadata": {},
   "outputs": [
    {
     "name": "stdout",
     "output_type": "stream",
     "text": [
      "dont exist\n"
     ]
    }
   ],
   "source": [
    "from pathlib import Path\n",
    "\n",
    "# try:\n",
    "#     path = Path(\"test999.txt\")\n",
    "#     cont  = path.read_text()\n",
    "#     print(cont)\n",
    "\n",
    "# except FileNotFoundError :\n",
    "#     print(\"dont exist\")\n",
    "path = Path(\"test999.txt\")\n",
    "if path.exists():\n",
    "    cont  = path.read_text()\n",
    "    print(cont)\n",
    "\n",
    "else:\n",
    "    print(\"dont exist\")"
   ]
  },
  {
   "cell_type": "code",
   "execution_count": null,
   "id": "ad1d1565-1274-4e53-aa36-1c000ad6068f",
   "metadata": {},
   "outputs": [],
   "source": []
  },
  {
   "cell_type": "code",
   "execution_count": null,
   "id": "5fff2037-ae3f-45b7-b127-e25727733232",
   "metadata": {},
   "outputs": [],
   "source": []
  },
  {
   "cell_type": "code",
   "execution_count": null,
   "id": "66edb02f-4e13-4e64-a6c2-2f74cb44eeb8",
   "metadata": {},
   "outputs": [],
   "source": []
  },
  {
   "cell_type": "code",
   "execution_count": null,
   "id": "9d6269bc-c01c-4c09-89cc-c6796981a87d",
   "metadata": {},
   "outputs": [],
   "source": []
  },
  {
   "cell_type": "code",
   "execution_count": null,
   "id": "e5dcc32d-5984-4f36-8962-1363ae60a357",
   "metadata": {},
   "outputs": [],
   "source": []
  },
  {
   "cell_type": "code",
   "execution_count": null,
   "id": "afc42665-9247-4c21-9230-d7cf17f5273e",
   "metadata": {},
   "outputs": [],
   "source": []
  },
  {
   "cell_type": "code",
   "execution_count": null,
   "id": "1ada991a-c857-42b2-9d0c-7d3329b5c3a7",
   "metadata": {},
   "outputs": [],
   "source": []
  },
  {
   "cell_type": "code",
   "execution_count": null,
   "id": "0568b196-2893-409b-9816-cbc7afcaf8ed",
   "metadata": {},
   "outputs": [],
   "source": []
  },
  {
   "cell_type": "code",
   "execution_count": null,
   "id": "1e0f0b13-754a-408f-a344-22e75838758d",
   "metadata": {},
   "outputs": [],
   "source": []
  },
  {
   "cell_type": "code",
   "execution_count": null,
   "id": "4081b664-a22d-4018-a67e-10d9b9ffddd1",
   "metadata": {},
   "outputs": [],
   "source": []
  },
  {
   "cell_type": "code",
   "execution_count": null,
   "id": "0f427ba9-4794-4ce6-96a8-b102e70a9789",
   "metadata": {},
   "outputs": [],
   "source": []
  },
  {
   "cell_type": "code",
   "execution_count": null,
   "id": "8034bee1-75e8-4662-a0a4-6ea9e15279aa",
   "metadata": {},
   "outputs": [],
   "source": []
  },
  {
   "cell_type": "code",
   "execution_count": null,
   "id": "b0246331-2ad2-41b9-8ade-c72065321945",
   "metadata": {},
   "outputs": [],
   "source": []
  },
  {
   "cell_type": "code",
   "execution_count": null,
   "id": "c9149193-bedf-4d8a-aaec-f421e6efdc5b",
   "metadata": {},
   "outputs": [],
   "source": []
  },
  {
   "cell_type": "code",
   "execution_count": null,
   "id": "3414b3e0-c236-47c6-83e1-cd7a67c13c18",
   "metadata": {},
   "outputs": [],
   "source": []
  },
  {
   "cell_type": "code",
   "execution_count": null,
   "id": "4cb951b8-a9ad-4cdf-81eb-16bff9b7c9eb",
   "metadata": {},
   "outputs": [],
   "source": []
  },
  {
   "cell_type": "code",
   "execution_count": null,
   "id": "8b9e0096-4ac1-4502-9edc-4f96b8f9febf",
   "metadata": {},
   "outputs": [],
   "source": []
  },
  {
   "cell_type": "code",
   "execution_count": null,
   "id": "c6dd5c4f-dfc0-40c6-8c9f-dbbed5460794",
   "metadata": {},
   "outputs": [],
   "source": []
  },
  {
   "cell_type": "code",
   "execution_count": null,
   "id": "dcc27754-3444-4276-a2bd-33e80173748a",
   "metadata": {},
   "outputs": [],
   "source": []
  },
  {
   "cell_type": "code",
   "execution_count": null,
   "id": "395d0bac-9f40-4f5a-ab1f-63f255d2a11e",
   "metadata": {},
   "outputs": [],
   "source": []
  }
 ],
 "metadata": {
  "kernelspec": {
   "display_name": "Genv",
   "language": "python",
   "name": "my_env"
  },
  "language_info": {
   "codemirror_mode": {
    "name": "ipython",
    "version": 3
   },
   "file_extension": ".py",
   "mimetype": "text/x-python",
   "name": "python",
   "nbconvert_exporter": "python",
   "pygments_lexer": "ipython3",
   "version": "3.11.11"
  }
 },
 "nbformat": 4,
 "nbformat_minor": 5
}
