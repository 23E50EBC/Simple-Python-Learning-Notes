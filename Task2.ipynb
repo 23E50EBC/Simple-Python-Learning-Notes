{
 "cells": [
  {
   "cell_type": "markdown",
   "id": "fcc8aaa4-17c2-4b48-a336-01c11e8f11f0",
   "metadata": {},
   "source": [
    "# 1、按照字符串中含有不同字母的数量，对一组字符串进行排序"
   ]
  },
  {
   "cell_type": "markdown",
   "id": "01dc8411-da33-4044-9306-f45211ddce64",
   "metadata": {},
   "source": [
    "拿一个字符串出来，转换成集合，集合长度就是相异字符的数量，然后变成一个字典，再根据值来对字典排序，这里sorted我是ai的我也不会这个，lambda表达式我只是了解了一点"
   ]
  },
  {
   "cell_type": "code",
   "execution_count": 1,
   "id": "b8050390-faca-46be-a9c0-9e8a5fc08a9a",
   "metadata": {},
   "outputs": [
    {
     "name": "stdout",
     "output_type": "stream",
     "text": [
      "{'apple': 4, 'bat': 3, 'bar': 3, 'atom': 4, 'book': 3}\n"
     ]
    }
   ],
   "source": [
    "straaa = [\"apple\", \"bat\", \"bar\", \"atom\", \"book\"]\n",
    "\n",
    "strsss = {}\n",
    "\n",
    "for striii in straaa :\n",
    "    striii_s = set(striii)\n",
    "    striii_s_len = len(striii_s)\n",
    "    strsss[striii] = striii_s_len\n",
    "\n",
    "print(strsss)\n",
    "print(len(strsss))\n",
    "\n",
    "sorted_str = sorted(strsss.keys(), key=lambda x: strsss[x])\n",
    "print(sorted_str)"
   ]
  },
  {
   "cell_type": "markdown",
   "id": "581f0145-c6cb-4f5b-91d0-10f84b962635",
   "metadata": {},
   "source": [
    "# 2、按照字典中元素的value值对字典元素进行升序排序\n",
    "## 输入：{'banana': 3, 'apple': 4, 'pear': 1, 'orange': 2}\n",
    "## 输出：{'pear': 1, 'orange': 2, 'banana': 3, 'apple': 4}"
   ]
  },
  {
   "cell_type": "markdown",
   "id": "539a5493-5358-439d-a666-74a9b37af228",
   "metadata": {},
   "source": [
    "上一个块里的ai代码好像把这个问题也给解决了，然后我简单尝试了一下我的代码，但是不能成功"
   ]
  },
  {
   "cell_type": "code",
   "execution_count": 5,
   "id": "979dc67a-71c9-4160-bc2e-3496317f767d",
   "metadata": {},
   "outputs": [
    {
     "name": "stdout",
     "output_type": "stream",
     "text": [
      "['pear', 'orange', 'banana', 'apple']\n"
     ]
    }
   ],
   "source": [
    "strsss = {'banana': 3, 'apple': 4, 'pear': 1, 'orange': 2}\n",
    "strsss = sorted(strsss.keys(), key=lambda x: strsss[x])\n",
    "print(strsss)"
   ]
  },
  {
   "cell_type": "markdown",
   "id": "a76371b0-4f3d-41ed-a9c4-8331f3808263",
   "metadata": {},
   "source": [
    "你会发现这确实是一个耐人寻味的问题，然后我又去问了一下ai，好像问题出在了键值对的获取上，ai把我用键key的那个方式改成了用item的，直接获取一个键值对元组的方式，然后用dict，把重新排序到的元组重构成了一个字典，总结是我的想法并非完全不能实现，还是有可取之处的"
   ]
  },
  {
   "cell_type": "code",
   "execution_count": null,
   "id": "ffa93afd-84ca-4cec-9ba7-bf3af919c243",
   "metadata": {},
   "outputs": [],
   "source": [
    "strsss = {'banana': 3, 'apple': 4, 'pear': 1, 'orange': 2}\n",
    "# 使用items()获取键值对，按值排序，再转换为字典\n",
    "sorted_strsss = dict(sorted(strsss.items(), key=lambda item: item))\n",
    "print(sorted_strsss)\n"
   ]
  },
  {
   "cell_type": "markdown",
   "id": "21990a87-940e-45ca-bbaa-faab028b968f",
   "metadata": {},
   "source": [
    "# 3、将一个单词列表按照单词的首字母分类\n",
    "## 输入：`[\"apple\", \"bat\", \"bar\", \"atom\", \"book\"]`\n",
    "## 输出：`{'a': ['apple', 'atom'], 'b': ['bat', 'bar', 'book']}`"
   ]
  },
  {
   "cell_type": "markdown",
   "id": "b3e04499-150d-414d-8561-511c3a2a2e8d",
   "metadata": {},
   "source": [
    "我的想法是，首先切下来每个组的第一个词，然后搁到列表里，变成集合，我们就得到了无重复的类名的集合，我们下一步再用一个循环并结合刚学的那个dict，构造出我们的新的字典"
   ]
  },
  {
   "cell_type": "code",
   "execution_count": 8,
   "id": "5a19b067-5751-4877-aacc-bc308c9afc2e",
   "metadata": {},
   "outputs": [
    {
     "name": "stdout",
     "output_type": "stream",
     "text": [
      "{'b': ['bat', 'bar', 'book'], 'a': ['apple', 'atom']}\n"
     ]
    }
   ],
   "source": [
    "straaa = [\"apple\", \"bat\", \"bar\", \"atom\", \"book\"]\n",
    "strbbb = []\n",
    "for words in straaa :\n",
    "    strbbb.append(words[0])\n",
    "\n",
    "strbbb_s =set(strbbb)\n",
    "dictaaa = {}\n",
    "for begin in strbbb_s:\n",
    "    dictaaa[begin] = []\n",
    "    for words in straaa:\n",
    "        if words[0] == begin:\n",
    "            dictaaa[begin].append(words)\n",
    "print(dictaaa)"
   ]
  },
  {
   "cell_type": "markdown",
   "id": "269647b3-8506-49cc-b197-a30895892820",
   "metadata": {},
   "source": [
    "# 4、给定一个单词列表，找出这个单词列表中前k个频次最高的单词。\n",
    "## 提示：生成以单词为关键字（key），并将该单词的每一次出现都放入列表中，并以此为值(value)的字典，并对这个字典的value值包含的元素个数进行排序，以此找出这个单词列表中出现频次最高的k个单词。\n",
    "## 比如：单词列表为：`['yes', 'long', 'code', 'yes', 'code', 'baby', 'chrome', 'safari', 'long', 'code', 'body', 'long', 'code']`\n",
    "## 生成的字典为：`{'yes': ['yes', 'yes'], 'long': ['long', 'long', 'long'], 'code': ['code', 'code', 'code', 'code'], 'baby': ['baby'], 'chrome': ['chrome'], 'safari': ['safari'], 'body': ['body']}`\n",
    "## 之后对该字典的value中的列表元素个数进行排序，即可得到前k个频次最高的单词"
   ]
  },
  {
   "cell_type": "markdown",
   "id": "3ae8ac61-564d-4083-9bd0-5b5f55650034",
   "metadata": {},
   "source": [
    "我能不能直接copy上面的代码，然后上面是用首字母匹配，现在是完全匹配，最后再用1里的代码对其进行排序，注意，我们先需要获得item，然后再得到item【1】，因为item是将字典的每个键值对拆成了二元组，我们用item【1】才会访问到这个二元组后面的那个键值对的那个值，此时len（item【1】）才是对应的列表的长度，这个问题一开始我也没发现，然后我就去问ai了，但是你猜怎么着，ai也没给我的代码改对，我后面移除了函数dict后发现似乎item的那个lambda表达式是给出了一个二元组，于是我就尝试这样改，结果改对了"
   ]
  },
  {
   "cell_type": "code",
   "execution_count": 1,
   "id": "9638d091-9a37-4fd2-8ee0-a9befc97ebe5",
   "metadata": {},
   "outputs": [
    {
     "name": "stdout",
     "output_type": "stream",
     "text": [
      "['code', 'long', 'yes', 'safari', 'body', 'chrome', 'baby']\n"
     ]
    }
   ],
   "source": [
    "straaa = ['yes', 'long', 'code', 'yes', 'code', 'baby', 'chrome', 'safari', 'long', 'code', 'body', 'long', 'code']\n",
    "strbbb = []\n",
    "for words in straaa :\n",
    "    strbbb.append(words)\n",
    "\n",
    "strbbb_s =set(strbbb)\n",
    "dictaaa = {}\n",
    "for begin in strbbb_s:\n",
    "    dictaaa[begin] = []\n",
    "    for words in straaa:\n",
    "        if words == begin:\n",
    "            dictaaa[begin].append(words)\n",
    "sorted_strsss = dict(sorted(dictaaa.items(), key=lambda item: len(item[1]), reverse=True))\n",
    "sso = list(sorted_strsss)\n",
    "print(sso)"
   ]
  },
  {
   "cell_type": "markdown",
   "id": "acf094a1-e2f1-4ba7-ac44-427de19aaca6",
   "metadata": {},
   "source": [
    "# 5、二分查找法\n",
    "## 给定一个升序排列的整数数组和一个要查找的目标整数target，查找target第一次出现的下标（从0开始的下标），如果target不在数组中，返回-1。"
   ]
  },
  {
   "cell_type": "code",
   "execution_count": 17,
   "id": "7d0d078d-4b79-46f2-969a-fa42a4889463",
   "metadata": {},
   "outputs": [
    {
     "name": "stdout",
     "output_type": "stream",
     "text": [
      ">>>[2, 3, 6, 15, 24, 28, 33, 39, 54, 61, 65, 65, 65, 66, 66, 73, 73, 78, 82, 92]\n",
      "3\n"
     ]
    }
   ],
   "source": [
    "import random\n",
    "\n",
    "aaa = [random.randint(0, 100) for _ in range(20)]\n",
    "bbb = sorted(aaa)\n",
    "print(f\">>>{bbb}\")\n",
    "\n",
    "\n",
    "def findmachine(numbers, wantFind, low=0, high=None):\n",
    "    if high is None:\n",
    "        high = len(numbers) - 1  \n",
    "\n",
    "    if low > high: \n",
    "        return -1\n",
    "\n",
    "    mid = (low + high) // 2  \n",
    "\n",
    "    if numbers[mid] == wantFind:\n",
    "        return mid\n",
    "    elif numbers[mid] > wantFind:\n",
    "        return findmachine(numbers, wantFind, low, mid - 1) \n",
    "    else:\n",
    "        return findmachine(numbers, wantFind, mid + 1, high)  \n",
    "\n",
    "\n",
    "print(findmachine(bbb, 15))\n"
   ]
  },
  {
   "cell_type": "code",
   "execution_count": null,
   "id": "55a5332e-ee47-4dc7-9a16-f3628660b0d1",
   "metadata": {},
   "outputs": [],
   "source": []
  },
  {
   "cell_type": "code",
   "execution_count": null,
   "id": "4880d6df-9873-4f4b-bbad-adb2acab77ef",
   "metadata": {},
   "outputs": [],
   "source": []
  }
 ],
 "metadata": {
  "kernelspec": {
   "display_name": "Python 3 (ipykernel)",
   "language": "python",
   "name": "python3"
  },
  "language_info": {
   "codemirror_mode": {
    "name": "ipython",
    "version": 3
   },
   "file_extension": ".py",
   "mimetype": "text/x-python",
   "name": "python",
   "nbconvert_exporter": "python",
   "pygments_lexer": "ipython3",
   "version": "3.11.10"
  }
 },
 "nbformat": 4,
 "nbformat_minor": 5
}
