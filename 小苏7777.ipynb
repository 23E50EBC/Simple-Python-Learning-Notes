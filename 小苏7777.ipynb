{
 "cells": [
  {
   "cell_type": "markdown",
   "id": "8feed491-0438-49f8-9daf-d9a0daa72808",
   "metadata": {},
   "source": [
    "# 复习课1，顺带一下拾遗"
   ]
  },
  {
   "cell_type": "markdown",
   "id": "e8004620-8131-4a61-8ebc-6763376f83f9",
   "metadata": {},
   "source": [
    "jupyter提供了不少的魔法命令，譬如%load是把一个文件加载进来，%run是运行后面的文件，注意这些是只能在jupyter notebook里用的，所以我们叫魔法命令\n",
    "\n",
    "还有就是？查看函数的帮助文档或是变量的类型，下面这个例子就是这样的"
   ]
  },
  {
   "cell_type": "code",
   "execution_count": 1,
   "id": "7d98ada0-0ea4-4df9-af8c-b99c5754bc55",
   "metadata": {},
   "outputs": [
    {
     "data": {
      "text/plain": [
       "\u001b[1;31mSignature:\u001b[0m \u001b[0mprint\u001b[0m\u001b[1;33m(\u001b[0m\u001b[1;33m*\u001b[0m\u001b[0margs\u001b[0m\u001b[1;33m,\u001b[0m \u001b[0msep\u001b[0m\u001b[1;33m=\u001b[0m\u001b[1;34m' '\u001b[0m\u001b[1;33m,\u001b[0m \u001b[0mend\u001b[0m\u001b[1;33m=\u001b[0m\u001b[1;34m'\\n'\u001b[0m\u001b[1;33m,\u001b[0m \u001b[0mfile\u001b[0m\u001b[1;33m=\u001b[0m\u001b[1;32mNone\u001b[0m\u001b[1;33m,\u001b[0m \u001b[0mflush\u001b[0m\u001b[1;33m=\u001b[0m\u001b[1;32mFalse\u001b[0m\u001b[1;33m)\u001b[0m\u001b[1;33m\u001b[0m\u001b[1;33m\u001b[0m\u001b[0m\n",
       "\u001b[1;31mDocstring:\u001b[0m\n",
       "Prints the values to a stream, or to sys.stdout by default.\n",
       "\n",
       "sep\n",
       "  string inserted between values, default a space.\n",
       "end\n",
       "  string appended after the last value, default a newline.\n",
       "file\n",
       "  a file-like object (stream); defaults to the current sys.stdout.\n",
       "flush\n",
       "  whether to forcibly flush the stream.\n",
       "\u001b[1;31mType:\u001b[0m      builtin_function_or_method"
      ]
     },
     "metadata": {},
     "output_type": "display_data"
    }
   ],
   "source": [
    "print?"
   ]
  },
  {
   "cell_type": "code",
   "execution_count": 12,
   "id": "8262210c-da5d-4865-bf68-f41ca44aa100",
   "metadata": {},
   "outputs": [
    {
     "data": {
      "text/plain": [
       "\u001b[1;31mType:\u001b[0m        list\n",
       "\u001b[1;31mString form:\u001b[0m [1, 2, 3]\n",
       "\u001b[1;31mLength:\u001b[0m      3\n",
       "\u001b[1;31mDocstring:\u001b[0m  \n",
       "Built-in mutable sequence.\n",
       "\n",
       "If no argument is given, the constructor creates a new empty list.\n",
       "The argument must be an iterable if specified."
      ]
     },
     "metadata": {},
     "output_type": "display_data"
    }
   ],
   "source": [
    "k = [1,2,3]\n",
    "k?"
   ]
  },
  {
   "cell_type": "markdown",
   "id": "714e6143-3edf-43d7-9485-a8a95128609c",
   "metadata": {},
   "source": [
    "特别的展示一下文档字符串是什么，简言之就是仨“之间的东西，python会把这个内容视作帮助文档，在你查这个算法的内容时python会把编者写的帮助文档首先给你找出来"
   ]
  },
  {
   "cell_type": "code",
   "execution_count": 14,
   "id": "effefbb8-93fc-4570-9b98-6d19ae4cb220",
   "metadata": {},
   "outputs": [],
   "source": [
    "def add_numbers(a, b):\n",
    "    \"\"\"\n",
    "    Add two numbers together\n",
    "\n",
    "    Returns\n",
    "    -------\n",
    "    the_sum : type of arguments\n",
    "    \"\"\"\n",
    "    return a + b"
   ]
  },
  {
   "cell_type": "code",
   "execution_count": 15,
   "id": "65f81564-fac3-40aa-8b72-980ab0a6aa89",
   "metadata": {},
   "outputs": [
    {
     "data": {
      "text/plain": [
       "\u001b[1;31mSignature:\u001b[0m \u001b[0madd_numbers\u001b[0m\u001b[1;33m(\u001b[0m\u001b[0ma\u001b[0m\u001b[1;33m,\u001b[0m \u001b[0mb\u001b[0m\u001b[1;33m)\u001b[0m\u001b[1;33m\u001b[0m\u001b[1;33m\u001b[0m\u001b[0m\n",
       "\u001b[1;31mDocstring:\u001b[0m\n",
       "Add two numbers together\n",
       "\n",
       "Returns\n",
       "-------\n",
       "the_sum : type of arguments\n",
       "\u001b[1;31mFile:\u001b[0m      c:\\users\\23e5\\appdata\\local\\temp\\ipykernel_11632\\1411870314.py\n",
       "\u001b[1;31mType:\u001b[0m      function"
      ]
     },
     "metadata": {},
     "output_type": "display_data"
    }
   ],
   "source": [
    "add_numbers?"
   ]
  },
  {
   "cell_type": "markdown",
   "id": "ddd9f687-c325-42d6-979a-881c6282b9e7",
   "metadata": {},
   "source": [
    "如果你试图把整个算法的内容和实现吐出来，就可以用俩？"
   ]
  },
  {
   "cell_type": "code",
   "execution_count": 17,
   "id": "cad53345-02e6-4d1d-8374-c03be1659161",
   "metadata": {},
   "outputs": [
    {
     "data": {
      "text/plain": [
       "\u001b[1;31mSignature:\u001b[0m \u001b[0madd_numbers\u001b[0m\u001b[1;33m(\u001b[0m\u001b[0ma\u001b[0m\u001b[1;33m,\u001b[0m \u001b[0mb\u001b[0m\u001b[1;33m)\u001b[0m\u001b[1;33m\u001b[0m\u001b[1;33m\u001b[0m\u001b[0m\n",
       "\u001b[1;31mSource:\u001b[0m   \n",
       "\u001b[1;32mdef\u001b[0m \u001b[0madd_numbers\u001b[0m\u001b[1;33m(\u001b[0m\u001b[0ma\u001b[0m\u001b[1;33m,\u001b[0m \u001b[0mb\u001b[0m\u001b[1;33m)\u001b[0m\u001b[1;33m:\u001b[0m\u001b[1;33m\n",
       "\u001b[0m    \u001b[1;34m\"\"\"\n",
       "    Add two numbers together\n",
       "\n",
       "    Returns\n",
       "    -------\n",
       "    the_sum : type of arguments\n",
       "    \"\"\"\u001b[0m\u001b[1;33m\n",
       "\u001b[0m    \u001b[1;32mreturn\u001b[0m \u001b[0ma\u001b[0m \u001b[1;33m+\u001b[0m \u001b[0mb\u001b[0m\u001b[1;33m\u001b[0m\u001b[1;33m\u001b[0m\u001b[0m\n",
       "\u001b[1;31mFile:\u001b[0m      c:\\users\\23e5\\appdata\\local\\temp\\ipykernel_11632\\1411870314.py\n",
       "\u001b[1;31mType:\u001b[0m      function"
      ]
     },
     "metadata": {},
     "output_type": "display_data"
    }
   ],
   "source": [
    "add_numbers??"
   ]
  },
  {
   "cell_type": "markdown",
   "id": "7b6bb806-5c59-4377-acd4-1ae2d4568ec1",
   "metadata": {},
   "source": [
    "然后是那个load和run，注意到如果你没写绝对路径，他会从他所在的那个同级文件夹里找你想要的文件，这里的hello。py我提前写了一行内容是print（”hello“）"
   ]
  },
  {
   "cell_type": "code",
   "execution_count": 11,
   "id": "5e179acf-23da-4f72-a455-d37d852c4060",
   "metadata": {},
   "outputs": [
    {
     "name": "stdout",
     "output_type": "stream",
     "text": [
      "hello\n"
     ]
    }
   ],
   "source": [
    "%load hello.py\n",
    "%run hello.py"
   ]
  },
  {
   "cell_type": "markdown",
   "id": "863b6737-50e3-4787-91b3-b50e5908682d",
   "metadata": {},
   "source": [
    "我们之前说过，impact导入的包可以在整个该notebook里用，不区分文本块，这一点在变量定义里是一样的，你可以通过“whos”来看现在我们定义了多少个变量"
   ]
  },
  {
   "cell_type": "code",
   "execution_count": 5,
   "id": "28c44607-5d74-4f38-8672-5678ffd8d035",
   "metadata": {},
   "outputs": [],
   "source": [
    "a = 1\n",
    "b = 2\n",
    "c = 3"
   ]
  },
  {
   "cell_type": "code",
   "execution_count": 6,
   "id": "7d758332-3131-4a4e-9590-0f517eed69a6",
   "metadata": {},
   "outputs": [
    {
     "name": "stdout",
     "output_type": "stream",
     "text": [
      "Variable   Type    Data/Info\n",
      "----------------------------\n",
      "a          int     1\n",
      "b          int     2\n",
      "c          int     3\n"
     ]
    }
   ],
   "source": [
    "whos"
   ]
  },
  {
   "cell_type": "markdown",
   "id": "f2c1d5ea-0458-486b-b9e8-9096d1d27588",
   "metadata": {},
   "source": [
    "### 数据类型\n",
    "\n",
    "你在用python时似乎从来没有重视过数的类型，对吧，我们把int，double，string之类的东西甩到太平洋那边去了，但是他其实还是拥有不同的数据类型的差异的，但python很巧妙的让我们感受不到，举个例子，我们在学c语言时会发现int和double不能加在一起，加一块会报错，但是python不管你这哪的，只要是个数就能加减乘除"
   ]
  },
  {
   "cell_type": "code",
   "execution_count": 19,
   "id": "f8e8ed9d-d14f-4153-ad51-551b784c5aee",
   "metadata": {},
   "outputs": [
    {
     "data": {
      "text/plain": [
       "15.5"
      ]
     },
     "execution_count": 19,
     "metadata": {},
     "output_type": "execute_result"
    }
   ],
   "source": [
    "a = 5\n",
    "b = 10.5\n",
    "a+b"
   ]
  },
  {
   "cell_type": "markdown",
   "id": "17460172-65f9-4fd2-93b2-81892d7b114c",
   "metadata": {},
   "source": [
    "作为反例的，string类型的东西就不能和数相加了"
   ]
  },
  {
   "cell_type": "code",
   "execution_count": 20,
   "id": "4b1bad54-f653-4921-ad00-007baef390e4",
   "metadata": {},
   "outputs": [
    {
     "ename": "TypeError",
     "evalue": "unsupported operand type(s) for +: 'int' and 'str'",
     "output_type": "error",
     "traceback": [
      "\u001b[1;31m---------------------------------------------------------------------------\u001b[0m",
      "\u001b[1;31mTypeError\u001b[0m                                 Traceback (most recent call last)",
      "Cell \u001b[1;32mIn[20], line 3\u001b[0m\n\u001b[0;32m      1\u001b[0m a \u001b[38;5;241m=\u001b[39m \u001b[38;5;241m5\u001b[39m\n\u001b[0;32m      2\u001b[0m b \u001b[38;5;241m=\u001b[39m \u001b[38;5;124m\"\u001b[39m\u001b[38;5;124mhello\u001b[39m\u001b[38;5;124m\"\u001b[39m\n\u001b[1;32m----> 3\u001b[0m a\u001b[38;5;241m+\u001b[39mb\n",
      "\u001b[1;31mTypeError\u001b[0m: unsupported operand type(s) for +: 'int' and 'str'"
     ]
    }
   ],
   "source": [
    "a = 5\n",
    "b = \"hello\"\n",
    "a+b"
   ]
  },
  {
   "cell_type": "markdown",
   "id": "cac9d87b-6e7e-4e69-952e-03d2b770b4b1",
   "metadata": {},
   "source": [
    "在前面我们介绍过，虽然他不能加，但是可以乘，这是python给你提供的一个简便方法，他把一个数乘以字符串视作克隆这个字符串多次"
   ]
  },
  {
   "cell_type": "code",
   "execution_count": 21,
   "id": "bb5ee98a-ee7d-4452-995f-93e6dcf4bc18",
   "metadata": {},
   "outputs": [
    {
     "name": "stdout",
     "output_type": "stream",
     "text": [
      "hellohellohellohellohello\n"
     ]
    },
    {
     "ename": "TypeError",
     "evalue": "can't multiply sequence by non-int of type 'float'",
     "output_type": "error",
     "traceback": [
      "\u001b[1;31m---------------------------------------------------------------------------\u001b[0m",
      "\u001b[1;31mTypeError\u001b[0m                                 Traceback (most recent call last)",
      "Cell \u001b[1;32mIn[21], line 5\u001b[0m\n\u001b[0;32m      3\u001b[0m c \u001b[38;5;241m=\u001b[39m \u001b[38;5;124m\"\u001b[39m\u001b[38;5;124mhello\u001b[39m\u001b[38;5;124m\"\u001b[39m\n\u001b[0;32m      4\u001b[0m \u001b[38;5;28mprint\u001b[39m(a\u001b[38;5;241m*\u001b[39mc)\n\u001b[1;32m----> 5\u001b[0m \u001b[38;5;28mprint\u001b[39m(b\u001b[38;5;241m*\u001b[39mc)\n",
      "\u001b[1;31mTypeError\u001b[0m: can't multiply sequence by non-int of type 'float'"
     ]
    }
   ],
   "source": [
    "a = 5\n",
    "b = 10.5\n",
    "c = \"hello\"\n",
    "print(a*c)\n",
    "print(b*c)"
   ]
  },
  {
   "cell_type": "markdown",
   "id": "cbaf665e-61aa-4224-bf53-caa673f2ba8b",
   "metadata": {},
   "source": [
    "看到了吗？在抛出报错前我先打印了5个hello，这说明5*hello是等于5个hello，但这一简便方法只能对整数操作，上面的报错就是因为我尝试把hello与一个浮点数相乘"
   ]
  },
  {
   "cell_type": "markdown",
   "id": "ab1ac7dc-570e-497d-abac-8591935fc40a",
   "metadata": {},
   "source": [
    "对了，python的数可以存任意大小的数，我们不用操心65535是不是-1"
   ]
  },
  {
   "cell_type": "markdown",
   "id": "f8b4f95e-31bf-4755-8017-e64ae1e25ad1",
   "metadata": {},
   "source": [
    "### 运算"
   ]
  },
  {
   "cell_type": "code",
   "execution_count": null,
   "id": "ade015a8-0342-40d6-b7fc-714e0fe45149",
   "metadata": {},
   "outputs": [],
   "source": [
    "除了常见的那些二元运算符外，python还保留了按位操作，如对int类型的数据，&是按位与，|是按位或，^是按位异或"
   ]
  },
  {
   "cell_type": "code",
   "execution_count": null,
   "id": "b65a7be5-f7f5-4f27-bd4f-844a9ebdca1a",
   "metadata": {},
   "outputs": [],
   "source": [
    "# 举例：对两个整数进行逐位与，和逐位或运算\n",
    "a = bin(5)\n",
    "print(a)\n",
    "\n",
    "b = bin(6)\n",
    "print(b)\n",
    "\n",
    "print(f\"5 & 6的结果是：{5 & 6}，其二进制表达为{bin(5 & 6)}\")\n",
    "print(f\"5 | 6的结果是：{5 | 6}，其二进制表达为{bin(5 | 6)}\")"
   ]
  },
  {
   "cell_type": "markdown",
   "id": "073d4ff4-3460-452a-b0ff-8e0ab2a00d24",
   "metadata": {},
   "source": [
    "然后就是is和none这俩关键词"
   ]
  },
  {
   "cell_type": "code",
   "execution_count": 25,
   "id": "2c81cdf1-e56d-4a06-8f25-e235523be4f3",
   "metadata": {},
   "outputs": [
    {
     "name": "stdout",
     "output_type": "stream",
     "text": [
      "True\n",
      "False\n",
      "True\n",
      "True\n",
      "2860237050048 2860237050048 2860219963008\n"
     ]
    }
   ],
   "source": [
    "# 举例：判断两个变量是否引用同一个对象\n",
    "# \"is\"可以判断两个变量是否引用同一个对象；\n",
    "# \"is not\"可以判断两个对象是不同的\n",
    "a = [1, 2, 3]\n",
    "b = a\n",
    "c = list(a)  # list函数总是创建一个新的python列表（即复制）\n",
    "\n",
    "print(a is b)\n",
    "print(a is c)\n",
    "print(a == c)  # 注意：\"is\" 与 \"==\"是不同的\n",
    "print(a == b)\n",
    "print(id(a),id(b),id(c))  #揭秘环节"
   ]
  },
  {
   "cell_type": "code",
   "execution_count": null,
   "id": "b98cea27-c58a-4afb-b2c2-b997f196d571",
   "metadata": {},
   "outputs": [],
   "source": [
    "# 举例：关于None，None的实例是唯一的\n",
    "a = None\n",
    "b = None\n",
    "print(a is None)\n",
    "print(b is None)\n",
    "print(a is b)\n",
    "print(a is not b)\n",
    "print(a == b)"
   ]
  },
  {
   "cell_type": "code",
   "execution_count": null,
   "id": "8e43c1e1-b3ae-48d0-8349-7986957b91ce",
   "metadata": {},
   "outputs": [],
   "source": []
  },
  {
   "cell_type": "code",
   "execution_count": null,
   "id": "c5f79421-daea-4698-b227-0fea4afccb8d",
   "metadata": {},
   "outputs": [],
   "source": []
  },
  {
   "cell_type": "code",
   "execution_count": null,
   "id": "6b495377-f855-4040-9a0a-6954a01a98a3",
   "metadata": {},
   "outputs": [],
   "source": []
  },
  {
   "cell_type": "code",
   "execution_count": null,
   "id": "ebc8100a-e1f7-4d16-bf64-7269057588d7",
   "metadata": {},
   "outputs": [],
   "source": []
  },
  {
   "cell_type": "code",
   "execution_count": null,
   "id": "d8717c10-0b4a-4a55-8283-14d96cf4fd6d",
   "metadata": {},
   "outputs": [],
   "source": []
  },
  {
   "cell_type": "code",
   "execution_count": null,
   "id": "6fb1d979-f685-47ff-aacf-3ecac9861d98",
   "metadata": {},
   "outputs": [],
   "source": []
  },
  {
   "cell_type": "code",
   "execution_count": null,
   "id": "129891b9-079e-4f94-bbb8-aa238357e382",
   "metadata": {},
   "outputs": [],
   "source": []
  }
 ],
 "metadata": {
  "kernelspec": {
   "display_name": "Genv",
   "language": "python",
   "name": "my_env"
  },
  "language_info": {
   "codemirror_mode": {
    "name": "ipython",
    "version": 3
   },
   "file_extension": ".py",
   "mimetype": "text/x-python",
   "name": "python",
   "nbconvert_exporter": "python",
   "pygments_lexer": "ipython3",
   "version": "3.11.11"
  }
 },
 "nbformat": 4,
 "nbformat_minor": 5
}
