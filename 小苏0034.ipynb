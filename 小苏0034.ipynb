{
 "cells": [
  {
   "cell_type": "markdown",
   "id": "5e0c0351-b1f3-48c0-b1af-c94172b229ae",
   "metadata": {},
   "source": [
    "# 讲一下if语句\n",
    "最简单的条件判断是这样的\n",
    "a==1，在jupyter中，你直接这么写，能直接吐他是真还是假\n",
    "这个==还能直接判断字符串的匹配问题，你输入一个字符串变量，直接就能比较，显然，区分大小写"
   ]
  },
  {
   "cell_type": "code",
   "execution_count": 2,
   "id": "93360b29-5f85-443f-a948-944c503f64c3",
   "metadata": {},
   "outputs": [
    {
     "data": {
      "text/plain": [
       "True"
      ]
     },
     "execution_count": 2,
     "metadata": {},
     "output_type": "execute_result"
    }
   ],
   "source": [
    "a=\"hello\"\n",
    "a==\"hello\""
   ]
  },
  {
   "cell_type": "markdown",
   "id": "ec4707cf-cdd0-4602-9c29-961f66390bb9",
   "metadata": {},
   "source": [
    "之前的字符串变量自带的方法可以返回一个字符串的副本然后你比较副本就可以规避开他区分大小写以实现字符比对,这里不举例子\n",
    "and,true和false他俩也是布尔型变量(首字母大写才是),对,python也有布尔型变量\n",
    "还有什么!=指不等于,>=大于等于,<=小于等于,>大于,<小于"
   ]
  },
  {
   "cell_type": "markdown",
   "id": "bf688f4c-1205-4e27-b292-eb2452371891",
   "metadata": {},
   "source": [
    "一个更重要的东西是,or是一个关键字,and也是关键字,这俩用来布尔运算,就是或和且"
   ]
  },
  {
   "cell_type": "code",
   "execution_count": 4,
   "id": "2a535af6-30d3-4e12-80e9-2bd22a418ad3",
   "metadata": {},
   "outputs": [
    {
     "data": {
      "text/plain": [
       "False"
      ]
     },
     "execution_count": 4,
     "metadata": {},
     "output_type": "execute_result"
    }
   ],
   "source": [
    "aaa=1\n",
    "bbb=0\n",
    "aaa>=bbb and aaa>2\n"
   ]
  },
  {
   "cell_type": "code",
   "execution_count": 5,
   "id": "bcaa6559-3725-4c65-af7e-ec4ce56c2e99",
   "metadata": {},
   "outputs": [
    {
     "data": {
      "text/plain": [
       "True"
      ]
     },
     "execution_count": 5,
     "metadata": {},
     "output_type": "execute_result"
    }
   ],
   "source": [
    "aaa=1\n",
    "bbb=0\n",
    "aaa>=bbb or aaa>2"
   ]
  },
  {
   "cell_type": "markdown",
   "id": "8d3d9682-1e1b-4741-9b90-b5f2200d36a3",
   "metadata": {},
   "source": [
    "in的另一个用法是用来配合一个可迭代的容器,判断某元素是否在这个容器里"
   ]
  },
  {
   "cell_type": "code",
   "execution_count": 6,
   "id": "9c06e5ed-4124-4676-b24a-12f976ebff92",
   "metadata": {},
   "outputs": [
    {
     "data": {
      "text/plain": [
       "True"
      ]
     },
     "execution_count": 6,
     "metadata": {},
     "output_type": "execute_result"
    }
   ],
   "source": [
    "aaa=[1,2,3]\n",
    "3 in aaa"
   ]
  },
  {
   "cell_type": "markdown",
   "id": "ed5efeb4-88f3-4c1d-b28d-12940bc5f739",
   "metadata": {},
   "source": [
    "经典的if-else跟你c语言里一样,但是这里没有大括号,要用:和缩进介导代码块"
   ]
  },
  {
   "cell_type": "code",
   "execution_count": 7,
   "id": "bfeb5c24-5274-4c54-bee7-9de8e2cbbd97",
   "metadata": {},
   "outputs": [
    {
     "name": "stdout",
     "output_type": "stream",
     "text": [
      "aaa!=15\n"
     ]
    }
   ],
   "source": [
    "aaa=10\n",
    "if aaa==15 :\n",
    "    print(\"aaa=15\")\n",
    "\n",
    "else :\n",
    "    print(\"aaa!=15\")"
   ]
  },
  {
   "cell_type": "markdown",
   "id": "f6aed2d7-ab06-49f5-a817-952a5dd3532b",
   "metadata": {},
   "source": [
    "多个分支的采用if-else-if 但是python可以直接写elif"
   ]
  },
  {
   "cell_type": "code",
   "execution_count": 8,
   "id": "12f64f2f-acab-4a50-af26-ebdab0ddf461",
   "metadata": {},
   "outputs": [
    {
     "name": "stdout",
     "output_type": "stream",
     "text": [
      "aaa!=15,and!=12\n"
     ]
    }
   ],
   "source": [
    "aaa=10\n",
    "if aaa==15 :\n",
    "    print(\"aaa=15\")\n",
    "\n",
    "elif aaa==12 :\n",
    "    print(\"aaa==12\")\n",
    "\n",
    "else :\n",
    "    print(\"aaa!=15,and!=12\")"
   ]
  },
  {
   "cell_type": "markdown",
   "id": "8f540d8b-db41-4ff9-b470-8f5239ed7f84",
   "metadata": {},
   "source": [
    "这样写的elif所有的分支只有一个可以被执行,如果你希望满足某个条件就执行,分支可以被执行多个,那就直接if,再if"
   ]
  },
  {
   "cell_type": "code",
   "execution_count": 9,
   "id": "1b6a5f42-c17b-478d-bc3a-c13fa79f3ac0",
   "metadata": {},
   "outputs": [
    {
     "name": "stdout",
     "output_type": "stream",
     "text": [
      "aaa>=15\n",
      "aaa>=12\n"
     ]
    }
   ],
   "source": [
    "aaa=20\n",
    "\n",
    "if aaa>=15 :\n",
    "    print(\"aaa>=15\")\n",
    "\n",
    "if aaa>=12 :\n",
    "    print(\"aaa>=12\")\n",
    "\n",
    "else :\n",
    "    print(\"aaa<12\")"
   ]
  },
  {
   "cell_type": "markdown",
   "id": "bb4c14f1-81ef-477e-b6f3-6c03cc392e0c",
   "metadata": {},
   "source": [
    "一个可迭代容器,如果是空的,作为if的判断,那会返回假,但凡有一个元素,就返回真,简言之,if可以直接判断列表空不空"
   ]
  },
  {
   "cell_type": "code",
   "execution_count": 13,
   "id": "33c55ec9-b71b-4214-9542-94f098a9e870",
   "metadata": {},
   "outputs": [
    {
     "name": "stdout",
     "output_type": "stream",
     "text": [
      "empty\n",
      "yes\n"
     ]
    }
   ],
   "source": [
    "aaa = []\n",
    "if aaa :\n",
    "    print(\"yes\")\n",
    "\n",
    "else :\n",
    "    print(\"empty\")\n",
    "\n",
    "aaa.append(1)\n",
    "\n",
    "if aaa :\n",
    "    print(\"yes\")\n",
    "\n",
    "else :\n",
    "    print(\"empty\")"
   ]
  },
  {
   "cell_type": "markdown",
   "id": "2a245433-f738-46e7-befd-0695766832f4",
   "metadata": {},
   "source": [
    "# 第二部分是字典"
   ]
  },
  {
   "cell_type": "markdown",
   "id": "48cd4b7a-ebdf-4b46-8a8e-eedd429f4ab5",
   "metadata": {},
   "source": [
    "这个也是一个可迭代的对象,他的声明是{},字典里的内容全部以键值对的形式存储,键值对前半部分是键的名字,后半部分是他对应的值,一个字典可以含有很多键值对,逗号是他们的分割\n",
    "\n",
    "这里的键值对的键必须是唯一的,不能有重名的键,访问键对应的值,要用方括号括起来那个键名"
   ]
  },
  {
   "cell_type": "code",
   "execution_count": 15,
   "id": "919ad83d-632b-4f7c-bed6-b022e2afa02e",
   "metadata": {},
   "outputs": [
    {
     "name": "stdout",
     "output_type": "stream",
     "text": [
      "yellow\n",
      "10\n"
     ]
    }
   ],
   "source": [
    "aaa={\"color\": \"yellow\",\"age\": 10}\n",
    "print(aaa[\"color\"])\n",
    "print(aaa[\"age\"])"
   ]
  },
  {
   "cell_type": "markdown",
   "id": "2a452eb8-3811-4ba3-a189-e86af5ac9db4",
   "metadata": {},
   "source": [
    "往已有的字典里添加键值对也非常简单,我们还是按照访问的方式来做,然后一个等号,对这个新的键赋值,同理,你也能这么改"
   ]
  },
  {
   "cell_type": "code",
   "execution_count": 17,
   "id": "6e9988b7-200c-4581-9523-84e59da59afa",
   "metadata": {},
   "outputs": [
    {
     "name": "stdout",
     "output_type": "stream",
     "text": [
      "20\n",
      "30\n"
     ]
    }
   ],
   "source": [
    "aaa={\"color\": \"yellow\",\"age\": 10}\n",
    "aaa[\"weight\"]=20\n",
    "print(aaa[\"weight\"])\n",
    "aaa[\"weight\"]=30\n",
    "print(aaa[\"weight\"])"
   ]
  },
  {
   "cell_type": "markdown",
   "id": "b91582a0-f291-424f-9156-ef8b4a72224d",
   "metadata": {},
   "source": [
    "删除一个元素和你之前从列表里删是一样的,del关键字,这个玩意挺万能的"
   ]
  },
  {
   "cell_type": "code",
   "execution_count": 23,
   "id": "cc2e54ec-1847-4539-a9d2-c43eeb7a3488",
   "metadata": {},
   "outputs": [
    {
     "ename": "KeyError",
     "evalue": "'weight'",
     "output_type": "error",
     "traceback": [
      "\u001b[1;31m---------------------------------------------------------------------------\u001b[0m",
      "\u001b[1;31mKeyError\u001b[0m                                  Traceback (most recent call last)",
      "Cell \u001b[1;32mIn[23], line 3\u001b[0m\n\u001b[0;32m      1\u001b[0m aaa\u001b[38;5;241m=\u001b[39m{\u001b[38;5;124m\"\u001b[39m\u001b[38;5;124mcolor\u001b[39m\u001b[38;5;124m\"\u001b[39m: \u001b[38;5;124m\"\u001b[39m\u001b[38;5;124myellow\u001b[39m\u001b[38;5;124m\"\u001b[39m,\u001b[38;5;124m\"\u001b[39m\u001b[38;5;124mage\u001b[39m\u001b[38;5;124m\"\u001b[39m: \u001b[38;5;241m10\u001b[39m,\u001b[38;5;124m\"\u001b[39m\u001b[38;5;124mweight\u001b[39m\u001b[38;5;124m\"\u001b[39m:\u001b[38;5;241m20\u001b[39m}\n\u001b[0;32m      2\u001b[0m \u001b[38;5;28;01mdel\u001b[39;00m aaa[\u001b[38;5;124m\"\u001b[39m\u001b[38;5;124mweight\u001b[39m\u001b[38;5;124m\"\u001b[39m]\n\u001b[1;32m----> 3\u001b[0m \u001b[38;5;28mprint\u001b[39m(aaa[\u001b[38;5;124m\"\u001b[39m\u001b[38;5;124mweight\u001b[39m\u001b[38;5;124m\"\u001b[39m])\n",
      "\u001b[1;31mKeyError\u001b[0m: 'weight'"
     ]
    }
   ],
   "source": [
    "aaa={\"color\": \"yellow\",\"age\": 10,\"weight\":20}\n",
    "del aaa[\"weight\"]\n",
    "print(aaa[\"weight\"])"
   ]
  },
  {
   "cell_type": "markdown",
   "id": "c7f8f841-8ac4-4812-8e05-3d4fba7d42c4",
   "metadata": {},
   "source": [
    "还有一种访问的方式是get方法,这就是学院派,他的一个好处就是你访问一个字典里没有的键值对的时候,上面那个方法会报错,但是他可以在你试图进行这个操作的时候,返回你一个默认值,注意的是这个默认值可为空,空的时候返回一个none,对了,none也是python的一个关键字"
   ]
  },
  {
   "cell_type": "code",
   "execution_count": 21,
   "id": "3225a485-bec2-45cd-b3da-5d789dbeada5",
   "metadata": {},
   "outputs": [
    {
     "name": "stdout",
     "output_type": "stream",
     "text": [
      "yellow\n",
      "no\n",
      "None\n"
     ]
    }
   ],
   "source": [
    "aaa={\"color\": \"yellow\",\"age\": 10}\n",
    "aaa_c=aaa.get(\"color\")\n",
    "print(aaa_c)\n",
    "aaa={\"color\": \"yellow\",\"age\": 10}\n",
    "aaa_w=aaa.get(\"weight\",\"no\")\n",
    "print(aaa_w)\n",
    "aaa={\"color\": \"yellow\",\"age\": 10}\n",
    "aaa_x=aaa.get(\"xxx\")\n",
    "print(aaa_x)"
   ]
  },
  {
   "cell_type": "markdown",
   "id": "a881deec-57b6-4b41-84bb-d2191c3fe821",
   "metadata": {},
   "source": [
    "遍历这个字典同样可以用for循环,但是这时你只能得到键名,如果你希望获得值,那么你可以用values方法,想得到键,除了前面的方法外,还能用key方法\n",
    "\n",
    "再若想得到值,同时获得键,那你可以用items方法,这个方法会把键值对拆成一个一个元组,再吐出来,python会很智能的把键值对按照你临时变量的顺序与之赋值"
   ]
  },
  {
   "cell_type": "code",
   "execution_count": 39,
   "id": "14605ca2-f462-4f76-8e86-6ef58a42887e",
   "metadata": {},
   "outputs": [
    {
     "name": "stdout",
     "output_type": "stream",
     "text": [
      "color\n",
      "age\n",
      "weight\n",
      "\n",
      "and all>>>>\n",
      "color\n",
      "yellow\n",
      "age\n",
      "10\n",
      "weight\n",
      "20\n",
      "\n",
      "values only>>>>\n",
      "yellow\n",
      "10\n",
      "20\n",
      "\n",
      "keys only>>>>\n",
      "color\n",
      "age\n",
      "weight\n"
     ]
    }
   ],
   "source": [
    "aaa={\"color\": \"yellow\",\"age\": 10,\"weight\":20}\n",
    "for inf in aaa :\n",
    "    print(inf)\n",
    "\n",
    "print('\\nand all>>>>')\n",
    "\n",
    "for key,msg in aaa.items() :\n",
    "    print(key)\n",
    "    print(msg)\n",
    "\n",
    "print('\\nvalues only>>>>')\n",
    "\n",
    "for mmm in aaa.values() :\n",
    "    print(mmm)\n",
    "\n",
    "print('\\nkeys only>>>>')\n",
    "\n",
    "for kkk in aaa.keys() :\n",
    "    print(kkk)\n",
    "    "
   ]
  },
  {
   "cell_type": "markdown",
   "id": "d04e116b-95c7-4038-a511-f3763736e829",
   "metadata": {},
   "source": [
    "字典和列表可以嵌套,很显然他可以嵌套,因为都是元素,正如列表里套列表的那个,字典也可以套字典"
   ]
  },
  {
   "cell_type": "code",
   "execution_count": 44,
   "id": "d64d035b-1406-4195-a0cf-950ce95acbb8",
   "metadata": {},
   "outputs": [
    {
     "data": {
      "text/plain": [
       "{'base': {'F_name': 'wang', 'L_name': 'yu'},\n",
       " 'added': {'age': 18, 'gender': 'man'}}"
      ]
     },
     "execution_count": 44,
     "metadata": {},
     "output_type": "execute_result"
    }
   ],
   "source": [
    "aaa={\"base\":{\n",
    "        \"F_name\":\"wang\",\n",
    "        \"L_name\":\"yu\"},\n",
    "     \"added\":{\n",
    "         \"age\":18,\n",
    "         \"gender\":\"man\"}\n",
    "    }\n",
    "aaa\n"
   ]
  },
  {
   "cell_type": "code",
   "execution_count": null,
   "id": "5fedd5a8-42b7-48c5-a3e7-385024531f25",
   "metadata": {},
   "outputs": [],
   "source": []
  },
  {
   "cell_type": "markdown",
   "id": "fecf1e99-d405-4fb0-bab0-759202dc1574",
   "metadata": {},
   "source": [
    "# 还有一个是集合\n",
    "相异于前面三者的,集合里的元素不允许重复,他的声明就是字典砍掉键值对,因为字典的元素是无重复的,那么你即使声明了一个重复的元素,也会给你消掉,然后set方法可以把列表转换成集合,这个操作会直接消除掉相同的元素"
   ]
  },
  {
   "cell_type": "code",
   "execution_count": 41,
   "id": "952dda76-42f8-4ff7-b3b2-aac6cba8d92e",
   "metadata": {},
   "outputs": [
    {
     "data": {
      "text/plain": [
       "{'bye', 'hello'}"
      ]
     },
     "execution_count": 41,
     "metadata": {},
     "output_type": "execute_result"
    }
   ],
   "source": [
    "sss={\"hello\",\"bye\",\"hello\"}\n",
    "sss"
   ]
  },
  {
   "cell_type": "code",
   "execution_count": 43,
   "id": "e0588a6f-89bb-45d5-b02c-0165d00ed2ad",
   "metadata": {},
   "outputs": [
    {
     "name": "stdout",
     "output_type": "stream",
     "text": [
      "['hello', 'bye', 'hello']\n",
      "{'bye', 'hello'}\n"
     ]
    }
   ],
   "source": [
    "sss=[\"hello\",\"bye\",\"hello\"]\n",
    "print(sss)\n",
    "print(set(sss))\n"
   ]
  },
  {
   "cell_type": "code",
   "execution_count": null,
   "id": "f3df6582-cf2a-4d14-9c7e-1d010537ce6d",
   "metadata": {},
   "outputs": [],
   "source": []
  },
  {
   "cell_type": "code",
   "execution_count": null,
   "id": "3321677e-0f83-4a57-b084-db6b85cdd4ab",
   "metadata": {},
   "outputs": [],
   "source": []
  },
  {
   "cell_type": "code",
   "execution_count": null,
   "id": "f3c3142e-7fdb-4e33-91df-9b1dd0d03526",
   "metadata": {},
   "outputs": [],
   "source": []
  },
  {
   "cell_type": "code",
   "execution_count": null,
   "id": "8a04aeb4-efbe-466e-a744-5fd0c2d02b3c",
   "metadata": {},
   "outputs": [],
   "source": []
  },
  {
   "cell_type": "code",
   "execution_count": null,
   "id": "5b1872e6-534c-4f6e-a0ea-47fbd88b77de",
   "metadata": {},
   "outputs": [],
   "source": []
  },
  {
   "cell_type": "code",
   "execution_count": null,
   "id": "80373d6f-6560-4dd8-b5c3-82f391435e99",
   "metadata": {},
   "outputs": [],
   "source": []
  },
  {
   "cell_type": "code",
   "execution_count": null,
   "id": "7edc9f60-d2b3-49c5-a675-f844cb30cd5b",
   "metadata": {},
   "outputs": [],
   "source": []
  },
  {
   "cell_type": "code",
   "execution_count": null,
   "id": "89df5d9f-034f-48e9-9828-caf04224ffc8",
   "metadata": {},
   "outputs": [],
   "source": []
  },
  {
   "cell_type": "code",
   "execution_count": null,
   "id": "bd8f8c60-1812-4336-9639-cb40a2b0614b",
   "metadata": {},
   "outputs": [],
   "source": []
  },
  {
   "cell_type": "code",
   "execution_count": null,
   "id": "6331f533-14f7-492a-8360-d56acb49190f",
   "metadata": {},
   "outputs": [],
   "source": []
  },
  {
   "cell_type": "code",
   "execution_count": null,
   "id": "6194274d-864a-4fe1-9da5-ad34726b5cb6",
   "metadata": {},
   "outputs": [],
   "source": []
  },
  {
   "cell_type": "code",
   "execution_count": null,
   "id": "484a53af-555f-46ab-b475-19c2177c02d1",
   "metadata": {},
   "outputs": [],
   "source": []
  },
  {
   "cell_type": "code",
   "execution_count": null,
   "id": "cdc8f5cd-0037-4c00-bb7b-e4a91cac4a05",
   "metadata": {},
   "outputs": [],
   "source": []
  },
  {
   "cell_type": "code",
   "execution_count": null,
   "id": "69e467f3-b2c8-4dac-b84d-f9f84fadeae5",
   "metadata": {},
   "outputs": [],
   "source": []
  },
  {
   "cell_type": "code",
   "execution_count": null,
   "id": "6a0152cd-2854-4dbe-a49c-e89b71b91871",
   "metadata": {},
   "outputs": [],
   "source": []
  },
  {
   "cell_type": "code",
   "execution_count": null,
   "id": "9bf13c30-88c0-4739-a663-dd3eef9a4c16",
   "metadata": {},
   "outputs": [],
   "source": []
  },
  {
   "cell_type": "code",
   "execution_count": null,
   "id": "fc7f41e2-e5d3-4723-9251-5e648c20d1d5",
   "metadata": {},
   "outputs": [],
   "source": []
  }
 ],
 "metadata": {
  "kernelspec": {
   "display_name": "Python 3 (ipykernel)",
   "language": "python",
   "name": "python3"
  },
  "language_info": {
   "codemirror_mode": {
    "name": "ipython",
    "version": 3
   },
   "file_extension": ".py",
   "mimetype": "text/x-python",
   "name": "python",
   "nbconvert_exporter": "python",
   "pygments_lexer": "ipython3",
   "version": "3.11.10"
  }
 },
 "nbformat": 4,
 "nbformat_minor": 5
}
